{
 "cells": [
  {
   "cell_type": "markdown",
   "metadata": {},
   "source": [
    "## Suffixes"
   ]
  },
  {
   "cell_type": "code",
   "execution_count": 1,
   "metadata": {},
   "outputs": [
    {
     "data": {
      "text/plain": [
       "'C:\\\\Users\\\\simon.garisch\\\\Desktop\\\\git\\\\pytypist'"
      ]
     },
     "execution_count": 1,
     "metadata": {},
     "output_type": "execute_result"
    }
   ],
   "source": [
    "import os\n",
    "\n",
    "curr_dire = os.getcwd()\n",
    "path = os.path.join(curr_dire, \"..\")\n",
    "os.chdir(path)\n",
    "os.getcwd()"
   ]
  },
  {
   "cell_type": "code",
   "execution_count": 2,
   "metadata": {},
   "outputs": [],
   "source": [
    "import pytypist"
   ]
  },
  {
   "cell_type": "code",
   "execution_count": 3,
   "metadata": {},
   "outputs": [],
   "source": [
    "words = pytypist.words.collect_words()"
   ]
  },
  {
   "cell_type": "code",
   "execution_count": 7,
   "metadata": {},
   "outputs": [],
   "source": [
    "from collections import Counter\n",
    "\n",
    "suffixes = []\n",
    "\n",
    "for word in words:\n",
    "    if len(word) >= 3:\n",
    "        suffixes.append(word[-3:])\n",
    "\n",
    "suffixes_counter = Counter(suffixes)"
   ]
  },
  {
   "cell_type": "code",
   "execution_count": 9,
   "metadata": {},
   "outputs": [],
   "source": [
    "#suffixes_counter"
   ]
  },
  {
   "cell_type": "code",
   "execution_count": 12,
   "metadata": {},
   "outputs": [],
   "source": [
    "suffixes_dict = {k:v for k,v in suffixes_counter.items() if v >= 1000}"
   ]
  },
  {
   "cell_type": "code",
   "execution_count": 13,
   "metadata": {},
   "outputs": [
    {
     "data": {
      "text/plain": [
       "'age ant ard ary ate ble bly cal dae ded der dly ely ent ers ery ess est ful ged gly hed her hip ial ian ide ied ier ies ike ine ing ion ise ish ism ist ite ity ium ive ize ked ker lar led ler les lle lly man nal nce ned ner nes ngs nia nic nts ogy oid one ons orm ory ous ped ral red ria ric sed ses sis sly sts tal ted ter tes tic tis tly ton tor ure zed'"
      ]
     },
     "execution_count": 13,
     "metadata": {},
     "output_type": "execute_result"
    }
   ],
   "source": [
    "keys = list(set([key.lower() for key in suffixes_dict.keys()]))\n",
    "\n",
    "\" \".join(sorted(keys))"
   ]
  },
  {
   "cell_type": "code",
   "execution_count": 14,
   "metadata": {},
   "outputs": [],
   "source": [
    "from pytypist.words import collect_words_ending_with\n",
    "\n",
    "three_letter_suffix_words = []\n",
    "\n",
    "for key in keys:\n",
    "    suffix_words = sorted(collect_words_ending_with(key))\n",
    "    subset = []\n",
    "    for word in suffix_words:\n",
    "        if \".\" not in word and \"-\" not in word and \"'\" not in word:\n",
    "            if len(word) >=3 and len(word) <= 5:\n",
    "                subset.append(word)\n",
    "    if len(subset) > 4:\n",
    "        subset = subset[:5]\n",
    "    three_letter_suffix_words.extend(subset)\n"
   ]
  },
  {
   "cell_type": "code",
   "execution_count": 15,
   "metadata": {},
   "outputs": [
    {
     "data": {
      "text/plain": [
       "'aahed abate abide abied abies able abler ables ably abner absis acal acate acers ached acher acier acies acing acity acker acned acnes acone acred acted actis acton actor adage added adder ader adest adine adion adlar adler adman adria adure aeons aeria aeric aery afric after afton agate age aged agent agers aging agism agist agler agly agnes agone agons agral agria agric aide aided aider aiery ailed aine aion aired aitis aked aker akers aking akure alage alant alar alard alary alate alded alder ales alike aline alish alist alite ality alive alle aller ally alman alogy aloid alone alric alter altes altis alton alure aman amant amary amate amble ament amery amess amide amies amine amish amite amity amman amnia amnic amory anal ance anded ander anent anes ania anion anise anker annal annia anous ant antal anted antes antic antis anton ants aoide aotes aped apers apery apian aping apish apism apium apses apsis aptal apter aptly apure arage ard ared arent arest aria arian aric aries arion arise arish arist arite arium arles arman aroid arria arses arsis artal arter artic artly ary ashed asher asian aside asine asis asked asker asses assis aster aston astor atal ated ately ates atic ating ation ative atone ator atory attal attic audly aunts aural autor avant avers avery avian avner avoid award awest awful awned awner axial axite axled axles axoid axone axons ayous azons azral azure bable badly baize baked baker baled baler bales bally banal baned banes bangs bania bant bard bared bary based bases basts bated bates batis bator beard beent beest belar belle belly bely benes benia benic bents bess bests bible bided bier bigly bike biked bille billy binal bints biped bise bises bish bist bite bited bize ble bled bless blest blier blist bocal bogy boid boise bolar boled bolly bonce boned boner bongs bons boogy boral bored brage bress brian brier bries brike brise brize bunce bungs bunts bused busts butic byous caged caked calle canal caned caner caped cary cased casts cecal celle cence ceral cess cher chip chive chous cists city cive cize clar clive conic coped corm cory cosed cozed cried crier cynic dance dangs danic dazed decal deism deity dely died dike dings dogly dogy doped dorm dory dosed dozed dried ducal eably eched ecize edged eely egged elogy emory enorm enzed eous esher ether faial fatly fazed feely fied fike fitly foism form ful gaged glial godly hed hip hotly ial idae idism idium idly iform ilial ilium ium lagly lesly ludly misly nobly phip pigly sably ship ubly unhip unsly woful'"
      ]
     },
     "execution_count": 15,
     "metadata": {},
     "output_type": "execute_result"
    }
   ],
   "source": [
    "\" \".join(sorted(three_letter_suffix_words))"
   ]
  },
  {
   "cell_type": "markdown",
   "metadata": {},
   "source": [
    "***"
   ]
  }
 ],
 "metadata": {
  "kernelspec": {
   "display_name": "py36",
   "language": "python",
   "name": "py36"
  },
  "language_info": {
   "codemirror_mode": {
    "name": "ipython",
    "version": 3
   },
   "file_extension": ".py",
   "mimetype": "text/x-python",
   "name": "python",
   "nbconvert_exporter": "python",
   "pygments_lexer": "ipython3",
   "version": "3.6.6"
  }
 },
 "nbformat": 4,
 "nbformat_minor": 2
}
