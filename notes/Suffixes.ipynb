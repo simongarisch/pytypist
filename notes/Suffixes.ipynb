{
 "cells": [
  {
   "cell_type": "markdown",
   "metadata": {},
   "source": [
    "## Suffixes"
   ]
  },
  {
   "cell_type": "code",
   "execution_count": 1,
   "metadata": {},
   "outputs": [
    {
     "data": {
      "text/plain": [
       "'C:\\\\Users\\\\simon.garisch\\\\Desktop\\\\git\\\\pytypist'"
      ]
     },
     "execution_count": 1,
     "metadata": {},
     "output_type": "execute_result"
    }
   ],
   "source": [
    "import os\n",
    "\n",
    "curr_dire = os.getcwd()\n",
    "path = os.path.join(curr_dire, \"..\")\n",
    "os.chdir(path)\n",
    "os.getcwd()"
   ]
  },
  {
   "cell_type": "code",
   "execution_count": 2,
   "metadata": {},
   "outputs": [],
   "source": [
    "import pytypist"
   ]
  },
  {
   "cell_type": "code",
   "execution_count": 3,
   "metadata": {},
   "outputs": [],
   "source": [
    "words = pytypist.words.collect_words()"
   ]
  },
  {
   "cell_type": "code",
   "execution_count": 4,
   "metadata": {},
   "outputs": [],
   "source": [
    "from collections import Counter\n",
    "\n",
    "suffixes = []\n",
    "\n",
    "for word in words:\n",
    "    if len(word) >= 3:\n",
    "        suffixes.append(word[-3:])\n",
    "\n",
    "suffixes_counter = Counter(suffixes)"
   ]
  },
  {
   "cell_type": "code",
   "execution_count": 5,
   "metadata": {},
   "outputs": [],
   "source": [
    "#suffixes_counter"
   ]
  },
  {
   "cell_type": "code",
   "execution_count": 6,
   "metadata": {},
   "outputs": [],
   "source": [
    "suffixes_dict = {k:v for k,v in suffixes_counter.items() if v >= 1000}"
   ]
  },
  {
   "cell_type": "code",
   "execution_count": 7,
   "metadata": {},
   "outputs": [
    {
     "data": {
      "text/plain": [
       "'age ant ard ary ate ble bly cal dae ded der dly ely ent ers ery ess est ful ged gly hed her hip ial ian ide ied ier ies ike ine ing ion ise ish ism ist ite ity ium ive ize ked ker lar led ler les lle lly man nal nce ned ner nes ngs nia nic nts ogy oid one ons orm ory ous ped ral red ria ric sed ses sis sly sts tal ted ter tes tic tis tly ton tor ure zed'"
      ]
     },
     "execution_count": 7,
     "metadata": {},
     "output_type": "execute_result"
    }
   ],
   "source": [
    "keys = list(set([key.lower() for key in suffixes_dict.keys()]))\n",
    "\n",
    "\" \".join(sorted(keys))"
   ]
  },
  {
   "cell_type": "code",
   "execution_count": 13,
   "metadata": {},
   "outputs": [],
   "source": [
    "from pytypist.words import collect_words_ending_with\n",
    "\n",
    "three_letter_suffix_words = []\n",
    "\n",
    "for key in keys:\n",
    "    suffix_words = sorted(collect_words_ending_with(key))\n",
    "    subset = []\n",
    "    for word in suffix_words:\n",
    "        if \".\" not in word and \"-\" not in word and \"'\" not in word:\n",
    "            if len(word) >=3 and len(word) <= 6:\n",
    "                subset.append(word)\n",
    "    if len(subset) > 4:\n",
    "        subset = subset[:5]\n",
    "    three_letter_suffix_words.extend(subset)\n"
   ]
  },
  {
   "cell_type": "code",
   "execution_count": 14,
   "metadata": {},
   "outputs": [
    {
     "data": {
      "text/plain": [
       "'abases abuses amuses anises anuses aberia acoria adria aeria agria adrial aecial aerial atrial axial ably babbly bubbly burbly cobbly abates acates acetes acutes aeetes aboard adward afeard alard allard ally anally bailly bally belly abide aide alcide aldide alkide abate abbate ablate acate achate absist ageist agist algist alist aceric aeric afric agaric agric alike alsike axlike belike bike acal afocal amical apical bancal abbess abcess access adless agness abatis actis adatis aitis altis adenia adonia agonia akania amania agings bangs beings bhangs bongs ageism agism apism autism babism agonal anal annal atonal avenal abator actor astor ator auctor acred adored aired aldred alfred adlar adular alar alular apolar accise advise agrise aguise aloise abkary alary amary ambary angary ashely astely ately barely basely acned alined atoned awned baned aboral adoral agral amaral amiral abaton ackton acton adyton afton abeles ables addles aisles ales acity acrity acuity ality amity chip exship hip inship phip achage adage aerage age alage adance ance avance bonce bounce abient absent accent adient adrent aged badged bagged banged barged action adion aion aition albion ackman adman aidman airman alcman aidant alant amant amiant ant agents alants aments ants aunts abies acies aeries affies aggies acidly agedly aridly audly avidly beworm biform corm deform deworm actium aecium aegium allium apium algoid aloid apioid aroid atloid aery aiery almery ambery amery aahed ached arched ashed bached active alive argive arrive ative aahing abying aching acing acting abler ackler adler agler aller addled ailed aisled ambled aneled abrine acoine actine adine aedine abanic acinic aconic adonic aeonic acers adders afters agers aggers abased abused amused arised axised acone agone alone ancone antone aptly artly auntly bently boatly bassly brusly grisly lesly measly aidful aimful armful artful awful acnes agenes agnes agones akenes accite aceite acmite acrite afrite adcons aeons agons alfons allons aked arcked asked awaked backed abner aliner almner atoner avener apidae boidae caudae cnidae idae absis anesis apsis arsis asis abided aboded added aided alded aliped aped beeped besped biped agazed amazed baized blazed boozed actian adrian aetian albian alpian acker aker anker asker backer adaize agnize artize assize baize aceous acious aldous algous almous able agible alible amable amble adelle alle amalle bealle belle alogy bogy boogy dilogy dogy abbest abdest ablest adest aggest acher aether anther archer arther abider acider adder ader aider abater acater achter acuter after achier acier aerier airier allier abatic acetic anetic antic aortic abjure acture adjure adure ajoure agly bigly bragly coggly daggly abied aeried affied allied armied agists angsts basts beasts bests achish aguish airish alish amish acetal adital afetal amytal antal actory amory arbory armory atory abated acted airted alated amated'"
      ]
     },
     "execution_count": 14,
     "metadata": {},
     "output_type": "execute_result"
    }
   ],
   "source": [
    "\" \".join(three_letter_suffix_words)"
   ]
  },
  {
   "cell_type": "code",
   "execution_count": 12,
   "metadata": {},
   "outputs": [
    {
     "data": {
      "text/plain": [
       "['abatage',\n",
       " 'abattage',\n",
       " 'aboardage',\n",
       " 'abthanage',\n",
       " 'abusage',\n",
       " 'accourage',\n",
       " 'achage',\n",
       " 'acierage',\n",
       " 'acreage',\n",
       " 'adage']"
      ]
     },
     "execution_count": 12,
     "metadata": {},
     "output_type": "execute_result"
    }
   ],
   "source": [
    "collect_words_ending_with(\"age\")[:10]"
   ]
  },
  {
   "cell_type": "markdown",
   "metadata": {},
   "source": [
    "***"
   ]
  }
 ],
 "metadata": {
  "kernelspec": {
   "display_name": "py36",
   "language": "python",
   "name": "py36"
  },
  "language_info": {
   "codemirror_mode": {
    "name": "ipython",
    "version": 3
   },
   "file_extension": ".py",
   "mimetype": "text/x-python",
   "name": "python",
   "nbconvert_exporter": "python",
   "pygments_lexer": "ipython3",
   "version": "3.6.6"
  }
 },
 "nbformat": 4,
 "nbformat_minor": 2
}
