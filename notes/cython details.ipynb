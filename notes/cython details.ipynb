{
 "cells": [
  {
   "cell_type": "markdown",
   "metadata": {},
   "source": [
    "## Cell speed"
   ]
  },
  {
   "cell_type": "code",
   "execution_count": 1,
   "metadata": {},
   "outputs": [],
   "source": [
    "%load_ext Cython"
   ]
  },
  {
   "cell_type": "code",
   "execution_count": 12,
   "metadata": {},
   "outputs": [],
   "source": [
    "def pyadd(a, b):\n",
    "    return a + b\n"
   ]
  },
  {
   "cell_type": "code",
   "execution_count": 9,
   "metadata": {},
   "outputs": [],
   "source": [
    "%%cython\n",
    "\n",
    "def cyadd(int a, int b):\n",
    "    return a + b\n"
   ]
  },
  {
   "cell_type": "code",
   "execution_count": 10,
   "metadata": {},
   "outputs": [
    {
     "name": "stdout",
     "output_type": "stream",
     "text": [
      "95.7 ns ± 5.38 ns per loop (mean ± std. dev. of 7 runs, 10000000 loops each)\n"
     ]
    }
   ],
   "source": [
    "%%timeit\n",
    "pyadd(2,2)"
   ]
  },
  {
   "cell_type": "code",
   "execution_count": 11,
   "metadata": {},
   "outputs": [
    {
     "name": "stdout",
     "output_type": "stream",
     "text": [
      "81.5 ns ± 14.5 ns per loop (mean ± std. dev. of 7 runs, 10000000 loops each)\n"
     ]
    }
   ],
   "source": [
    "%%timeit\n",
    "cyadd(2,2)"
   ]
  },
  {
   "cell_type": "markdown",
   "metadata": {},
   "source": [
    "## A practical example"
   ]
  },
  {
   "cell_type": "code",
   "execution_count": 24,
   "metadata": {},
   "outputs": [],
   "source": [
    "from PyQt5 import QtCore\n",
    "\n",
    "\n",
    "class TypingInputHandler:\n",
    "    hit_color = \"green\"\n",
    "    miss_color = \"red\"\n",
    "\n",
    "    def refresh(self, lesson_name=None, target_text=None):\n",
    "        self.lesson_name = lesson_name\n",
    "        self.hits = self.miss = 0\n",
    "        self.accuracy = 0\n",
    "        self.entered_text = \"\"\n",
    "        self.target_text = target_text\n",
    "        self.char_comparison_list = []\n",
    "        self.finished = False\n",
    "        if target_text is not None:\n",
    "            self.display_text = '<span style=\"color:{}\">{}</span>'.format(\n",
    "                self.hit_color, self.target_text\n",
    "            )\n",
    "        else:\n",
    "            self.display_text = \"\"\n",
    "\n",
    "    def process_key_press(self, event):\n",
    "        target_text = self.target_text\n",
    "        if target_text is None:\n",
    "            return\n",
    "        event_key = event.key()\n",
    "\n",
    "        if event_key == QtCore.Qt.Key_Backspace:\n",
    "            if len(self.entered_text) > 0:\n",
    "                self.entered_text = self.entered_text[:-1]\n",
    "                self.char_comparison_list = self.char_comparison_list[:-1]\n",
    "        else:\n",
    "            char_entered = event.text()\n",
    "            if len(char_entered) == 0:\n",
    "                return\n",
    "            self.entered_text += char_entered\n",
    "            len_entered = len(self.entered_text)\n",
    "            char_target = target_text[len_entered-1]\n",
    "            if char_entered == char_target:\n",
    "                color = self.hit_color\n",
    "                self.hits += 1\n",
    "            else:\n",
    "                color = self.miss_color\n",
    "                self.miss += 1\n",
    "                # update our records for this typing error\n",
    "                typing_error = TypingError(\n",
    "                    self.lesson_name, char_entered, char_target\n",
    "                )\n",
    "                task = SaveTypingErrorsTask(typing_error)\n",
    "                thread_pool.start(task)\n",
    "                # replace red (incorrect) spaces with red asterix\n",
    "                if char_target == \" \":\n",
    "                    char_target = \"*\"\n",
    "            char_text = '<span style=\"color:{}\">{}</span>'.format(\n",
    "                color, char_target\n",
    "            )\n",
    "\n",
    "            self.accuracy = int(self.hits / (self.hits + self.miss) * 100)\n",
    "            self.char_comparison_list.append(char_text)\n",
    "\n",
    "        entered_text = \"\".join(self.char_comparison_list)\n",
    "        remaining_text = target_text[len(self.entered_text):]\n",
    "        self.display_text = entered_text + remaining_text\n",
    "        if len(self.entered_text) >= len(target_text):\n",
    "            self.finished = True\n"
   ]
  },
  {
   "cell_type": "code",
   "execution_count": 38,
   "metadata": {},
   "outputs": [
    {
     "data": {
      "text/plain": [
       "<__main__.Event at 0x23b6604d320>"
      ]
     },
     "execution_count": 38,
     "metadata": {},
     "output_type": "execute_result"
    }
   ],
   "source": [
    "from collections import namedtuple\n",
    "\n",
    "\n",
    "class Event:\n",
    "    def __init__(self, key, text):\n",
    "        self._key, self._text = key, text\n",
    "\n",
    "    def key(self):\n",
    "        return self._key\n",
    "\n",
    "    def text(self):\n",
    "        return self._text\n",
    "\n",
    "\n",
    "event = Event(None, \"B\")\n",
    "event"
   ]
  },
  {
   "cell_type": "code",
   "execution_count": 39,
   "metadata": {},
   "outputs": [
    {
     "data": {
      "text/plain": [
       "<__main__.TypingInputHandler at 0x23b661009b0>"
      ]
     },
     "execution_count": 39,
     "metadata": {},
     "output_type": "execute_result"
    }
   ],
   "source": [
    "handler = TypingInputHandler()\n",
    "handler"
   ]
  },
  {
   "cell_type": "code",
   "execution_count": 42,
   "metadata": {},
   "outputs": [
    {
     "name": "stdout",
     "output_type": "stream",
     "text": [
      "57.5 µs ± 3.38 µs per loop (mean ± std. dev. of 7 runs, 10000 loops each)\n"
     ]
    }
   ],
   "source": [
    "%%timeit\n",
    "handler.refresh(lesson_name=\"Blah\", target_text=\"Blah blah blah blah\")\n",
    "for char in handler.target_text:\n",
    "    event = Event(None, char)\n",
    "    handler.process_key_press(event)\n"
   ]
  },
  {
   "cell_type": "code",
   "execution_count": 41,
   "metadata": {},
   "outputs": [
    {
     "data": {
      "text/plain": [
       "True"
      ]
     },
     "execution_count": 41,
     "metadata": {},
     "output_type": "execute_result"
    }
   ],
   "source": [
    "handler.finished"
   ]
  },
  {
   "cell_type": "code",
   "execution_count": null,
   "metadata": {},
   "outputs": [],
   "source": [
    "%%cython\n",
    "from PyQt5 import QtCore\n",
    "\n",
    "\n",
    "class TypingInputHandler:\n",
    "    hit_color = \"green\"\n",
    "    miss_color = \"red\"\n",
    "\n",
    "    def refresh(self, lesson_name=None, target_text=None):\n",
    "        self.lesson_name = lesson_name\n",
    "        self.hits = self.miss = 0\n",
    "        self.accuracy = 0\n",
    "        self.entered_text = \"\"\n",
    "        self.target_text = target_text\n",
    "        self.char_comparison_list = []\n",
    "        self.finished = False\n",
    "        if target_text is not None:\n",
    "            self.display_text = '<span style=\"color:{}\">{}</span>'.format(\n",
    "                self.hit_color, self.target_text\n",
    "            )\n",
    "        else:\n",
    "            self.display_text = \"\"\n",
    "\n",
    "    def process_key_press(self, event):\n",
    "        target_text = self.target_text\n",
    "        if target_text is None:\n",
    "            return\n",
    "        event_key = event.key()\n",
    "\n",
    "        if event_key == QtCore.Qt.Key_Backspace:\n",
    "            if len(self.entered_text) > 0:\n",
    "                self.entered_text = self.entered_text[:-1]\n",
    "                self.char_comparison_list = self.char_comparison_list[:-1]\n",
    "        else:\n",
    "            cdef char* char_entered = event.text()\n",
    "            cdef char* char_target = target_text[len_entered-1]\n",
    "            if len(char_entered) == 0:\n",
    "                return\n",
    "            self.entered_text += char_entered\n",
    "            len_entered = len(self.entered_text)\n",
    "            if char_entered == char_target:\n",
    "                color = self.hit_color\n",
    "                self.hits += 1\n",
    "            else:\n",
    "                color = self.miss_color\n",
    "                self.miss += 1\n",
    "                # update our records for this typing error\n",
    "                typing_error = TypingError(\n",
    "                    self.lesson_name, char_entered, char_target\n",
    "                )\n",
    "                task = SaveTypingErrorsTask(typing_error)\n",
    "                thread_pool.start(task)\n",
    "                # replace red (incorrect) spaces with red asterix\n",
    "                if char_target == \" \":\n",
    "                    char_target = \"*\"\n",
    "            char_text = '<span style=\"color:{}\">{}</span>'.format(\n",
    "                color, char_target\n",
    "            )\n",
    "\n",
    "            self.accuracy = int(self.hits / (self.hits + self.miss) * 100)\n",
    "            self.char_comparison_list.append(char_text)\n",
    "\n",
    "        entered_text = \"\".join(self.char_comparison_list)\n",
    "        remaining_text = target_text[len(self.entered_text):]\n",
    "        self.display_text = entered_text + remaining_text\n",
    "        if len(self.entered_text) >= len(target_text):\n",
    "            self.finished = True"
   ]
  }
 ],
 "metadata": {
  "kernelspec": {
   "display_name": "pytypist",
   "language": "python",
   "name": "pytypist"
  },
  "language_info": {
   "codemirror_mode": {
    "name": "ipython",
    "version": 3
   },
   "file_extension": ".py",
   "mimetype": "text/x-python",
   "name": "python",
   "nbconvert_exporter": "python",
   "pygments_lexer": "ipython3",
   "version": "3.6.6"
  }
 },
 "nbformat": 4,
 "nbformat_minor": 2
}
