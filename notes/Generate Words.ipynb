{
 "cells": [
  {
   "cell_type": "markdown",
   "metadata": {},
   "source": [
    "## Get content for lesson"
   ]
  },
  {
   "cell_type": "code",
   "execution_count": 1,
   "metadata": {},
   "outputs": [
    {
     "data": {
      "text/plain": [
       "'C:\\\\Users\\\\Simon\\\\Desktop\\\\code\\\\pytypist'"
      ]
     },
     "execution_count": 1,
     "metadata": {},
     "output_type": "execute_result"
    }
   ],
   "source": [
    "import os\n",
    "\n",
    "curr_dire = os.getcwd()\n",
    "path = os.path.join(curr_dire, \"..\")\n",
    "os.chdir(path)\n",
    "os.getcwd()"
   ]
  },
  {
   "cell_type": "code",
   "execution_count": 2,
   "metadata": {},
   "outputs": [],
   "source": [
    "import pytypist"
   ]
  },
  {
   "cell_type": "code",
   "execution_count": 3,
   "metadata": {},
   "outputs": [
    {
     "data": {
      "text/plain": [
       "['abada', 'abaff', 'abb', 'abbas', 'abd']"
      ]
     },
     "execution_count": 3,
     "metadata": {},
     "output_type": "execute_result"
    }
   ],
   "source": [
    "words = pytypist.words.collect_words_containing(\"asdfgb\", must_contain=\"b\")\n",
    "words[:5]"
   ]
  },
  {
   "cell_type": "code",
   "execution_count": 4,
   "metadata": {},
   "outputs": [],
   "source": [
    "short_words = [w for w in words if len(w)>=2 and len(w)<=6]"
   ]
  },
  {
   "cell_type": "code",
   "execution_count": 5,
   "metadata": {},
   "outputs": [
    {
     "data": {
      "text/plain": [
       "['abada', 'abaff', 'abb', 'abbas', 'abd']"
      ]
     },
     "execution_count": 5,
     "metadata": {},
     "output_type": "execute_result"
    }
   ],
   "source": [
    "short_words[:5]"
   ]
  },
  {
   "cell_type": "markdown",
   "metadata": {},
   "source": [
    "Take a combination of words: half from your selection and half from the words list..."
   ]
  },
  {
   "cell_type": "code",
   "execution_count": 6,
   "metadata": {},
   "outputs": [
    {
     "data": {
      "text/plain": [
       "['gasbag',\n",
       " 'dagaba',\n",
       " 'assbaa',\n",
       " 'abd',\n",
       " 'dagaba',\n",
       " 'abada',\n",
       " 'dabb',\n",
       " 'baas',\n",
       " 'abd',\n",
       " 'babas',\n",
       " 'gasbag',\n",
       " 'abaff',\n",
       " 'abbas',\n",
       " 'baas',\n",
       " 'baffs',\n",
       " 'abbas',\n",
       " 'sabs',\n",
       " 'gabgab',\n",
       " 'asb',\n",
       " 'asb',\n",
       " 'agba',\n",
       " 'abd',\n",
       " 'dabs',\n",
       " 'baas',\n",
       " 'dagaba',\n",
       " 'bags',\n",
       " 'asb',\n",
       " 'assbaa',\n",
       " 'baffs',\n",
       " 'baas',\n",
       " 'dabs',\n",
       " 'agba',\n",
       " 'basad',\n",
       " 'babas',\n",
       " 'abaff',\n",
       " 'baff',\n",
       " 'agba',\n",
       " 'baga',\n",
       " 'baff',\n",
       " 'bags',\n",
       " 'bad',\n",
       " 'dagaba',\n",
       " 'asb',\n",
       " 'sabs',\n",
       " 'assbaa',\n",
       " 'bad',\n",
       " 'dagaba',\n",
       " 'baffs',\n",
       " 'gabs',\n",
       " 'assbaa',\n",
       " 'babas',\n",
       " 'abd',\n",
       " 'badass',\n",
       " 'baff',\n",
       " 'abbas',\n",
       " 'baga',\n",
       " 'dabs',\n",
       " 'gasbag',\n",
       " 'baga',\n",
       " 'bbs',\n",
       " 'asb',\n",
       " 'abd',\n",
       " 'gasbag',\n",
       " 'gabs',\n",
       " 'dabs',\n",
       " 'dabba',\n",
       " 'gasbag',\n",
       " 'sabs',\n",
       " 'bags',\n",
       " 'abd',\n",
       " 'dabba',\n",
       " 'bad',\n",
       " 'assbaa',\n",
       " 'basad',\n",
       " 'bagass',\n",
       " 'abd',\n",
       " 'assbaa',\n",
       " 'dagaba',\n",
       " 'bagass',\n",
       " 'dagaba',\n",
       " 'asb',\n",
       " 'asb',\n",
       " 'dabb',\n",
       " 'babas',\n",
       " 'bagass',\n",
       " 'assbaa',\n",
       " 'bad',\n",
       " 'sabs',\n",
       " 'baas',\n",
       " 'baffs',\n",
       " 'badass',\n",
       " 'dabba',\n",
       " 'bbs',\n",
       " 'badass',\n",
       " 'bbs',\n",
       " 'bags',\n",
       " 'dabba',\n",
       " 'abada',\n",
       " 'asb',\n",
       " 'baas']"
      ]
     },
     "execution_count": 6,
     "metadata": {},
     "output_type": "execute_result"
    }
   ],
   "source": [
    "from random import choice\n",
    "\n",
    "my_words = []\n",
    "for i in range(100):\n",
    "    word = choice(short_words)\n",
    "    my_words.append(word)\n",
    "\n",
    "my_words"
   ]
  },
  {
   "cell_type": "code",
   "execution_count": 7,
   "metadata": {},
   "outputs": [
    {
     "data": {
      "text/plain": [
       "100"
      ]
     },
     "execution_count": 7,
     "metadata": {},
     "output_type": "execute_result"
    }
   ],
   "source": [
    "len(my_words)"
   ]
  },
  {
   "cell_type": "code",
   "execution_count": 8,
   "metadata": {},
   "outputs": [],
   "source": [
    "file_name = \"f to b words.txt\"\n",
    "file_path = os.path.join(curr_dire, file_name)\n",
    "\n",
    "with open (file_path, \"w\") as target_file:\n",
    "    target_file.write(\" \".join(my_words))\n"
   ]
  },
  {
   "cell_type": "markdown",
   "metadata": {},
   "source": [
    "***"
   ]
  }
 ],
 "metadata": {
  "kernelspec": {
   "display_name": "pytypist",
   "language": "python",
   "name": "pytypist"
  },
  "language_info": {
   "codemirror_mode": {
    "name": "ipython",
    "version": 3
   },
   "file_extension": ".py",
   "mimetype": "text/x-python",
   "name": "python",
   "nbconvert_exporter": "python",
   "pygments_lexer": "ipython3",
   "version": "3.6.4"
  }
 },
 "nbformat": 4,
 "nbformat_minor": 2
}
