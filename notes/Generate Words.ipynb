{
 "cells": [
  {
   "cell_type": "markdown",
   "metadata": {},
   "source": [
    "## Get content for lesson"
   ]
  },
  {
   "cell_type": "code",
   "execution_count": 1,
   "metadata": {},
   "outputs": [
    {
     "data": {
      "text/plain": [
       "'C:\\\\Users\\\\Simon\\\\Desktop\\\\code\\\\pytypist'"
      ]
     },
     "execution_count": 1,
     "metadata": {},
     "output_type": "execute_result"
    }
   ],
   "source": [
    "import os\n",
    "\n",
    "curr_dire = os.getcwd()\n",
    "path = os.path.join(curr_dire, \"..\")\n",
    "os.chdir(path)\n",
    "os.getcwd()"
   ]
  },
  {
   "cell_type": "code",
   "execution_count": 2,
   "metadata": {},
   "outputs": [],
   "source": [
    "import pytypist"
   ]
  },
  {
   "cell_type": "code",
   "execution_count": 4,
   "metadata": {},
   "outputs": [
    {
     "data": {
      "text/plain": [
       "['i', 'ii', 'iii', 'ik', 'il']"
      ]
     },
     "execution_count": 4,
     "metadata": {},
     "output_type": "execute_result"
    }
   ],
   "source": [
    "words = pytypist.words.collect_words_containing(\"jkl;i\", must_contain=\"i\")\n",
    "words[:5]"
   ]
  },
  {
   "cell_type": "code",
   "execution_count": 5,
   "metadata": {},
   "outputs": [],
   "source": [
    "short_words = [w for w in words if len(w)>=3 and len(w)<=6]"
   ]
  },
  {
   "cell_type": "code",
   "execution_count": 6,
   "metadata": {},
   "outputs": [
    {
     "data": {
      "text/plain": [
       "['iii', 'ilk', 'kikki', 'kil', 'kilij']"
      ]
     },
     "execution_count": 6,
     "metadata": {},
     "output_type": "execute_result"
    }
   ],
   "source": [
    "short_words[:5]"
   ]
  },
  {
   "cell_type": "markdown",
   "metadata": {},
   "source": [
    "Take a combination of words: half from your selection and half from the words list..."
   ]
  },
  {
   "cell_type": "code",
   "execution_count": 7,
   "metadata": {},
   "outputs": [
    {
     "data": {
      "text/plain": [
       "['lill',\n",
       " 'lill',\n",
       " 'iii',\n",
       " 'kil',\n",
       " 'ik',\n",
       " 'kill',\n",
       " 'ik',\n",
       " 'ii',\n",
       " 'il',\n",
       " 'ii',\n",
       " 'kill',\n",
       " 'kil',\n",
       " 'ik',\n",
       " 'ii',\n",
       " 'ii',\n",
       " 'ilk',\n",
       " 'ik',\n",
       " 'ilk',\n",
       " 'ii',\n",
       " 'ii',\n",
       " 'il',\n",
       " 'kil',\n",
       " 'kikki',\n",
       " 'kikki',\n",
       " 'iii',\n",
       " 'i',\n",
       " 'kilij',\n",
       " 'iii',\n",
       " 'ii',\n",
       " 'i',\n",
       " 'kikki',\n",
       " 'ik',\n",
       " 'kil',\n",
       " 'kilij',\n",
       " 'kilij',\n",
       " 'kikki',\n",
       " 'ilk',\n",
       " 'ii',\n",
       " 'iii',\n",
       " 'kill',\n",
       " 'il',\n",
       " 'kilij',\n",
       " 'kilij',\n",
       " 'ji',\n",
       " 'kill',\n",
       " 'kikki',\n",
       " 'ik',\n",
       " 'lill',\n",
       " 'ii',\n",
       " 'ii',\n",
       " 'il',\n",
       " 'ji',\n",
       " 'il',\n",
       " 'kikki',\n",
       " 'il',\n",
       " 'i',\n",
       " 'il',\n",
       " 'kilij',\n",
       " 'kikki',\n",
       " 'iii',\n",
       " 'kill',\n",
       " 'i',\n",
       " 'kikki',\n",
       " 'lill',\n",
       " 'i',\n",
       " 'ii',\n",
       " 'kilij',\n",
       " 'i',\n",
       " 'kill',\n",
       " 'ik',\n",
       " 'lill',\n",
       " 'iii',\n",
       " 'ii',\n",
       " 'ik',\n",
       " 'ik',\n",
       " 'iii',\n",
       " 'i',\n",
       " 'kikki',\n",
       " 'ii',\n",
       " 'il',\n",
       " 'lill',\n",
       " 'iii',\n",
       " 'il',\n",
       " 'ilk',\n",
       " 'iii',\n",
       " 'il',\n",
       " 'ii',\n",
       " 'ji',\n",
       " 'kilij',\n",
       " 'ii',\n",
       " 'kikki',\n",
       " 'kikki',\n",
       " 'ji',\n",
       " 'lill',\n",
       " 'ii',\n",
       " 'i',\n",
       " 'ji',\n",
       " 'il',\n",
       " 'ii',\n",
       " 'i']"
      ]
     },
     "execution_count": 7,
     "metadata": {},
     "output_type": "execute_result"
    }
   ],
   "source": [
    "from random import choice\n",
    "\n",
    "my_words = []\n",
    "for i in range(100):\n",
    "    word = choice(words)\n",
    "    my_words.append(word)\n",
    "\n",
    "my_words"
   ]
  },
  {
   "cell_type": "code",
   "execution_count": 8,
   "metadata": {},
   "outputs": [
    {
     "data": {
      "text/plain": [
       "100"
      ]
     },
     "execution_count": 8,
     "metadata": {},
     "output_type": "execute_result"
    }
   ],
   "source": [
    "len(my_words)"
   ]
  },
  {
   "cell_type": "code",
   "execution_count": 9,
   "metadata": {},
   "outputs": [],
   "source": [
    "file_name = \"k to i words.txt\"\n",
    "file_path = os.path.join(curr_dire, file_name)\n",
    "\n",
    "with open (file_path, \"w\") as target_file:\n",
    "    target_file.write(\" \".join(my_words))\n"
   ]
  },
  {
   "cell_type": "markdown",
   "metadata": {},
   "source": [
    "***"
   ]
  }
 ],
 "metadata": {
  "kernelspec": {
   "display_name": "pytypist",
   "language": "python",
   "name": "pytypist"
  },
  "language_info": {
   "codemirror_mode": {
    "name": "ipython",
    "version": 3
   },
   "file_extension": ".py",
   "mimetype": "text/x-python",
   "name": "python",
   "nbconvert_exporter": "python",
   "pygments_lexer": "ipython3",
   "version": "3.6.4"
  }
 },
 "nbformat": 4,
 "nbformat_minor": 2
}
