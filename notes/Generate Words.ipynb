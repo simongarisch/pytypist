{
 "cells": [
  {
   "cell_type": "markdown",
   "metadata": {},
   "source": [
    "## Get content for lesson"
   ]
  },
  {
   "cell_type": "code",
   "execution_count": 1,
   "metadata": {},
   "outputs": [
    {
     "data": {
      "text/plain": [
       "'C:\\\\Users\\\\Simon\\\\Desktop\\\\code\\\\pytypist'"
      ]
     },
     "execution_count": 1,
     "metadata": {},
     "output_type": "execute_result"
    }
   ],
   "source": [
    "import os\n",
    "\n",
    "curr_dire = os.getcwd()\n",
    "path = os.path.join(curr_dire, \"..\")\n",
    "os.chdir(path)\n",
    "os.getcwd()"
   ]
  },
  {
   "cell_type": "code",
   "execution_count": 2,
   "metadata": {},
   "outputs": [],
   "source": [
    "import pytypist"
   ]
  },
  {
   "cell_type": "code",
   "execution_count": 9,
   "metadata": {},
   "outputs": [
    {
     "data": {
      "text/plain": [
       "['addn', 'addnl', 'alands', 'alaskans', 'alkanal']"
      ]
     },
     "execution_count": 9,
     "metadata": {},
     "output_type": "execute_result"
    }
   ],
   "source": [
    "words = pytypist.words.collect_words_containing(\"asdfjkl;n\", must_contain=\"n\")\n",
    "words[:5]"
   ]
  },
  {
   "cell_type": "code",
   "execution_count": 10,
   "metadata": {},
   "outputs": [],
   "source": [
    "short_words = [w for w in words if len(w)>=2 and len(w)<=6]"
   ]
  },
  {
   "cell_type": "code",
   "execution_count": 11,
   "metadata": {},
   "outputs": [
    {
     "data": {
      "text/plain": [
       "['addn', 'addnl', 'alands', 'aln', 'an']"
      ]
     },
     "execution_count": 11,
     "metadata": {},
     "output_type": "execute_result"
    }
   ],
   "source": [
    "short_words[:5]"
   ]
  },
  {
   "cell_type": "markdown",
   "metadata": {},
   "source": [
    "Take a combination of words: half from your selection and half from the words list..."
   ]
  },
  {
   "cell_type": "code",
   "execution_count": 12,
   "metadata": {},
   "outputs": [
    {
     "data": {
      "text/plain": [
       "['ansa',\n",
       " 'anlas',\n",
       " 'sandak',\n",
       " 'kand',\n",
       " 'fand',\n",
       " 'slank',\n",
       " 'ans',\n",
       " 'nasals',\n",
       " 'annas',\n",
       " 'ananas',\n",
       " 'slank',\n",
       " 'fanal',\n",
       " 'jnd',\n",
       " 'ansa',\n",
       " 'asana',\n",
       " 'fana',\n",
       " 'anjan',\n",
       " 'fn',\n",
       " 'fand',\n",
       " 'asana',\n",
       " 'sank',\n",
       " 'slank',\n",
       " 'anda',\n",
       " 'annals',\n",
       " 'sandal',\n",
       " 'sanjak',\n",
       " 'ansa',\n",
       " 'anal',\n",
       " 'ana',\n",
       " 'anlas',\n",
       " 'klans',\n",
       " 'annal',\n",
       " 'fand',\n",
       " 'fana',\n",
       " 'sank',\n",
       " 'an',\n",
       " 'nasal',\n",
       " 'nasals',\n",
       " 'lansa',\n",
       " 'anlas',\n",
       " 'sanand',\n",
       " 'jnana',\n",
       " 'fans',\n",
       " 'sanjak',\n",
       " 'dand',\n",
       " 'kand',\n",
       " 'danda',\n",
       " 'aln',\n",
       " 'fn',\n",
       " 'ananas',\n",
       " 'flans',\n",
       " 'annals',\n",
       " 'kanas',\n",
       " 'kana',\n",
       " 'jnana',\n",
       " 'naf',\n",
       " 'fand',\n",
       " 'fana',\n",
       " 'sandak',\n",
       " 'nasals',\n",
       " 'anal',\n",
       " 'kanaff',\n",
       " 'nanda',\n",
       " 'asana',\n",
       " 'addnl',\n",
       " 'annals',\n",
       " 'flank',\n",
       " 'ana',\n",
       " 'kana',\n",
       " 'naf',\n",
       " 'anal',\n",
       " 'kana',\n",
       " 'annal',\n",
       " 'anda',\n",
       " 'sanka',\n",
       " 'sanjak',\n",
       " 'dansk',\n",
       " 'fanal',\n",
       " 'and',\n",
       " 'lanas',\n",
       " 'anlas',\n",
       " 'dank',\n",
       " 'snaff',\n",
       " 'ansa',\n",
       " 'anda',\n",
       " 'ansa',\n",
       " 'fanal',\n",
       " 'flank',\n",
       " 'ans',\n",
       " 'kln',\n",
       " 'an',\n",
       " 'nasals',\n",
       " 'alands',\n",
       " 'sandan',\n",
       " 'anjan',\n",
       " 'kand',\n",
       " 'flank',\n",
       " 'sanka',\n",
       " 'jnanas',\n",
       " 'fana']"
      ]
     },
     "execution_count": 12,
     "metadata": {},
     "output_type": "execute_result"
    }
   ],
   "source": [
    "from random import choice\n",
    "\n",
    "my_words = []\n",
    "for i in range(100):\n",
    "    word = choice(short_words)\n",
    "    my_words.append(word)\n",
    "\n",
    "my_words"
   ]
  },
  {
   "cell_type": "code",
   "execution_count": 13,
   "metadata": {},
   "outputs": [
    {
     "data": {
      "text/plain": [
       "100"
      ]
     },
     "execution_count": 13,
     "metadata": {},
     "output_type": "execute_result"
    }
   ],
   "source": [
    "len(my_words)"
   ]
  },
  {
   "cell_type": "code",
   "execution_count": 14,
   "metadata": {},
   "outputs": [],
   "source": [
    "file_name = \"j to n words.txt\"\n",
    "file_path = os.path.join(curr_dire, file_name)\n",
    "\n",
    "with open (file_path, \"w\") as target_file:\n",
    "    target_file.write(\" \".join(my_words))\n"
   ]
  },
  {
   "cell_type": "markdown",
   "metadata": {},
   "source": [
    "***"
   ]
  }
 ],
 "metadata": {
  "kernelspec": {
   "display_name": "pytypist",
   "language": "python",
   "name": "pytypist"
  },
  "language_info": {
   "codemirror_mode": {
    "name": "ipython",
    "version": 3
   },
   "file_extension": ".py",
   "mimetype": "text/x-python",
   "name": "python",
   "nbconvert_exporter": "python",
   "pygments_lexer": "ipython3",
   "version": "3.6.4"
  }
 },
 "nbformat": 4,
 "nbformat_minor": 2
}
