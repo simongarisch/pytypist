{
 "cells": [
  {
   "cell_type": "markdown",
   "metadata": {},
   "source": [
    "## Get content for lesson"
   ]
  },
  {
   "cell_type": "code",
   "execution_count": 1,
   "metadata": {},
   "outputs": [
    {
     "data": {
      "text/plain": [
       "'C:\\\\Users\\\\Simon\\\\Desktop\\\\code\\\\pytypist'"
      ]
     },
     "execution_count": 1,
     "metadata": {},
     "output_type": "execute_result"
    }
   ],
   "source": [
    "import os\n",
    "\n",
    "curr_dire = os.getcwd()\n",
    "path = os.path.join(curr_dire, \"..\")\n",
    "os.chdir(path)\n",
    "os.getcwd()"
   ]
  },
  {
   "cell_type": "code",
   "execution_count": 2,
   "metadata": {},
   "outputs": [],
   "source": [
    "import pytypist"
   ]
  },
  {
   "cell_type": "code",
   "execution_count": 6,
   "metadata": {},
   "outputs": [
    {
     "data": {
      "text/plain": [
       "['huh', 'hulk', 'hulu', 'juju', 'khu']"
      ]
     },
     "execution_count": 6,
     "metadata": {},
     "output_type": "execute_result"
    }
   ],
   "source": [
    "words = pytypist.words.collect_words_containing(\"jkl;hu\", must_contain=\"u\")\n",
    "words[:5]"
   ]
  },
  {
   "cell_type": "code",
   "execution_count": 7,
   "metadata": {},
   "outputs": [],
   "source": [
    "short_words = [w for w in words if len(w)>=3 and len(w)<=6]"
   ]
  },
  {
   "cell_type": "code",
   "execution_count": 8,
   "metadata": {},
   "outputs": [
    {
     "data": {
      "text/plain": [
       "['huh', 'hulk', 'hulu', 'juju', 'khu']"
      ]
     },
     "execution_count": 8,
     "metadata": {},
     "output_type": "execute_result"
    }
   ],
   "source": [
    "short_words[:5]"
   ]
  },
  {
   "cell_type": "markdown",
   "metadata": {},
   "source": [
    "Take a combination of words: half from your selection and half from the words list..."
   ]
  },
  {
   "cell_type": "code",
   "execution_count": 9,
   "metadata": {},
   "outputs": [
    {
     "data": {
      "text/plain": [
       "['khu',\n",
       " 'khu',\n",
       " 'juju',\n",
       " 'huh',\n",
       " 'khu',\n",
       " 'huh',\n",
       " 'huh',\n",
       " 'hulk',\n",
       " 'juju',\n",
       " 'hulk',\n",
       " 'kuku',\n",
       " 'ululu',\n",
       " 'hulu',\n",
       " 'kuku',\n",
       " 'khu',\n",
       " 'huh',\n",
       " 'kuku',\n",
       " 'hulu',\n",
       " 'hulk',\n",
       " 'hulk',\n",
       " 'juju',\n",
       " 'huh',\n",
       " 'hulk',\n",
       " 'hulu',\n",
       " 'hulu',\n",
       " 'kuku',\n",
       " 'hulu',\n",
       " 'hulk',\n",
       " 'juju',\n",
       " 'huh',\n",
       " 'hulk',\n",
       " 'juju',\n",
       " 'kuku',\n",
       " 'khu',\n",
       " 'hulu',\n",
       " 'hulu',\n",
       " 'ululu',\n",
       " 'ululu',\n",
       " 'kuku',\n",
       " 'huh',\n",
       " 'kuku',\n",
       " 'ululu',\n",
       " 'khu',\n",
       " 'ululu',\n",
       " 'ululu',\n",
       " 'hulu',\n",
       " 'hulu',\n",
       " 'kuku',\n",
       " 'hulk',\n",
       " 'ululu',\n",
       " 'huh',\n",
       " 'huh',\n",
       " 'hulu',\n",
       " 'ululu',\n",
       " 'hulk',\n",
       " 'kuku',\n",
       " 'hulu',\n",
       " 'juju',\n",
       " 'hulu',\n",
       " 'khu',\n",
       " 'hulu',\n",
       " 'juju',\n",
       " 'juju',\n",
       " 'hulu',\n",
       " 'hulk',\n",
       " 'ululu',\n",
       " 'ululu',\n",
       " 'huh',\n",
       " 'khu',\n",
       " 'huh',\n",
       " 'khu',\n",
       " 'juju',\n",
       " 'khu',\n",
       " 'kuku',\n",
       " 'juju',\n",
       " 'hulk',\n",
       " 'ululu',\n",
       " 'hulu',\n",
       " 'hulu',\n",
       " 'hulk',\n",
       " 'hulk',\n",
       " 'ululu',\n",
       " 'khu',\n",
       " 'hulu',\n",
       " 'hulu',\n",
       " 'juju',\n",
       " 'ululu',\n",
       " 'khu',\n",
       " 'ululu',\n",
       " 'kuku',\n",
       " 'hulk',\n",
       " 'kuku',\n",
       " 'juju',\n",
       " 'hulk',\n",
       " 'juju',\n",
       " 'juju',\n",
       " 'kuku',\n",
       " 'juju',\n",
       " 'hulk',\n",
       " 'ululu']"
      ]
     },
     "execution_count": 9,
     "metadata": {},
     "output_type": "execute_result"
    }
   ],
   "source": [
    "from random import choice\n",
    "\n",
    "my_words = []\n",
    "for i in range(100):\n",
    "    word = choice(words)\n",
    "    my_words.append(word)\n",
    "\n",
    "my_words"
   ]
  },
  {
   "cell_type": "code",
   "execution_count": 10,
   "metadata": {},
   "outputs": [
    {
     "data": {
      "text/plain": [
       "100"
      ]
     },
     "execution_count": 10,
     "metadata": {},
     "output_type": "execute_result"
    }
   ],
   "source": [
    "len(my_words)"
   ]
  },
  {
   "cell_type": "code",
   "execution_count": 11,
   "metadata": {},
   "outputs": [],
   "source": [
    "file_name = \"j to u words.txt\"\n",
    "file_path = os.path.join(curr_dire, file_name)\n",
    "\n",
    "with open (file_path, \"w\") as target_file:\n",
    "    target_file.write(\" \".join(my_words))\n"
   ]
  },
  {
   "cell_type": "markdown",
   "metadata": {},
   "source": [
    "***"
   ]
  }
 ],
 "metadata": {
  "kernelspec": {
   "display_name": "pytypist",
   "language": "python",
   "name": "pytypist"
  },
  "language_info": {
   "codemirror_mode": {
    "name": "ipython",
    "version": 3
   },
   "file_extension": ".py",
   "mimetype": "text/x-python",
   "name": "python",
   "nbconvert_exporter": "python",
   "pygments_lexer": "ipython3",
   "version": "3.6.4"
  }
 },
 "nbformat": 4,
 "nbformat_minor": 2
}
