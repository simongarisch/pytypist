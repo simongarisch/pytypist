{
 "cells": [
  {
   "cell_type": "markdown",
   "metadata": {},
   "source": [
    "## Get content for lesson"
   ]
  },
  {
   "cell_type": "code",
   "execution_count": 1,
   "metadata": {},
   "outputs": [
    {
     "data": {
      "text/plain": [
       "'C:\\\\Users\\\\Simon\\\\Desktop\\\\code\\\\pytypist'"
      ]
     },
     "execution_count": 1,
     "metadata": {},
     "output_type": "execute_result"
    }
   ],
   "source": [
    "import os\n",
    "\n",
    "curr_dire = os.getcwd()\n",
    "path = os.path.join(curr_dire, \"..\")\n",
    "os.chdir(path)\n",
    "os.getcwd()"
   ]
  },
  {
   "cell_type": "code",
   "execution_count": 2,
   "metadata": {},
   "outputs": [],
   "source": [
    "import pytypist"
   ]
  },
  {
   "cell_type": "code",
   "execution_count": 35,
   "metadata": {},
   "outputs": [
    {
     "data": {
      "text/plain": [
       "['a', 'aah', 'aahed', 'aahs', 'aal']"
      ]
     },
     "execution_count": 35,
     "metadata": {},
     "output_type": "execute_result"
    }
   ],
   "source": [
    "words = pytypist.words.collect_words_containing(\"asdfghjkl;qwertyuiop\")\n",
    "words[:5]"
   ]
  },
  {
   "cell_type": "code",
   "execution_count": 36,
   "metadata": {},
   "outputs": [],
   "source": [
    "short_words = [w for w in words if len(w)>=2 and len(w)<=5]"
   ]
  },
  {
   "cell_type": "code",
   "execution_count": 37,
   "metadata": {},
   "outputs": [
    {
     "data": {
      "text/plain": [
       "['aah', 'aahed', 'aahs', 'aal', 'aalii']"
      ]
     },
     "execution_count": 37,
     "metadata": {},
     "output_type": "execute_result"
    }
   ],
   "source": [
    "short_words[:5]"
   ]
  },
  {
   "cell_type": "markdown",
   "metadata": {},
   "source": [
    "Take a combination of words: half from your selection and half from the words list..."
   ]
  },
  {
   "cell_type": "code",
   "execution_count": 38,
   "metadata": {},
   "outputs": [
    {
     "data": {
      "text/plain": [
       "['kyah',\n",
       " 'grief',\n",
       " 'geir',\n",
       " 'rupa',\n",
       " 'degu',\n",
       " 'aals',\n",
       " 'alay',\n",
       " 'freet',\n",
       " 'ethal',\n",
       " 'lours',\n",
       " 'fire',\n",
       " 'roop',\n",
       " 'plak',\n",
       " 'sorry',\n",
       " 'goup',\n",
       " 'raku',\n",
       " 'dyes',\n",
       " 'plew',\n",
       " 'ferk',\n",
       " 'swear',\n",
       " 'hoult',\n",
       " 'shuts',\n",
       " 'aglet',\n",
       " 'twale',\n",
       " 'phyre',\n",
       " 'flota',\n",
       " 'kist',\n",
       " 'egg',\n",
       " 'opsy',\n",
       " 'forky',\n",
       " 'lids',\n",
       " 'slare',\n",
       " 'dolts',\n",
       " 'purre',\n",
       " 'fath',\n",
       " 'her',\n",
       " 'few',\n",
       " 'tufty',\n",
       " 'ills',\n",
       " 'stele',\n",
       " 'uret',\n",
       " 'draft',\n",
       " 'suist',\n",
       " 'yuh',\n",
       " 'tushy',\n",
       " 'dudes',\n",
       " 'hutre',\n",
       " 'aroar',\n",
       " 'spool',\n",
       " 'gooky',\n",
       " 'wode',\n",
       " 'rhet',\n",
       " 'sisi',\n",
       " 'skil',\n",
       " 'lears',\n",
       " 'spore',\n",
       " 'laity',\n",
       " 'hoit',\n",
       " 'dated',\n",
       " 'aphid',\n",
       " 'phase',\n",
       " 'haggy',\n",
       " 'rail',\n",
       " 'agog',\n",
       " 'kikes',\n",
       " 'jouk',\n",
       " 'usara',\n",
       " 'jays',\n",
       " 'equal',\n",
       " 'urlar',\n",
       " 'flaff',\n",
       " 'spy',\n",
       " 'worse',\n",
       " 'weesh',\n",
       " 'leak',\n",
       " 'teffs',\n",
       " 'justs',\n",
       " 'ooh',\n",
       " 'fow',\n",
       " 'iiwi',\n",
       " 'ayahs',\n",
       " 'phit',\n",
       " 'gorp',\n",
       " 'ywis',\n",
       " 'resaw',\n",
       " 'ipid',\n",
       " 'rte',\n",
       " 'pirr',\n",
       " 'skey',\n",
       " 'appl',\n",
       " 'rosed',\n",
       " 'droll',\n",
       " 'geoty',\n",
       " 'tele',\n",
       " 'doh',\n",
       " 'sural',\n",
       " 'roles',\n",
       " 'ukase',\n",
       " 'rewed',\n",
       " 'itous']"
      ]
     },
     "execution_count": 38,
     "metadata": {},
     "output_type": "execute_result"
    }
   ],
   "source": [
    "from random import choice\n",
    "\n",
    "my_words = []\n",
    "for i in range(100):\n",
    "    word = choice(short_words)\n",
    "    my_words.append(word)\n",
    "\n",
    "my_words"
   ]
  },
  {
   "cell_type": "code",
   "execution_count": 39,
   "metadata": {},
   "outputs": [
    {
     "data": {
      "text/plain": [
       "100"
      ]
     },
     "execution_count": 39,
     "metadata": {},
     "output_type": "execute_result"
    }
   ],
   "source": [
    "len(my_words)"
   ]
  },
  {
   "cell_type": "code",
   "execution_count": 40,
   "metadata": {},
   "outputs": [],
   "source": [
    "file_name = \"Top row practice short 3.txt\"\n",
    "file_path = os.path.join(curr_dire, file_name)\n",
    "\n",
    "with open (file_path, \"w\") as target_file:\n",
    "    target_file.write(\" \".join(my_words))\n"
   ]
  },
  {
   "cell_type": "markdown",
   "metadata": {},
   "source": [
    "***"
   ]
  }
 ],
 "metadata": {
  "kernelspec": {
   "display_name": "pytypist",
   "language": "python",
   "name": "pytypist"
  },
  "language_info": {
   "codemirror_mode": {
    "name": "ipython",
    "version": 3
   },
   "file_extension": ".py",
   "mimetype": "text/x-python",
   "name": "python",
   "nbconvert_exporter": "python",
   "pygments_lexer": "ipython3",
   "version": "3.6.4"
  }
 },
 "nbformat": 4,
 "nbformat_minor": 2
}
