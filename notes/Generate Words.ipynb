{
 "cells": [
  {
   "cell_type": "markdown",
   "metadata": {},
   "source": [
    "## Get content for lesson"
   ]
  },
  {
   "cell_type": "code",
   "execution_count": 1,
   "metadata": {},
   "outputs": [
    {
     "data": {
      "text/plain": [
       "'C:\\\\Users\\\\Simon\\\\Desktop\\\\code\\\\pytypist'"
      ]
     },
     "execution_count": 1,
     "metadata": {},
     "output_type": "execute_result"
    }
   ],
   "source": [
    "import os\n",
    "\n",
    "curr_dire = os.getcwd()\n",
    "path = os.path.join(curr_dire, \"..\")\n",
    "os.chdir(path)\n",
    "os.getcwd()"
   ]
  },
  {
   "cell_type": "code",
   "execution_count": 2,
   "metadata": {},
   "outputs": [],
   "source": [
    "import pytypist"
   ]
  },
  {
   "cell_type": "code",
   "execution_count": 3,
   "metadata": {},
   "outputs": [
    {
     "data": {
      "text/plain": [
       "['aeq', 'freq', 'qaf', 'qere', 'qrs']"
      ]
     },
     "execution_count": 3,
     "metadata": {},
     "output_type": "execute_result"
    }
   ],
   "source": [
    "words = pytypist.words.collect_words_containing(\"asdfaqwer\", must_contain=\"q\")\n",
    "words[:5]"
   ]
  },
  {
   "cell_type": "code",
   "execution_count": 4,
   "metadata": {},
   "outputs": [],
   "source": [
    "short_words = [w for w in words if len(w)>=3 and len(w)<=6]"
   ]
  },
  {
   "cell_type": "code",
   "execution_count": 5,
   "metadata": {},
   "outputs": [
    {
     "data": {
      "text/plain": [
       "['aeq', 'freq', 'qaf', 'qere', 'qrs']"
      ]
     },
     "execution_count": 5,
     "metadata": {},
     "output_type": "execute_result"
    }
   ],
   "source": [
    "short_words[:5]"
   ]
  },
  {
   "cell_type": "markdown",
   "metadata": {},
   "source": [
    "Take a combination of words: half from your selection and half from the words list..."
   ]
  },
  {
   "cell_type": "code",
   "execution_count": 6,
   "metadata": {},
   "outputs": [
    {
     "data": {
      "text/plain": [
       "['qaf',\n",
       " 'freq',\n",
       " 'freq',\n",
       " 'freq',\n",
       " 'req',\n",
       " 'seq',\n",
       " 'qrs',\n",
       " 'qrs',\n",
       " 'seqq',\n",
       " 'qrs',\n",
       " 'aeq',\n",
       " 'sqd',\n",
       " 'seqq',\n",
       " 'qere',\n",
       " 'seqed',\n",
       " 'seqed',\n",
       " 'freq',\n",
       " 'qaf',\n",
       " 'req',\n",
       " 'freq',\n",
       " 'aeq',\n",
       " 'sqd',\n",
       " 'seqed',\n",
       " 'qaf',\n",
       " 'freq',\n",
       " 'seqed',\n",
       " 'qrs',\n",
       " 'freq',\n",
       " 'reqd',\n",
       " 'seq',\n",
       " 'qaf',\n",
       " 'freq',\n",
       " 'reqd',\n",
       " 'freq',\n",
       " 'sqq',\n",
       " 'sqq',\n",
       " 'qaf',\n",
       " 'seqed',\n",
       " 'sqq',\n",
       " 'seqq',\n",
       " 'seqed',\n",
       " 'sqq',\n",
       " 'qere',\n",
       " 'req',\n",
       " 'aeq',\n",
       " 'aeq',\n",
       " 'seq',\n",
       " 'qaf',\n",
       " 'sqq',\n",
       " 'sqd',\n",
       " 'seqed',\n",
       " 'qrs',\n",
       " 'qaf',\n",
       " 'sqq',\n",
       " 'seqed',\n",
       " 'freq',\n",
       " 'seq',\n",
       " 'sqq',\n",
       " 'sqq',\n",
       " 'aeq',\n",
       " 'reqd',\n",
       " 'freq',\n",
       " 'qaf',\n",
       " 'freq',\n",
       " 'qrs',\n",
       " 'qrs',\n",
       " 'req',\n",
       " 'qere',\n",
       " 'qere',\n",
       " 'freq',\n",
       " 'seqed',\n",
       " 'sqd',\n",
       " 'aeq',\n",
       " 'qrs',\n",
       " 'seqed',\n",
       " 'qere',\n",
       " 'qrs',\n",
       " 'seqq',\n",
       " 'req',\n",
       " 'qrs',\n",
       " 'seqq',\n",
       " 'seq',\n",
       " 'freq',\n",
       " 'reqd',\n",
       " 'reqd',\n",
       " 'qaf',\n",
       " 'seqq',\n",
       " 'reqd',\n",
       " 'qere',\n",
       " 'freq',\n",
       " 'aeq',\n",
       " 'seqq',\n",
       " 'qrs',\n",
       " 'qere',\n",
       " 'aeq',\n",
       " 'aeq',\n",
       " 'reqd',\n",
       " 'qaf',\n",
       " 'sqq',\n",
       " 'freq']"
      ]
     },
     "execution_count": 6,
     "metadata": {},
     "output_type": "execute_result"
    }
   ],
   "source": [
    "from random import choice\n",
    "\n",
    "my_words = []\n",
    "for i in range(100):\n",
    "    word = choice(words)\n",
    "    my_words.append(word)\n",
    "\n",
    "my_words"
   ]
  },
  {
   "cell_type": "code",
   "execution_count": 7,
   "metadata": {},
   "outputs": [
    {
     "data": {
      "text/plain": [
       "100"
      ]
     },
     "execution_count": 7,
     "metadata": {},
     "output_type": "execute_result"
    }
   ],
   "source": [
    "len(my_words)"
   ]
  },
  {
   "cell_type": "code",
   "execution_count": 8,
   "metadata": {},
   "outputs": [],
   "source": [
    "file_name = \"a to q words.txt\"\n",
    "file_path = os.path.join(curr_dire, file_name)\n",
    "\n",
    "with open (file_path, \"w\") as target_file:\n",
    "    target_file.write(\" \".join(my_words))\n"
   ]
  },
  {
   "cell_type": "markdown",
   "metadata": {},
   "source": [
    "***"
   ]
  }
 ],
 "metadata": {
  "kernelspec": {
   "display_name": "pytypist",
   "language": "python",
   "name": "pytypist"
  },
  "language_info": {
   "codemirror_mode": {
    "name": "ipython",
    "version": 3
   },
   "file_extension": ".py",
   "mimetype": "text/x-python",
   "name": "python",
   "nbconvert_exporter": "python",
   "pygments_lexer": "ipython3",
   "version": "3.6.4"
  }
 },
 "nbformat": 4,
 "nbformat_minor": 2
}
