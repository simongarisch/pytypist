{
 "cells": [
  {
   "cell_type": "markdown",
   "metadata": {},
   "source": [
    "## Get content for lesson"
   ]
  },
  {
   "cell_type": "code",
   "execution_count": 9,
   "metadata": {},
   "outputs": [
    {
     "data": {
      "text/plain": [
       "'C:\\\\Users\\\\Simon\\\\Desktop\\\\code'"
      ]
     },
     "execution_count": 9,
     "metadata": {},
     "output_type": "execute_result"
    }
   ],
   "source": [
    "import os\n",
    "\n",
    "curr_dire = os.getcwd()\n",
    "path = os.path.join(curr_dire, \"..\")\n",
    "os.chdir(path)\n",
    "os.getcwd()"
   ]
  },
  {
   "cell_type": "code",
   "execution_count": 10,
   "metadata": {},
   "outputs": [],
   "source": [
    "import pytypist"
   ]
  },
  {
   "cell_type": "code",
   "execution_count": 11,
   "metadata": {},
   "outputs": [
    {
     "data": {
      "text/plain": [
       "['adat', 'afft', 'asfast', 'asst', 'ast']"
      ]
     },
     "execution_count": 11,
     "metadata": {},
     "output_type": "execute_result"
    }
   ],
   "source": [
    "words = pytypist.words.collect_words_containing(\"asdft\", must_contain=\"t\")\n",
    "words[:5]"
   ]
  },
  {
   "cell_type": "code",
   "execution_count": 12,
   "metadata": {},
   "outputs": [],
   "source": [
    "short_words = [w for w in words if len(w)>=3 and len(w)<=6]"
   ]
  },
  {
   "cell_type": "code",
   "execution_count": 13,
   "metadata": {},
   "outputs": [
    {
     "data": {
      "text/plain": [
       "['adat', 'afft', 'asfast', 'asst', 'ast']"
      ]
     },
     "execution_count": 13,
     "metadata": {},
     "output_type": "execute_result"
    }
   ],
   "source": [
    "short_words[:5]"
   ]
  },
  {
   "cell_type": "markdown",
   "metadata": {},
   "source": [
    "Take a combination of words: half from your selection and half from the words list..."
   ]
  },
  {
   "cell_type": "code",
   "execution_count": 14,
   "metadata": {},
   "outputs": [
    {
     "data": {
      "text/plain": [
       "['tats',\n",
       " 'stadda',\n",
       " 'stadda',\n",
       " 'taata',\n",
       " 'sata',\n",
       " 'daft',\n",
       " 'st',\n",
       " 'daft',\n",
       " 'asfast',\n",
       " 'tats',\n",
       " 'staff',\n",
       " 'asfast',\n",
       " 'asfast',\n",
       " 'st',\n",
       " 'asfast',\n",
       " 'st',\n",
       " 'dtd',\n",
       " 'asfast',\n",
       " 'afft',\n",
       " 'taa',\n",
       " 'afft',\n",
       " 'stad',\n",
       " 'ast',\n",
       " 'stat',\n",
       " 'tads',\n",
       " 'saft',\n",
       " 'stat',\n",
       " 'daft',\n",
       " 'fasts',\n",
       " 'stadda',\n",
       " 'st',\n",
       " 'staff',\n",
       " 'st',\n",
       " 'taa',\n",
       " 'stat',\n",
       " 'fasts',\n",
       " 'stats',\n",
       " 'fats',\n",
       " 'stadda',\n",
       " 'asfast',\n",
       " 'sata',\n",
       " 'staff',\n",
       " 'sata',\n",
       " 'taata',\n",
       " 'asst',\n",
       " 'fats',\n",
       " 'stats',\n",
       " 'saft',\n",
       " 'tatta',\n",
       " 'taa',\n",
       " 'tats',\n",
       " 'ast',\n",
       " 'st',\n",
       " 'stadda',\n",
       " 'fats',\n",
       " 'asst',\n",
       " 'daft',\n",
       " 'fasts',\n",
       " 'staff',\n",
       " 'dtd',\n",
       " 'fats',\n",
       " 'tatta',\n",
       " 'tatta',\n",
       " 'taa',\n",
       " 'afft',\n",
       " 'saft',\n",
       " 'afft',\n",
       " 'fasts',\n",
       " 'asfast',\n",
       " 'daft',\n",
       " 'adat',\n",
       " 'stat',\n",
       " 'asfast',\n",
       " 'stat',\n",
       " 'stad',\n",
       " 'fats',\n",
       " 'stadda',\n",
       " 'ast',\n",
       " 'sata',\n",
       " 'asst',\n",
       " 'fats',\n",
       " 'tatta',\n",
       " 'st',\n",
       " 'fats',\n",
       " 'taata',\n",
       " 'stat',\n",
       " 'saft',\n",
       " 'taata',\n",
       " 'fasts',\n",
       " 'saft',\n",
       " 'fasts',\n",
       " 'dtd',\n",
       " 'dtd',\n",
       " 'fats',\n",
       " 'tatta',\n",
       " 'ast',\n",
       " 'dtd',\n",
       " 'taata',\n",
       " 'satd',\n",
       " 'stat']"
      ]
     },
     "execution_count": 14,
     "metadata": {},
     "output_type": "execute_result"
    }
   ],
   "source": [
    "from random import choice\n",
    "\n",
    "my_words = []\n",
    "for i in range(100):\n",
    "    word = choice(words)\n",
    "    my_words.append(word)\n",
    "\n",
    "my_words"
   ]
  },
  {
   "cell_type": "code",
   "execution_count": 15,
   "metadata": {},
   "outputs": [
    {
     "data": {
      "text/plain": [
       "100"
      ]
     },
     "execution_count": 15,
     "metadata": {},
     "output_type": "execute_result"
    }
   ],
   "source": [
    "len(my_words)"
   ]
  },
  {
   "cell_type": "code",
   "execution_count": 16,
   "metadata": {},
   "outputs": [],
   "source": [
    "file_name = \"f to t words.txt\"\n",
    "file_path = os.path.join(curr_dire, file_name)\n",
    "\n",
    "with open (file_path, \"w\") as target_file:\n",
    "    target_file.write(\" \".join(my_words))\n"
   ]
  },
  {
   "cell_type": "markdown",
   "metadata": {},
   "source": [
    "***"
   ]
  }
 ],
 "metadata": {
  "kernelspec": {
   "display_name": "pytypist",
   "language": "python",
   "name": "pytypist"
  },
  "language_info": {
   "codemirror_mode": {
    "name": "ipython",
    "version": 3
   },
   "file_extension": ".py",
   "mimetype": "text/x-python",
   "name": "python",
   "nbconvert_exporter": "python",
   "pygments_lexer": "ipython3",
   "version": "3.6.4"
  }
 },
 "nbformat": 4,
 "nbformat_minor": 2
}
