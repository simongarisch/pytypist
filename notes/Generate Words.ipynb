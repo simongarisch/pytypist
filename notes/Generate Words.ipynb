{
 "cells": [
  {
   "cell_type": "markdown",
   "metadata": {},
   "source": [
    "## Get content for lesson"
   ]
  },
  {
   "cell_type": "code",
   "execution_count": 1,
   "metadata": {},
   "outputs": [
    {
     "data": {
      "text/plain": [
       "'C:\\\\Users\\\\Simon\\\\Desktop\\\\code\\\\pytypist'"
      ]
     },
     "execution_count": 1,
     "metadata": {},
     "output_type": "execute_result"
    }
   ],
   "source": [
    "import os\n",
    "\n",
    "curr_dire = os.getcwd()\n",
    "path = os.path.join(curr_dire, \"..\")\n",
    "os.chdir(path)\n",
    "os.getcwd()"
   ]
  },
  {
   "cell_type": "code",
   "execution_count": 2,
   "metadata": {},
   "outputs": [],
   "source": [
    "import pytypist"
   ]
  },
  {
   "cell_type": "code",
   "execution_count": 3,
   "metadata": {},
   "outputs": [
    {
     "data": {
      "text/plain": [
       "['adz', 'fz', 'gaz', 'sfz', 'zad']"
      ]
     },
     "execution_count": 3,
     "metadata": {},
     "output_type": "execute_result"
    }
   ],
   "source": [
    "words = pytypist.words.collect_words_containing(\"asdfgz\", must_contain=\"z\")\n",
    "words[:5]"
   ]
  },
  {
   "cell_type": "code",
   "execution_count": 4,
   "metadata": {},
   "outputs": [],
   "source": [
    "short_words = [w for w in words if len(w)>=2 and len(w)<=6]"
   ]
  },
  {
   "cell_type": "code",
   "execution_count": 5,
   "metadata": {},
   "outputs": [
    {
     "data": {
      "text/plain": [
       "['adz', 'fz', 'gaz', 'sfz', 'zad']"
      ]
     },
     "execution_count": 5,
     "metadata": {},
     "output_type": "execute_result"
    }
   ],
   "source": [
    "short_words[:5]"
   ]
  },
  {
   "cell_type": "markdown",
   "metadata": {},
   "source": [
    "Take a combination of words: half from your selection and half from the words list..."
   ]
  },
  {
   "cell_type": "code",
   "execution_count": 6,
   "metadata": {},
   "outputs": [
    {
     "data": {
      "text/plain": [
       "['adz',\n",
       " 'zags',\n",
       " 'fz',\n",
       " 'zs',\n",
       " 'adz',\n",
       " 'gaz',\n",
       " 'zags',\n",
       " 'zags',\n",
       " 'zag',\n",
       " 'gaz',\n",
       " 'zad',\n",
       " 'zad',\n",
       " 'zs',\n",
       " 'zad',\n",
       " 'fz',\n",
       " 'zag',\n",
       " 'gaz',\n",
       " 'adz',\n",
       " 'fz',\n",
       " 'zs',\n",
       " 'zs',\n",
       " 'zags',\n",
       " 'fz',\n",
       " 'adz',\n",
       " 'fz',\n",
       " 'fz',\n",
       " 'zs',\n",
       " 'adz',\n",
       " 'sfz',\n",
       " 'zag',\n",
       " 'sfz',\n",
       " 'sfz',\n",
       " 'zags',\n",
       " 'sfz',\n",
       " 'zs',\n",
       " 'zs',\n",
       " 'zags',\n",
       " 'zad',\n",
       " 'fz',\n",
       " 'fz',\n",
       " 'zag',\n",
       " 'sfz',\n",
       " 'adz',\n",
       " 'adz',\n",
       " 'zad',\n",
       " 'zad',\n",
       " 'adz',\n",
       " 'gaz',\n",
       " 'zag',\n",
       " 'zags',\n",
       " 'zs',\n",
       " 'adz',\n",
       " 'adz',\n",
       " 'sfz',\n",
       " 'sfz',\n",
       " 'fz',\n",
       " 'zag',\n",
       " 'zags',\n",
       " 'zs',\n",
       " 'adz',\n",
       " 'sfz',\n",
       " 'gaz',\n",
       " 'zs',\n",
       " 'zs',\n",
       " 'fz',\n",
       " 'zags',\n",
       " 'gaz',\n",
       " 'adz',\n",
       " 'adz',\n",
       " 'gaz',\n",
       " 'zags',\n",
       " 'sfz',\n",
       " 'sfz',\n",
       " 'gaz',\n",
       " 'zad',\n",
       " 'sfz',\n",
       " 'sfz',\n",
       " 'adz',\n",
       " 'adz',\n",
       " 'sfz',\n",
       " 'zag',\n",
       " 'gaz',\n",
       " 'zad',\n",
       " 'zags',\n",
       " 'zad',\n",
       " 'zag',\n",
       " 'zags',\n",
       " 'zags',\n",
       " 'zad',\n",
       " 'sfz',\n",
       " 'zs',\n",
       " 'sfz',\n",
       " 'adz',\n",
       " 'zags',\n",
       " 'gaz',\n",
       " 'adz',\n",
       " 'zs',\n",
       " 'zad',\n",
       " 'adz',\n",
       " 'zag']"
      ]
     },
     "execution_count": 6,
     "metadata": {},
     "output_type": "execute_result"
    }
   ],
   "source": [
    "from random import choice\n",
    "\n",
    "my_words = []\n",
    "for i in range(100):\n",
    "    word = choice(short_words)\n",
    "    my_words.append(word)\n",
    "\n",
    "my_words"
   ]
  },
  {
   "cell_type": "code",
   "execution_count": 7,
   "metadata": {},
   "outputs": [
    {
     "data": {
      "text/plain": [
       "100"
      ]
     },
     "execution_count": 7,
     "metadata": {},
     "output_type": "execute_result"
    }
   ],
   "source": [
    "len(my_words)"
   ]
  },
  {
   "cell_type": "code",
   "execution_count": 8,
   "metadata": {},
   "outputs": [],
   "source": [
    "file_name = \"a to z words.txt\"\n",
    "file_path = os.path.join(curr_dire, file_name)\n",
    "\n",
    "with open (file_path, \"w\") as target_file:\n",
    "    target_file.write(\" \".join(my_words))\n"
   ]
  },
  {
   "cell_type": "markdown",
   "metadata": {},
   "source": [
    "***"
   ]
  }
 ],
 "metadata": {
  "kernelspec": {
   "display_name": "pytypist",
   "language": "python",
   "name": "pytypist"
  },
  "language_info": {
   "codemirror_mode": {
    "name": "ipython",
    "version": 3
   },
   "file_extension": ".py",
   "mimetype": "text/x-python",
   "name": "python",
   "nbconvert_exporter": "python",
   "pygments_lexer": "ipython3",
   "version": "3.6.4"
  }
 },
 "nbformat": 4,
 "nbformat_minor": 2
}
