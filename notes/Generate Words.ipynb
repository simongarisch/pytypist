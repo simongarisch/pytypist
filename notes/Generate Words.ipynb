{
 "cells": [
  {
   "cell_type": "markdown",
   "metadata": {},
   "source": [
    "## Get content for lesson"
   ]
  },
  {
   "cell_type": "code",
   "execution_count": 1,
   "metadata": {},
   "outputs": [
    {
     "data": {
      "text/plain": [
       "'C:\\\\Users\\\\Simon\\\\Desktop\\\\code\\\\pytypist'"
      ]
     },
     "execution_count": 1,
     "metadata": {},
     "output_type": "execute_result"
    }
   ],
   "source": [
    "import os\n",
    "\n",
    "curr_dire = os.getcwd()\n",
    "path = os.path.join(curr_dire, \"..\")\n",
    "os.chdir(path)\n",
    "os.getcwd()"
   ]
  },
  {
   "cell_type": "code",
   "execution_count": 2,
   "metadata": {},
   "outputs": [],
   "source": [
    "import pytypist"
   ]
  },
  {
   "cell_type": "code",
   "execution_count": 5,
   "metadata": {},
   "outputs": [
    {
     "data": {
      "text/plain": [
       "['jollop', 'klop', 'kop', 'lollop', 'loop']"
      ]
     },
     "execution_count": 5,
     "metadata": {},
     "output_type": "execute_result"
    }
   ],
   "source": [
    "words = pytypist.words.collect_words_containing(\"jkl;po\", must_contain=\"p\")\n",
    "words[:5]"
   ]
  },
  {
   "cell_type": "code",
   "execution_count": 6,
   "metadata": {},
   "outputs": [],
   "source": [
    "short_words = [w for w in words if len(w)>=3 and len(w)<=6]"
   ]
  },
  {
   "cell_type": "code",
   "execution_count": 7,
   "metadata": {},
   "outputs": [
    {
     "data": {
      "text/plain": [
       "['jollop', 'klop', 'kop', 'lollop', 'loop']"
      ]
     },
     "execution_count": 7,
     "metadata": {},
     "output_type": "execute_result"
    }
   ],
   "source": [
    "short_words[:5]"
   ]
  },
  {
   "cell_type": "markdown",
   "metadata": {},
   "source": [
    "Take a combination of words: half from your selection and half from the words list..."
   ]
  },
  {
   "cell_type": "code",
   "execution_count": 8,
   "metadata": {},
   "outputs": [
    {
     "data": {
      "text/plain": [
       "['lollop',\n",
       " 'lollop',\n",
       " 'pookoo',\n",
       " 'loop',\n",
       " 'plop',\n",
       " 'lollop',\n",
       " 'jollop',\n",
       " 'olp',\n",
       " 'plook',\n",
       " 'loop',\n",
       " 'klop',\n",
       " 'plook',\n",
       " 'klop',\n",
       " 'pookoo',\n",
       " 'loop',\n",
       " 'plook',\n",
       " 'olp',\n",
       " 'plook',\n",
       " 'plop',\n",
       " 'klop',\n",
       " 'jollop',\n",
       " 'lollop',\n",
       " 'plook',\n",
       " 'olp',\n",
       " 'olp',\n",
       " 'jollop',\n",
       " 'kop',\n",
       " 'plop',\n",
       " 'plook',\n",
       " 'plop',\n",
       " 'kop',\n",
       " 'olp',\n",
       " 'kop',\n",
       " 'loop',\n",
       " 'jollop',\n",
       " 'jollop',\n",
       " 'pook',\n",
       " 'plook',\n",
       " 'kop',\n",
       " 'pookoo',\n",
       " 'jollop',\n",
       " 'klop',\n",
       " 'ppl',\n",
       " 'pookoo',\n",
       " 'ppl',\n",
       " 'ppl',\n",
       " 'ppl',\n",
       " 'plop',\n",
       " 'plop',\n",
       " 'plop',\n",
       " 'klop',\n",
       " 'pookoo',\n",
       " 'pookoo',\n",
       " 'ppl',\n",
       " 'klop',\n",
       " 'plook',\n",
       " 'kop',\n",
       " 'jollop',\n",
       " 'klop',\n",
       " 'pookoo',\n",
       " 'loop',\n",
       " 'klop',\n",
       " 'jollop',\n",
       " 'lollop',\n",
       " 'ppl',\n",
       " 'pook',\n",
       " 'ppl',\n",
       " 'jollop',\n",
       " 'lollop',\n",
       " 'lollop',\n",
       " 'lollop',\n",
       " 'pook',\n",
       " 'loop',\n",
       " 'klop',\n",
       " 'pook',\n",
       " 'lollop',\n",
       " 'olp',\n",
       " 'klop',\n",
       " 'plook',\n",
       " 'olp',\n",
       " 'olp',\n",
       " 'klop',\n",
       " 'plop',\n",
       " 'olp',\n",
       " 'ppl',\n",
       " 'olp',\n",
       " 'plook',\n",
       " 'pookoo',\n",
       " 'jollop',\n",
       " 'klop',\n",
       " 'kop',\n",
       " 'plop',\n",
       " 'plook',\n",
       " 'plook',\n",
       " 'plop',\n",
       " 'pook',\n",
       " 'klop',\n",
       " 'pookoo',\n",
       " 'loop',\n",
       " 'ppl']"
      ]
     },
     "execution_count": 8,
     "metadata": {},
     "output_type": "execute_result"
    }
   ],
   "source": [
    "from random import choice\n",
    "\n",
    "my_words = []\n",
    "for i in range(100):\n",
    "    word = choice(words)\n",
    "    my_words.append(word)\n",
    "\n",
    "my_words"
   ]
  },
  {
   "cell_type": "code",
   "execution_count": 9,
   "metadata": {},
   "outputs": [
    {
     "data": {
      "text/plain": [
       "100"
      ]
     },
     "execution_count": 9,
     "metadata": {},
     "output_type": "execute_result"
    }
   ],
   "source": [
    "len(my_words)"
   ]
  },
  {
   "cell_type": "code",
   "execution_count": 10,
   "metadata": {},
   "outputs": [],
   "source": [
    "file_name = \"; to p words.txt\"\n",
    "file_path = os.path.join(curr_dire, file_name)\n",
    "\n",
    "with open (file_path, \"w\") as target_file:\n",
    "    target_file.write(\" \".join(my_words))\n"
   ]
  },
  {
   "cell_type": "markdown",
   "metadata": {},
   "source": [
    "***"
   ]
  }
 ],
 "metadata": {
  "kernelspec": {
   "display_name": "pytypist",
   "language": "python",
   "name": "pytypist"
  },
  "language_info": {
   "codemirror_mode": {
    "name": "ipython",
    "version": 3
   },
   "file_extension": ".py",
   "mimetype": "text/x-python",
   "name": "python",
   "nbconvert_exporter": "python",
   "pygments_lexer": "ipython3",
   "version": "3.6.4"
  }
 },
 "nbformat": 4,
 "nbformat_minor": 2
}
