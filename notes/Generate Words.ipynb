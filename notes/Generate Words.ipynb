{
 "cells": [
  {
   "cell_type": "markdown",
   "metadata": {},
   "source": [
    "## Get content for lesson"
   ]
  },
  {
   "cell_type": "code",
   "execution_count": 1,
   "metadata": {},
   "outputs": [
    {
     "data": {
      "text/plain": [
       "'C:\\\\Users\\\\Simon\\\\Desktop\\\\code\\\\pytypist'"
      ]
     },
     "execution_count": 1,
     "metadata": {},
     "output_type": "execute_result"
    }
   ],
   "source": [
    "import os\n",
    "\n",
    "curr_dire = os.getcwd()\n",
    "path = os.path.join(curr_dire, \"..\")\n",
    "os.chdir(path)\n",
    "os.getcwd()"
   ]
  },
  {
   "cell_type": "code",
   "execution_count": 2,
   "metadata": {},
   "outputs": [],
   "source": [
    "import pytypist"
   ]
  },
  {
   "cell_type": "code",
   "execution_count": 3,
   "metadata": {},
   "outputs": [
    {
     "data": {
      "text/plain": [
       "['added', 'adder', 'adders', 'address', 'addressed']"
      ]
     },
     "execution_count": 3,
     "metadata": {},
     "output_type": "execute_result"
    }
   ],
   "source": [
    "words = pytypist.words.collect_words_containing(\"asdfre\", must_contain=\"e\")\n",
    "words[:5]"
   ]
  },
  {
   "cell_type": "code",
   "execution_count": 6,
   "metadata": {},
   "outputs": [],
   "source": [
    "short_words = [w for w in words if len(w)>=3 and len(w)<=6]"
   ]
  },
  {
   "cell_type": "code",
   "execution_count": 8,
   "metadata": {},
   "outputs": [
    {
     "data": {
      "text/plain": [
       "['added', 'adder', 'adders', 'ade', 'adead']"
      ]
     },
     "execution_count": 8,
     "metadata": {},
     "output_type": "execute_result"
    }
   ],
   "source": [
    "short_words[:5]"
   ]
  },
  {
   "cell_type": "markdown",
   "metadata": {},
   "source": [
    "Take a combination of words: half from your selection and half from the words list..."
   ]
  },
  {
   "cell_type": "code",
   "execution_count": 9,
   "metadata": {},
   "outputs": [
    {
     "data": {
      "text/plain": [
       "['rears',\n",
       " 'feed',\n",
       " 'esere',\n",
       " 'seer',\n",
       " 'dase',\n",
       " 'fer',\n",
       " 'fades',\n",
       " 'reefed',\n",
       " 'seesee',\n",
       " 'ase',\n",
       " 'reefed',\n",
       " 'faade',\n",
       " 'err',\n",
       " 'added',\n",
       " 'sfree',\n",
       " 'rfree',\n",
       " 'seeresses',\n",
       " 'addressed',\n",
       " 'referred',\n",
       " 'afer',\n",
       " 'area',\n",
       " 'seafare',\n",
       " 'sessed',\n",
       " 'ese',\n",
       " 'arder',\n",
       " 'reseed',\n",
       " 'dere',\n",
       " 'rares',\n",
       " 'effare',\n",
       " 'sarees',\n",
       " 'afeared',\n",
       " 'safe',\n",
       " 'sear',\n",
       " 'reffed',\n",
       " 'esere',\n",
       " 'freefd',\n",
       " 'deare',\n",
       " 'rared',\n",
       " 'drears',\n",
       " 'added',\n",
       " 'resees',\n",
       " 'deads',\n",
       " 'esses',\n",
       " 'deads',\n",
       " 'dresses',\n",
       " 'adread',\n",
       " 'refs',\n",
       " 'dadder',\n",
       " 'serdar',\n",
       " 'adders',\n",
       " 'essed',\n",
       " 'feases',\n",
       " 'readdresses',\n",
       " 'effare',\n",
       " 'afeard',\n",
       " 'dared',\n",
       " 'sessed',\n",
       " 'aread',\n",
       " 'feff',\n",
       " 'erred',\n",
       " 'dared',\n",
       " 'fer',\n",
       " 'readers',\n",
       " 'frasse',\n",
       " 'fesses',\n",
       " 'sered',\n",
       " 'dreader',\n",
       " 'fare',\n",
       " 'refer',\n",
       " 'eases',\n",
       " 'free',\n",
       " 'redes',\n",
       " 'affeer',\n",
       " 'arse',\n",
       " 'serrae',\n",
       " 'readers',\n",
       " 'eses',\n",
       " 'dress',\n",
       " 'fees',\n",
       " 'redded',\n",
       " 'deaf',\n",
       " 'rases',\n",
       " 'sfree',\n",
       " 'dearer',\n",
       " 'arse',\n",
       " 'fares',\n",
       " 'radded',\n",
       " 'afeared',\n",
       " 'adead',\n",
       " 'darer',\n",
       " 'reads',\n",
       " 'referrers',\n",
       " 'raffee',\n",
       " 'erses',\n",
       " 'sess',\n",
       " 'erasers',\n",
       " 'seafarers',\n",
       " 'aer',\n",
       " 'reassess',\n",
       " 'redsear']"
      ]
     },
     "execution_count": 9,
     "metadata": {},
     "output_type": "execute_result"
    }
   ],
   "source": [
    "from random import choice\n",
    "\n",
    "my_words = []\n",
    "for i in range(100):\n",
    "    word = choice(words)\n",
    "    my_words.append(word)\n",
    "\n",
    "my_words"
   ]
  },
  {
   "cell_type": "code",
   "execution_count": 10,
   "metadata": {},
   "outputs": [
    {
     "data": {
      "text/plain": [
       "100"
      ]
     },
     "execution_count": 10,
     "metadata": {},
     "output_type": "execute_result"
    }
   ],
   "source": [
    "len(my_words)"
   ]
  },
  {
   "cell_type": "code",
   "execution_count": 11,
   "metadata": {},
   "outputs": [],
   "source": [
    "file_name = \"d to e words.txt\"\n",
    "file_path = os.path.join(curr_dire, file_name)\n",
    "\n",
    "with open (file_path, \"w\") as target_file:\n",
    "    target_file.write(\" \".join(my_words))\n"
   ]
  },
  {
   "cell_type": "markdown",
   "metadata": {},
   "source": [
    "***"
   ]
  }
 ],
 "metadata": {
  "kernelspec": {
   "display_name": "pytypist",
   "language": "python",
   "name": "pytypist"
  },
  "language_info": {
   "codemirror_mode": {
    "name": "ipython",
    "version": 3
   },
   "file_extension": ".py",
   "mimetype": "text/x-python",
   "name": "python",
   "nbconvert_exporter": "python",
   "pygments_lexer": "ipython3",
   "version": "3.6.4"
  }
 },
 "nbformat": 4,
 "nbformat_minor": 2
}
