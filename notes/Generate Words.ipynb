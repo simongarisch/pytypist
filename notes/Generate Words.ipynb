{
 "cells": [
  {
   "cell_type": "markdown",
   "metadata": {},
   "source": [
    "## Get content for lesson"
   ]
  },
  {
   "cell_type": "code",
   "execution_count": 12,
   "metadata": {},
   "outputs": [
    {
     "data": {
      "text/plain": [
       "'C:\\\\Users\\\\Simon\\\\Desktop\\\\code'"
      ]
     },
     "execution_count": 12,
     "metadata": {},
     "output_type": "execute_result"
    }
   ],
   "source": [
    "import os\n",
    "\n",
    "curr_dire = os.getcwd()\n",
    "path = os.path.join(curr_dire, \"..\")\n",
    "os.chdir(path)\n",
    "os.getcwd()"
   ]
  },
  {
   "cell_type": "code",
   "execution_count": 13,
   "metadata": {},
   "outputs": [],
   "source": [
    "import pytypist"
   ]
  },
  {
   "cell_type": "code",
   "execution_count": 14,
   "metadata": {},
   "outputs": [
    {
     "data": {
      "text/plain": [
       "['adaw', 'awa', 'awd', 'daw', 'daws']"
      ]
     },
     "execution_count": 14,
     "metadata": {},
     "output_type": "execute_result"
    }
   ],
   "source": [
    "words = pytypist.words.collect_words_containing(\"asdfsw\", must_contain=\"w\")\n",
    "words[:5]"
   ]
  },
  {
   "cell_type": "code",
   "execution_count": 15,
   "metadata": {},
   "outputs": [],
   "source": [
    "short_words = [w for w in words if len(w)>=3 and len(w)<=6]"
   ]
  },
  {
   "cell_type": "code",
   "execution_count": 16,
   "metadata": {},
   "outputs": [
    {
     "data": {
      "text/plain": [
       "['adaw', 'awa', 'awd', 'daw', 'daws']"
      ]
     },
     "execution_count": 16,
     "metadata": {},
     "output_type": "execute_result"
    }
   ],
   "source": [
    "short_words[:5]"
   ]
  },
  {
   "cell_type": "markdown",
   "metadata": {},
   "source": [
    "Take a combination of words: half from your selection and half from the words list..."
   ]
  },
  {
   "cell_type": "code",
   "execution_count": 17,
   "metadata": {},
   "outputs": [
    {
     "data": {
      "text/plain": [
       "['waw',\n",
       " 'waws',\n",
       " 'awa',\n",
       " 'waff',\n",
       " 'adaw',\n",
       " 'adaw',\n",
       " 'waffs',\n",
       " 'waffs',\n",
       " 'waff',\n",
       " 'daw',\n",
       " 'waw',\n",
       " 'swad',\n",
       " 'waffs',\n",
       " 'waffs',\n",
       " 'swad',\n",
       " 'waws',\n",
       " 'awa',\n",
       " 'awa',\n",
       " 'was',\n",
       " 'awa',\n",
       " 'waws',\n",
       " 'wad',\n",
       " 'swad',\n",
       " 'wad',\n",
       " 'daws',\n",
       " 'waws',\n",
       " 'waw',\n",
       " 'waff',\n",
       " 'wawa',\n",
       " 'awd',\n",
       " 'waws',\n",
       " 'daw',\n",
       " 'waw',\n",
       " 'waffs',\n",
       " 'awa',\n",
       " 'wawa',\n",
       " 'waw',\n",
       " 'daw',\n",
       " 'adaw',\n",
       " 'waffs',\n",
       " 'awd',\n",
       " 'waw',\n",
       " 'wad',\n",
       " 'daws',\n",
       " 'daw',\n",
       " 'awa',\n",
       " 'daw',\n",
       " 'awa',\n",
       " 'awd',\n",
       " 'waws',\n",
       " 'daws',\n",
       " 'daws',\n",
       " 'swad',\n",
       " 'wawa',\n",
       " 'wawa',\n",
       " 'daw',\n",
       " 'daws',\n",
       " 'daw',\n",
       " 'daw',\n",
       " 'daw',\n",
       " 'wawa',\n",
       " 'was',\n",
       " 'waff',\n",
       " 'awa',\n",
       " 'awa',\n",
       " 'daws',\n",
       " 'waw',\n",
       " 'wawa',\n",
       " 'swad',\n",
       " 'saws',\n",
       " 'daw',\n",
       " 'was',\n",
       " 'wawa',\n",
       " 'awa',\n",
       " 'waw',\n",
       " 'waff',\n",
       " 'daws',\n",
       " 'wad',\n",
       " 'awa',\n",
       " 'waws',\n",
       " 'waffs',\n",
       " 'waffs',\n",
       " 'swad',\n",
       " 'awa',\n",
       " 'daws',\n",
       " 'was',\n",
       " 'awd',\n",
       " 'adaw',\n",
       " 'awa',\n",
       " 'waws',\n",
       " 'awd',\n",
       " 'wad',\n",
       " 'saws',\n",
       " 'saws',\n",
       " 'awa',\n",
       " 'waw',\n",
       " 'wawa',\n",
       " 'daws',\n",
       " 'daw',\n",
       " 'daws']"
      ]
     },
     "execution_count": 17,
     "metadata": {},
     "output_type": "execute_result"
    }
   ],
   "source": [
    "from random import choice\n",
    "\n",
    "my_words = []\n",
    "for i in range(100):\n",
    "    word = choice(words)\n",
    "    my_words.append(word)\n",
    "\n",
    "my_words"
   ]
  },
  {
   "cell_type": "code",
   "execution_count": 18,
   "metadata": {},
   "outputs": [
    {
     "data": {
      "text/plain": [
       "100"
      ]
     },
     "execution_count": 18,
     "metadata": {},
     "output_type": "execute_result"
    }
   ],
   "source": [
    "len(my_words)"
   ]
  },
  {
   "cell_type": "code",
   "execution_count": 19,
   "metadata": {},
   "outputs": [],
   "source": [
    "file_name = \"s to w words.txt\"\n",
    "file_path = os.path.join(curr_dire, file_name)\n",
    "\n",
    "with open (file_path, \"w\") as target_file:\n",
    "    target_file.write(\" \".join(my_words))\n"
   ]
  },
  {
   "cell_type": "markdown",
   "metadata": {},
   "source": [
    "***"
   ]
  }
 ],
 "metadata": {
  "kernelspec": {
   "display_name": "pytypist",
   "language": "python",
   "name": "pytypist"
  },
  "language_info": {
   "codemirror_mode": {
    "name": "ipython",
    "version": 3
   },
   "file_extension": ".py",
   "mimetype": "text/x-python",
   "name": "python",
   "nbconvert_exporter": "python",
   "pygments_lexer": "ipython3",
   "version": "3.6.4"
  }
 },
 "nbformat": 4,
 "nbformat_minor": 2
}
