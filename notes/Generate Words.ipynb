{
 "cells": [
  {
   "cell_type": "markdown",
   "metadata": {},
   "source": [
    "## Get content for lesson"
   ]
  },
  {
   "cell_type": "code",
   "execution_count": 1,
   "metadata": {},
   "outputs": [
    {
     "data": {
      "text/plain": [
       "'C:\\\\Users\\\\Simon\\\\Desktop\\\\code\\\\pytypist'"
      ]
     },
     "execution_count": 1,
     "metadata": {},
     "output_type": "execute_result"
    }
   ],
   "source": [
    "import os\n",
    "\n",
    "curr_dire = os.getcwd()\n",
    "path = os.path.join(curr_dire, \"..\")\n",
    "os.chdir(path)\n",
    "os.getcwd()"
   ]
  },
  {
   "cell_type": "code",
   "execution_count": 2,
   "metadata": {},
   "outputs": [],
   "source": [
    "import pytypist"
   ]
  },
  {
   "cell_type": "code",
   "execution_count": 3,
   "metadata": {},
   "outputs": [
    {
     "data": {
      "text/plain": [
       "['adv', 'avg', 'avgas', 'gv', 'sav']"
      ]
     },
     "execution_count": 3,
     "metadata": {},
     "output_type": "execute_result"
    }
   ],
   "source": [
    "words = pytypist.words.collect_words_containing(\"asdfgc\", must_contain=\"v\")\n",
    "words[:5]"
   ]
  },
  {
   "cell_type": "code",
   "execution_count": 4,
   "metadata": {},
   "outputs": [],
   "source": [
    "short_words = [w for w in words if len(w)>=2 and len(w)<=5]"
   ]
  },
  {
   "cell_type": "code",
   "execution_count": 5,
   "metadata": {},
   "outputs": [
    {
     "data": {
      "text/plain": [
       "['adv', 'avg', 'avgas', 'gv', 'sav']"
      ]
     },
     "execution_count": 5,
     "metadata": {},
     "output_type": "execute_result"
    }
   ],
   "source": [
    "short_words[:5]"
   ]
  },
  {
   "cell_type": "markdown",
   "metadata": {},
   "source": [
    "Take a combination of words: half from your selection and half from the words list..."
   ]
  },
  {
   "cell_type": "code",
   "execution_count": 6,
   "metadata": {},
   "outputs": [
    {
     "data": {
      "text/plain": [
       "['vagas',\n",
       " 'gv',\n",
       " 'adv',\n",
       " 'gv',\n",
       " 'adv',\n",
       " 'vag',\n",
       " 'sav',\n",
       " 'sav',\n",
       " 'sav',\n",
       " 'svgs',\n",
       " 'vaad',\n",
       " 'vavs',\n",
       " 'vavs',\n",
       " 'vagas',\n",
       " 'adv',\n",
       " 'vagas',\n",
       " 'vaad',\n",
       " 'gv',\n",
       " 'avg',\n",
       " 'vavs',\n",
       " 'svgs',\n",
       " 'gv',\n",
       " 'vavs',\n",
       " 'adv',\n",
       " 'adv',\n",
       " 'vagas',\n",
       " 'gv',\n",
       " 'gv',\n",
       " 'avgas',\n",
       " 'avg',\n",
       " 'adv',\n",
       " 'vag',\n",
       " 'vag',\n",
       " 'vavs',\n",
       " 'sav',\n",
       " 'vag',\n",
       " 'sav',\n",
       " 'svgs',\n",
       " 'avgas',\n",
       " 'gv',\n",
       " 'vavs',\n",
       " 'vaad',\n",
       " 'vavs',\n",
       " 'sav',\n",
       " 'svgs',\n",
       " 'vaad',\n",
       " 'avgas',\n",
       " 'vaad',\n",
       " 'adv',\n",
       " 'avg',\n",
       " 'vag',\n",
       " 'vagas',\n",
       " 'avgas',\n",
       " 'vaad',\n",
       " 'svgs',\n",
       " 'vag',\n",
       " 'gv',\n",
       " 'avgas',\n",
       " 'svgs',\n",
       " 'sav',\n",
       " 'gv',\n",
       " 'svgs',\n",
       " 'vag',\n",
       " 'sav',\n",
       " 'vagas',\n",
       " 'vag',\n",
       " 'adv',\n",
       " 'vaad',\n",
       " 'avgas',\n",
       " 'adv',\n",
       " 'vavs',\n",
       " 'adv',\n",
       " 'svgs',\n",
       " 'vavs',\n",
       " 'gv',\n",
       " 'avgas',\n",
       " 'vaad',\n",
       " 'vaad',\n",
       " 'vag',\n",
       " 'sav',\n",
       " 'vagas',\n",
       " 'adv',\n",
       " 'vag',\n",
       " 'sav',\n",
       " 'avgas',\n",
       " 'vaad',\n",
       " 'sav',\n",
       " 'avg',\n",
       " 'svgs',\n",
       " 'avg',\n",
       " 'vag',\n",
       " 'vagas',\n",
       " 'adv',\n",
       " 'sav',\n",
       " 'avg',\n",
       " 'adv',\n",
       " 'gv',\n",
       " 'sav',\n",
       " 'gv',\n",
       " 'vavs']"
      ]
     },
     "execution_count": 6,
     "metadata": {},
     "output_type": "execute_result"
    }
   ],
   "source": [
    "from random import choice\n",
    "\n",
    "my_words = []\n",
    "for i in range(100):\n",
    "    word = choice(short_words)\n",
    "    my_words.append(word)\n",
    "\n",
    "my_words"
   ]
  },
  {
   "cell_type": "code",
   "execution_count": 7,
   "metadata": {},
   "outputs": [
    {
     "data": {
      "text/plain": [
       "100"
      ]
     },
     "execution_count": 7,
     "metadata": {},
     "output_type": "execute_result"
    }
   ],
   "source": [
    "len(my_words)"
   ]
  },
  {
   "cell_type": "code",
   "execution_count": 8,
   "metadata": {},
   "outputs": [],
   "source": [
    "file_name = \"f to v words.txt\"\n",
    "file_path = os.path.join(curr_dire, file_name)\n",
    "\n",
    "with open (file_path, \"w\") as target_file:\n",
    "    target_file.write(\" \".join(my_words))\n"
   ]
  },
  {
   "cell_type": "markdown",
   "metadata": {},
   "source": [
    "***"
   ]
  }
 ],
 "metadata": {
  "kernelspec": {
   "display_name": "pytypist",
   "language": "python",
   "name": "pytypist"
  },
  "language_info": {
   "codemirror_mode": {
    "name": "ipython",
    "version": 3
   },
   "file_extension": ".py",
   "mimetype": "text/x-python",
   "name": "python",
   "nbconvert_exporter": "python",
   "pygments_lexer": "ipython3",
   "version": "3.6.4"
  }
 },
 "nbformat": 4,
 "nbformat_minor": 2
}
