{
 "cells": [
  {
   "cell_type": "markdown",
   "metadata": {},
   "source": [
    "## Get content for lesson"
   ]
  },
  {
   "cell_type": "code",
   "execution_count": 1,
   "metadata": {},
   "outputs": [
    {
     "data": {
      "text/plain": [
       "'C:\\\\Users\\\\Simon\\\\Desktop\\\\code\\\\pytypist'"
      ]
     },
     "execution_count": 1,
     "metadata": {},
     "output_type": "execute_result"
    }
   ],
   "source": [
    "import os\n",
    "\n",
    "curr_dire = os.getcwd()\n",
    "path = os.path.join(curr_dire, \"..\")\n",
    "os.chdir(path)\n",
    "os.getcwd()"
   ]
  },
  {
   "cell_type": "code",
   "execution_count": 2,
   "metadata": {},
   "outputs": [],
   "source": [
    "import pytypist"
   ]
  },
  {
   "cell_type": "code",
   "execution_count": 4,
   "metadata": {},
   "outputs": [
    {
     "data": {
      "text/plain": [
       "['joll', 'jook', 'kolo', 'kolokolo', 'kook']"
      ]
     },
     "execution_count": 4,
     "metadata": {},
     "output_type": "execute_result"
    }
   ],
   "source": [
    "words = pytypist.words.collect_words_containing(\"jkl;o\", must_contain=\"o\")\n",
    "words[:5]"
   ]
  },
  {
   "cell_type": "code",
   "execution_count": 5,
   "metadata": {},
   "outputs": [],
   "source": [
    "short_words = [w for w in words if len(w)>=3 and len(w)<=6]"
   ]
  },
  {
   "cell_type": "code",
   "execution_count": 6,
   "metadata": {},
   "outputs": [
    {
     "data": {
      "text/plain": [
       "['joll', 'jook', 'kolo', 'kook', 'loll']"
      ]
     },
     "execution_count": 6,
     "metadata": {},
     "output_type": "execute_result"
    }
   ],
   "source": [
    "short_words[:5]"
   ]
  },
  {
   "cell_type": "markdown",
   "metadata": {},
   "source": [
    "Take a combination of words: half from your selection and half from the words list..."
   ]
  },
  {
   "cell_type": "code",
   "execution_count": 7,
   "metadata": {},
   "outputs": [
    {
     "data": {
      "text/plain": [
       "['kolo',\n",
       " 'o',\n",
       " 'kolokolo',\n",
       " 'loo',\n",
       " 'oooo',\n",
       " 'jook',\n",
       " 'oooo',\n",
       " 'jook',\n",
       " 'joll',\n",
       " 'jook',\n",
       " 'loll',\n",
       " 'kolo',\n",
       " 'joll',\n",
       " 'oooo',\n",
       " 'look',\n",
       " 'joll',\n",
       " 'kolo',\n",
       " 'oooo',\n",
       " 'oooo',\n",
       " 'kolo',\n",
       " 'kolo',\n",
       " 'jook',\n",
       " 'loll',\n",
       " 'kolokolo',\n",
       " 'ol',\n",
       " 'kolo',\n",
       " 'jook',\n",
       " 'ol',\n",
       " 'ol',\n",
       " 'kolo',\n",
       " 'kolo',\n",
       " 'o',\n",
       " 'joll',\n",
       " 'kolo',\n",
       " 'o',\n",
       " 'jook',\n",
       " 'kook',\n",
       " 'jook',\n",
       " 'kook',\n",
       " 'look',\n",
       " 'o',\n",
       " 'loll',\n",
       " 'loo',\n",
       " 'loo',\n",
       " 'kolo',\n",
       " 'oooo',\n",
       " 'jook',\n",
       " 'kook',\n",
       " 'loll',\n",
       " 'jook',\n",
       " 'look',\n",
       " 'loll',\n",
       " 'ol',\n",
       " 'loo',\n",
       " 'look',\n",
       " 'jook',\n",
       " 'jook',\n",
       " 'loll',\n",
       " 'o',\n",
       " 'jook',\n",
       " 'kook',\n",
       " 'kolo',\n",
       " 'joll',\n",
       " 'kolokolo',\n",
       " 'kolokolo',\n",
       " 'loo',\n",
       " 'o',\n",
       " 'kook',\n",
       " 'loo',\n",
       " 'oooo',\n",
       " 'oooo',\n",
       " 'loll',\n",
       " 'oooo',\n",
       " 'kolokolo',\n",
       " 'kolo',\n",
       " 'o',\n",
       " 'kolo',\n",
       " 'loo',\n",
       " 'ol',\n",
       " 'o',\n",
       " 'o',\n",
       " 'kolokolo',\n",
       " 'ol',\n",
       " 'o',\n",
       " 'kolokolo',\n",
       " 'oooo',\n",
       " 'kolokolo',\n",
       " 'kook',\n",
       " 'jook',\n",
       " 'look',\n",
       " 'kolokolo',\n",
       " 'look',\n",
       " 'ol',\n",
       " 'oooo',\n",
       " 'jook',\n",
       " 'kolokolo',\n",
       " 'loo',\n",
       " 'ol',\n",
       " 'kolo',\n",
       " 'ol']"
      ]
     },
     "execution_count": 7,
     "metadata": {},
     "output_type": "execute_result"
    }
   ],
   "source": [
    "from random import choice\n",
    "\n",
    "my_words = []\n",
    "for i in range(100):\n",
    "    word = choice(words)\n",
    "    my_words.append(word)\n",
    "\n",
    "my_words"
   ]
  },
  {
   "cell_type": "code",
   "execution_count": 8,
   "metadata": {},
   "outputs": [
    {
     "data": {
      "text/plain": [
       "100"
      ]
     },
     "execution_count": 8,
     "metadata": {},
     "output_type": "execute_result"
    }
   ],
   "source": [
    "len(my_words)"
   ]
  },
  {
   "cell_type": "code",
   "execution_count": 9,
   "metadata": {},
   "outputs": [],
   "source": [
    "file_name = \"l to o words.txt\"\n",
    "file_path = os.path.join(curr_dire, file_name)\n",
    "\n",
    "with open (file_path, \"w\") as target_file:\n",
    "    target_file.write(\" \".join(my_words))\n"
   ]
  },
  {
   "cell_type": "markdown",
   "metadata": {},
   "source": [
    "***"
   ]
  }
 ],
 "metadata": {
  "kernelspec": {
   "display_name": "pytypist",
   "language": "python",
   "name": "pytypist"
  },
  "language_info": {
   "codemirror_mode": {
    "name": "ipython",
    "version": 3
   },
   "file_extension": ".py",
   "mimetype": "text/x-python",
   "name": "python",
   "nbconvert_exporter": "python",
   "pygments_lexer": "ipython3",
   "version": "3.6.4"
  }
 },
 "nbformat": 4,
 "nbformat_minor": 2
}
