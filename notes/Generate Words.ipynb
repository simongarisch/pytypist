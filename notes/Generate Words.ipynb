{
 "cells": [
  {
   "cell_type": "markdown",
   "metadata": {},
   "source": [
    "## Get content for lesson"
   ]
  },
  {
   "cell_type": "code",
   "execution_count": 1,
   "metadata": {},
   "outputs": [
    {
     "data": {
      "text/plain": [
       "'C:\\\\Users\\\\Simon\\\\Desktop\\\\code\\\\pytypist'"
      ]
     },
     "execution_count": 1,
     "metadata": {},
     "output_type": "execute_result"
    }
   ],
   "source": [
    "import os\n",
    "\n",
    "curr_dire = os.getcwd()\n",
    "path = os.path.join(curr_dire, \"..\")\n",
    "os.chdir(path)\n",
    "os.getcwd()"
   ]
  },
  {
   "cell_type": "code",
   "execution_count": 2,
   "metadata": {},
   "outputs": [],
   "source": [
    "import pytypist"
   ]
  },
  {
   "cell_type": "code",
   "execution_count": 9,
   "metadata": {},
   "outputs": [
    {
     "data": {
      "text/plain": [
       "['a', 'aah', 'aahs', 'aal', 'aals']"
      ]
     },
     "execution_count": 9,
     "metadata": {},
     "output_type": "execute_result"
    }
   ],
   "source": [
    "words = pytypist.words.collect_words_containing(\"asdfghjkl;zxcvbnm\", must_contain=\"\")\n",
    "words[:5]"
   ]
  },
  {
   "cell_type": "code",
   "execution_count": 12,
   "metadata": {},
   "outputs": [],
   "source": [
    "short_words = [w for w in words if len(w)>=3 and len(w)<=7]"
   ]
  },
  {
   "cell_type": "code",
   "execution_count": 13,
   "metadata": {},
   "outputs": [
    {
     "data": {
      "text/plain": [
       "['aah', 'aahs', 'aal', 'aals', 'abac']"
      ]
     },
     "execution_count": 13,
     "metadata": {},
     "output_type": "execute_result"
    }
   ],
   "source": [
    "short_words[:5]"
   ]
  },
  {
   "cell_type": "markdown",
   "metadata": {},
   "source": [
    "Take a combination of words: half from your selection and half from the words list..."
   ]
  },
  {
   "cell_type": "code",
   "execution_count": 17,
   "metadata": {},
   "outputs": [
    {
     "data": {
      "text/plain": [
       "['abaka',\n",
       " 'admass',\n",
       " 'snags',\n",
       " 'nagsman',\n",
       " 'bsh',\n",
       " 'cajang',\n",
       " 'gash',\n",
       " 'faham',\n",
       " 'sanand',\n",
       " 'halms',\n",
       " 'clag',\n",
       " 'cmdg',\n",
       " 'shack',\n",
       " 'kachcha',\n",
       " 'glack',\n",
       " 'casabas',\n",
       " 'agmas',\n",
       " 'chg',\n",
       " 'cajava',\n",
       " 'gasbag',\n",
       " 'vavs',\n",
       " 'bahan',\n",
       " 'mallam',\n",
       " 'lacs',\n",
       " 'jacks',\n",
       " 'macks',\n",
       " 'nabla',\n",
       " 'nags',\n",
       " 'sfm',\n",
       " 'hallahs',\n",
       " 'cans',\n",
       " 'clangs',\n",
       " 'schmalz',\n",
       " 'dhan',\n",
       " 'changs',\n",
       " 'cassada',\n",
       " 'malam',\n",
       " 'bhava',\n",
       " 'gamb',\n",
       " 'anack',\n",
       " 'salad',\n",
       " 'cangan',\n",
       " 'hansas',\n",
       " 'jank',\n",
       " 'jackal',\n",
       " 'bbls',\n",
       " 'kafs',\n",
       " 'axman',\n",
       " 'abakas',\n",
       " 'dhaks',\n",
       " 'sasa',\n",
       " 'baga',\n",
       " 'sagan',\n",
       " 'cabman',\n",
       " 'band',\n",
       " 'cads',\n",
       " 'chg',\n",
       " 'alk',\n",
       " 'naf',\n",
       " 'hld',\n",
       " 'hamadas',\n",
       " 'addnl',\n",
       " 'gams',\n",
       " 'haafs',\n",
       " 'bad',\n",
       " 'manal',\n",
       " 'jab',\n",
       " 'alkanal',\n",
       " 'kalam',\n",
       " 'kababs',\n",
       " 'gam',\n",
       " 'lalls',\n",
       " 'ajava',\n",
       " 'cafh',\n",
       " 'kgf',\n",
       " 'ajava',\n",
       " 'adz',\n",
       " 'ashcan',\n",
       " 'lambs',\n",
       " 'bkgd',\n",
       " 'flasks',\n",
       " 'lands',\n",
       " 'ahsan',\n",
       " 'flamb',\n",
       " 'claval',\n",
       " 'malanga',\n",
       " 'knacks',\n",
       " 'anga',\n",
       " 'alclad',\n",
       " 'clash',\n",
       " 'daffs',\n",
       " 'csch',\n",
       " 'zaman',\n",
       " 'cadamba',\n",
       " 'flasks',\n",
       " 'amaga',\n",
       " 'alms',\n",
       " 'clanks',\n",
       " 'klva',\n",
       " 'chass']"
      ]
     },
     "execution_count": 17,
     "metadata": {},
     "output_type": "execute_result"
    }
   ],
   "source": [
    "from random import choice\n",
    "\n",
    "my_words = []\n",
    "for i in range(100):\n",
    "    word = choice(short_words)\n",
    "    my_words.append(word)\n",
    "\n",
    "my_words"
   ]
  },
  {
   "cell_type": "code",
   "execution_count": 18,
   "metadata": {},
   "outputs": [
    {
     "data": {
      "text/plain": [
       "100"
      ]
     },
     "execution_count": 18,
     "metadata": {},
     "output_type": "execute_result"
    }
   ],
   "source": [
    "len(my_words)"
   ]
  },
  {
   "cell_type": "code",
   "execution_count": 20,
   "metadata": {},
   "outputs": [
    {
     "data": {
      "text/plain": [
       "'C:\\\\Users\\\\Simon\\\\Desktop\\\\code\\\\pytypist\\\\notes'"
      ]
     },
     "execution_count": 20,
     "metadata": {},
     "output_type": "execute_result"
    }
   ],
   "source": [
    "curr_dire"
   ]
  },
  {
   "cell_type": "code",
   "execution_count": 21,
   "metadata": {},
   "outputs": [],
   "source": [
    "# generate multiple\n",
    "from random import choice\n",
    "\n",
    "for n in range(1,6):\n",
    "    my_words = []\n",
    "    for i in range(100):\n",
    "        word = choice(short_words)\n",
    "        my_words.append(word)\n",
    "\n",
    "    file_name = \"Bottom row practice %d.txt\" % n\n",
    "    file_path = os.path.join(curr_dire, file_name)\n",
    "    with open (file_path, \"w\") as target_file:\n",
    "        target_file.write(\" \".join(my_words))\n"
   ]
  },
  {
   "cell_type": "code",
   "execution_count": 8,
   "metadata": {},
   "outputs": [],
   "source": [
    "file_name = \"j to m words.txt\"\n",
    "file_path = os.path.join(curr_dire, file_name)\n",
    "\n",
    "with open (file_path, \"w\") as target_file:\n",
    "    target_file.write(\" \".join(my_words))\n"
   ]
  },
  {
   "cell_type": "markdown",
   "metadata": {},
   "source": [
    "***"
   ]
  }
 ],
 "metadata": {
  "kernelspec": {
   "display_name": "py36",
   "language": "python",
   "name": "py36"
  },
  "language_info": {
   "codemirror_mode": {
    "name": "ipython",
    "version": 3
   },
   "file_extension": ".py",
   "mimetype": "text/x-python",
   "name": "python",
   "nbconvert_exporter": "python",
   "pygments_lexer": "ipython3",
   "version": "3.6.6"
  }
 },
 "nbformat": 4,
 "nbformat_minor": 2
}
