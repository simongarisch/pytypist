{
 "cells": [
  {
   "cell_type": "markdown",
   "metadata": {},
   "source": [
    "## Getting typing content\n",
    "\n",
    "There are some programming quotes at [this repo](https://github.com/skolakoda/programming-quotes-api). These have been saved down as programming_quotes.json.\n",
    "\n",
    "There are a number of APIs available...\n",
    "\n",
    "https://favqs.com/api for a start."
   ]
  },
  {
   "cell_type": "code",
   "execution_count": 1,
   "metadata": {},
   "outputs": [],
   "source": [
    "import requests\n",
    "\n",
    "url = \"https://favqs.com/api/qotd\"\n",
    "response = requests.get(url)"
   ]
  },
  {
   "cell_type": "code",
   "execution_count": 2,
   "metadata": {},
   "outputs": [
    {
     "data": {
      "text/plain": [
       "200"
      ]
     },
     "execution_count": 2,
     "metadata": {},
     "output_type": "execute_result"
    }
   ],
   "source": [
    "response.status_code"
   ]
  },
  {
   "cell_type": "code",
   "execution_count": 3,
   "metadata": {},
   "outputs": [
    {
     "data": {
      "text/plain": [
       "b'{\"qotd_date\":\"2019-10-13T00:00:00.000+00:00\",\"quote\":{\"id\":1108,\"dialogue\":false,\"private\":false,\"tags\":[\"age\"],\"url\":\"https://favqs.com/quotes/aeschylus/1108-by-time-and-ag-\",\"favorites_count\":0,\"upvotes_count\":1,\"downvotes_count\":0,\"author\":\"Aeschylus\",\"author_permalink\":\"aeschylus\",\"body\":\"By Time and Age full many things are taught.\"}}'"
      ]
     },
     "execution_count": 3,
     "metadata": {},
     "output_type": "execute_result"
    }
   ],
   "source": [
    "response.content"
   ]
  },
  {
   "cell_type": "code",
   "execution_count": 4,
   "metadata": {},
   "outputs": [
    {
     "data": {
      "text/plain": [
       "{'qotd_date': '2019-10-13T00:00:00.000+00:00',\n",
       " 'quote': {'id': 1108,\n",
       "  'dialogue': False,\n",
       "  'private': False,\n",
       "  'tags': ['age'],\n",
       "  'url': 'https://favqs.com/quotes/aeschylus/1108-by-time-and-ag-',\n",
       "  'favorites_count': 0,\n",
       "  'upvotes_count': 1,\n",
       "  'downvotes_count': 0,\n",
       "  'author': 'Aeschylus',\n",
       "  'author_permalink': 'aeschylus',\n",
       "  'body': 'By Time and Age full many things are taught.'}}"
      ]
     },
     "execution_count": 4,
     "metadata": {},
     "output_type": "execute_result"
    }
   ],
   "source": [
    "import json\n",
    "\n",
    "details = json.loads(response.content)\n",
    "details"
   ]
  },
  {
   "cell_type": "code",
   "execution_count": 5,
   "metadata": {},
   "outputs": [
    {
     "data": {
      "text/plain": [
       "'By Time and Age full many things are taught.'"
      ]
     },
     "execution_count": 5,
     "metadata": {},
     "output_type": "execute_result"
    }
   ],
   "source": [
    "details[\"quote\"][\"body\"]"
   ]
  },
  {
   "cell_type": "markdown",
   "metadata": {},
   "source": [
    "## Only this quote of the day is collectable without a key."
   ]
  },
  {
   "cell_type": "code",
   "execution_count": 6,
   "metadata": {},
   "outputs": [
    {
     "data": {
      "text/plain": [
       "401"
      ]
     },
     "execution_count": 6,
     "metadata": {},
     "output_type": "execute_result"
    }
   ],
   "source": [
    "import requests\n",
    "\n",
    "url = \"https://favqs.com/api/quotes\"\n",
    "response = requests.get(url)\n",
    "response.status_code"
   ]
  },
  {
   "cell_type": "code",
   "execution_count": 7,
   "metadata": {},
   "outputs": [
    {
     "data": {
      "text/plain": [
       "b'HTTP Token: Access denied.\\n'"
      ]
     },
     "execution_count": 7,
     "metadata": {},
     "output_type": "execute_result"
    }
   ],
   "source": [
    "response.content"
   ]
  },
  {
   "cell_type": "markdown",
   "metadata": {},
   "source": [
    "## We can scrape text files\n",
    "Here is one example https://www.innermind.com/software/quotes/files/qfiles.htm\n",
    "\n",
    "This is where I've got Dexter.txt and Walking_Dead.txt."
   ]
  },
  {
   "cell_type": "code",
   "execution_count": 8,
   "metadata": {},
   "outputs": [
    {
     "data": {
      "text/plain": [
       "True"
      ]
     },
     "execution_count": 8,
     "metadata": {},
     "output_type": "execute_result"
    }
   ],
   "source": [
    "import os\n",
    "\n",
    "os.path.isfile(\"Dexter.txt\")"
   ]
  },
  {
   "cell_type": "code",
   "execution_count": 9,
   "metadata": {},
   "outputs": [
    {
     "data": {
      "text/plain": [
       "(str, 169696)"
      ]
     },
     "execution_count": 9,
     "metadata": {},
     "output_type": "execute_result"
    }
   ],
   "source": [
    "file_name = \"Dexter.txt\"\n",
    "\n",
    "with open(file_name, \"r\") as target_file:\n",
    "    content = target_file.read()\n",
    "\n",
    "type(content), len(content)"
   ]
  },
  {
   "cell_type": "code",
   "execution_count": 10,
   "metadata": {},
   "outputs": [
    {
     "name": "stdout",
     "output_type": "stream",
     "text": [
      "Dexter: [voiceover] Tonight's the night. And it's going to happen again and again. It has to happen.\n",
      "\n",
      "  --  Dexter [1.01] - Season 1\n",
      "%\n",
      "Mike Donovan: I couldn't help myself. I couldn't. Please, you have to understand.\n",
      "Dexter: Trust me, I definitely understand. See, I can't help myself either. But children? I could never do that. Not like you. Never ... ever ... kids.\n",
      "Mike Donovan: Why?\n",
      "Dexter: I have standards.\n",
      "\n",
      "  --  Dexter [1.01] - Season 1\n",
      "%\n",
      "Dexter: [voiceover] Harry was a great cop here in Miami. He taught me how to think like one; he taught me how to cover my tracks. I'm a very neat monster.\n",
      "\n",
      "  --  Dexter [1.01] - Season 1\n",
      "%\n",
      "Dexter: [voiceover] Blood. Sometimes it sets my teeth on edge. Other times it helps me control the chaos.\n",
      "\n",
      "  --  Dexter [1.01] - Season 1\n",
      "%\n",
      "Dexter: [voiceover] There's something strange and disarming about looking at a homicide scene in the daylight of Miami. It makes the most grotesque killings look staged, like you're in a new and daring section of Disney Wor\n"
     ]
    }
   ],
   "source": [
    "print(content[:1000])"
   ]
  },
  {
   "cell_type": "markdown",
   "metadata": {},
   "source": [
    "We can use this to collect all Dexter quotes, for example."
   ]
  },
  {
   "cell_type": "code",
   "execution_count": 11,
   "metadata": {},
   "outputs": [
    {
     "data": {
      "text/plain": [
       "504"
      ]
     },
     "execution_count": 11,
     "metadata": {},
     "output_type": "execute_result"
    }
   ],
   "source": [
    "lines = content.split(\"\\n\")\n",
    "\n",
    "text_to_remove = [\n",
    "    \"Dexter:\",\n",
    "    \"[voiceover]\"\n",
    "]\n",
    "\n",
    "min_characters = 30\n",
    "\n",
    "dexter_quotes = []\n",
    "for line in lines:\n",
    "    line = line.strip()\n",
    "    if line.startswith(\"Dexter:\"):\n",
    "        for text in text_to_remove:\n",
    "            line = line.replace(text, \"\")\n",
    "        line = line.strip()\n",
    "        if len(line) > min_characters:\n",
    "            dexter_quotes.append(line)\n",
    "\n",
    "len(dexter_quotes)"
   ]
  },
  {
   "cell_type": "code",
   "execution_count": 12,
   "metadata": {},
   "outputs": [
    {
     "name": "stdout",
     "output_type": "stream",
     "text": [
      "Tonight's the night. And it's going to happen again and again. It has to happen.\n",
      "---\n",
      "Trust me, I definitely understand. See, I can't help myself either. But children? I could never do that. Not like you. Never ... ever ... kids.\n",
      "---\n",
      "Harry was a great cop here in Miami. He taught me how to think like one; he taught me how to cover my tracks. I'm a very neat monster.\n",
      "---\n",
      "Blood. Sometimes it sets my teeth on edge. Other times it helps me control the chaos.\n",
      "---\n",
      "There's something strange and disarming about looking at a homicide scene in the daylight of Miami. It makes the most grotesque killings look staged, like you're in a new and daring section of Disney World: Dahmerland!\n",
      "---\n",
      "I don't know. So he could use a carpool lane?\n",
      "---\n",
      "[voiceover about the doll parts in his freezer] I suppose I should be upset, even feel violated, but I'm not. No, in fact, I think this is a friendly message, like \"Hey, wanna play?\" And yes, I want to play. I really, really do.\n",
      "---\n",
      "I can kill a man, dismember his body, and be home in time for Letterman. But knowing what to say when my girlfriend's feeling insecure ... I'm totally lost.\n",
      "---\n",
      "We have an elephant in the room, and its name is sex.\n",
      "---\n",
      "Hey, as far as I'm concerned, it can just stay in the corner and mind its own damn business.\n",
      "---\n"
     ]
    }
   ],
   "source": [
    "for quote in dexter_quotes[:10]:\n",
    "    print(quote)\n",
    "    print(\"---\")"
   ]
  },
  {
   "cell_type": "markdown",
   "metadata": {},
   "source": [
    "Let's have a closer look at this site with quotes..."
   ]
  },
  {
   "cell_type": "code",
   "execution_count": 13,
   "metadata": {},
   "outputs": [
    {
     "data": {
      "text/plain": [
       "403"
      ]
     },
     "execution_count": 13,
     "metadata": {},
     "output_type": "execute_result"
    }
   ],
   "source": [
    "import requests\n",
    "\n",
    "url = \"https://www.innermind.com/software/quotes/files/qfiles.htm\"\n",
    "response = requests.get(url)\n",
    "\n",
    "response.status_code"
   ]
  },
  {
   "cell_type": "code",
   "execution_count": 14,
   "metadata": {},
   "outputs": [
    {
     "data": {
      "text/plain": [
       "b'<!DOCTYPE html>\\n<html style=\"height:100%\">\\n<head>\\n<meta name=\"viewport\" content=\"width=device-width, initial-scale=1, shrink-to-fit=no\">\\n<title> 403 Forbidden\\r\\n</title></head>\\n<body style=\"color: #444; margin:0;font: normal 14px/20px Arial, Helvetica, sans-serif; height:100%; background-color: #fff;\">\\n<div style=\"height:auto; min-height:100%; \">     <div style=\"text-align: center; width:800px; margin-left: -400px; position:absolute; top: 30%; left:50%;\">\\n        <h1 style=\"margin:0; font-size:150px; line-height:150px; font-weight:bold;\">403</h1>\\n<h2 style=\"margin-top:20px;font-size: 30px;\">Forbidden\\r\\n</h2>\\n<p>Access to this resource on the server is denied!</p>\\n</div></div><div style=\"color:#f0f0f0; font-size:12px;margin:auto;padding:0px 30px 0px 30px;position:relative;clear:both;height:100px;margin-top:-101px;background-color:#474747;border-top: 1px solid rgba(0,0,0,0.15);box-shadow: 0 1px 0 rgba(255, 255, 255, 0.3) inset;\">\\n<br>Proudly powered by  <a style=\"color:#fff;\" href=\"http://www.litespeedtech.com/error-page\">LiteSpeed Web Server</a><p>Please be advised that LiteSpeed Technologies Inc. is not a web hosting company and, as such, has no control over content found on this site.</p></div></body></html>\\n'"
      ]
     },
     "execution_count": 14,
     "metadata": {},
     "output_type": "execute_result"
    }
   ],
   "source": [
    "response.content"
   ]
  },
  {
   "cell_type": "markdown",
   "metadata": {},
   "source": [
    "Hmmm... we'll run with the text files for now."
   ]
  },
  {
   "cell_type": "code",
   "execution_count": 15,
   "metadata": {},
   "outputs": [
    {
     "data": {
      "text/plain": [
       "['Dexter.txt',\n",
       " 'Freaks_and_Geeks.txt',\n",
       " 'Monty_Pythons_Flying_Circus.txt',\n",
       " 'Sarah_Connor_Chronicles.txt',\n",
       " 'Walking_Dead.txt']"
      ]
     },
     "execution_count": 15,
     "metadata": {},
     "output_type": "execute_result"
    }
   ],
   "source": [
    "import os\n",
    "\n",
    "files = [item for item in os.listdir() if item.endswith(\".txt\")]\n",
    "files"
   ]
  },
  {
   "cell_type": "code",
   "execution_count": 16,
   "metadata": {},
   "outputs": [],
   "source": [
    "def get_characters(content):\n",
    "    \"\"\" Collect the character names for which we have quotes. \"\"\"\n",
    "    characters = set()\n",
    "    lines = content.split(\"\\n\")\n",
    "    for line in lines:\n",
    "        colon_position = line.find(\":\")\n",
    "        if colon_position > 0 and colon_position < 10:\n",
    "            character = line[:colon_position].strip()\n",
    "            characters.add(character)\n",
    "    return list(characters)\n"
   ]
  },
  {
   "cell_type": "code",
   "execution_count": 17,
   "metadata": {},
   "outputs": [],
   "source": [
    "with open(\"Dexter.txt\", \"r\") as target_file:\n",
    "    content = target_file.read()\n"
   ]
  },
  {
   "cell_type": "code",
   "execution_count": 18,
   "metadata": {},
   "outputs": [
    {
     "data": {
      "text/plain": [
       "['Addict',\n",
       " 'Angel',\n",
       " 'Lila',\n",
       " 'George',\n",
       " 'Woman',\n",
       " 'Mike',\n",
       " 'Boys',\n",
       " 'Harrison',\n",
       " 'Freebo',\n",
       " 'Sonia',\n",
       " 'Moira',\n",
       " 'Cody',\n",
       " 'Masuka',\n",
       " 'Girl',\n",
       " 'Dexter',\n",
       " 'Walter',\n",
       " 'Doctor',\n",
       " 'Sal Price',\n",
       " 'Officers',\n",
       " 'Jordan',\n",
       " 'Miguel',\n",
       " 'Lumen',\n",
       " 'Lundy',\n",
       " 'Alex',\n",
       " 'Dr Ross',\n",
       " 'Sally',\n",
       " 'Boyd',\n",
       " 'Christine',\n",
       " 'Barry',\n",
       " 'Everyone',\n",
       " 'Therapist',\n",
       " 'Jurg',\n",
       " 'Priest',\n",
       " 'Sylvia',\n",
       " 'Rudy',\n",
       " 'Officer',\n",
       " 'Gabriel',\n",
       " 'Jamie',\n",
       " 'Trisha',\n",
       " 'Joe',\n",
       " 'Clint',\n",
       " 'LaGuerta',\n",
       " 'Brian',\n",
       " 'Dentist',\n",
       " 'Hannah',\n",
       " 'Man',\n",
       " 'Isaak',\n",
       " 'Gail',\n",
       " 'Arthur',\n",
       " 'Harry',\n",
       " 'Camilla',\n",
       " 'Quinn',\n",
       " 'Zoey',\n",
       " 'Rebecca',\n",
       " 'Debra',\n",
       " 'Curtis',\n",
       " 'Jonah',\n",
       " 'Travis',\n",
       " 'Rita',\n",
       " 'Assistant',\n",
       " 'Gellar',\n",
       " 'Pascal',\n",
       " 'Doakes',\n",
       " 'Anton',\n",
       " 'Elliot',\n",
       " 'Louis',\n",
       " 'Mindy',\n",
       " 'Astor',\n",
       " 'Roger']"
      ]
     },
     "execution_count": 18,
     "metadata": {},
     "output_type": "execute_result"
    }
   ],
   "source": [
    "get_characters(content)"
   ]
  },
  {
   "cell_type": "code",
   "execution_count": 19,
   "metadata": {},
   "outputs": [],
   "source": [
    "from collections import defaultdict \n",
    "\n",
    "MIN_CHARACTERS = 100\n",
    "\n",
    "\n",
    "class TvShow:\n",
    "\n",
    "    def __init__(self, file_path):\n",
    "        self._file_path = file_path\n",
    "        self._characters = defaultdict(list)\n",
    "        self._collect_quotes()\n",
    "\n",
    "    @property\n",
    "    def file_path(self):\n",
    "        return self._file_path\n",
    "\n",
    "    @property\n",
    "    def characters(self):\n",
    "        return self._characters\n",
    "    \n",
    "    def __repr__(self):\n",
    "        return \"{}({})\".format(\n",
    "            self.__class__.__name__,\n",
    "            self.file_path\n",
    "        )\n",
    "    \n",
    "    def _collect_quotes(self):\n",
    "        \"\"\" Collect all quotes from our text file. \"\"\"\n",
    "        with open(self.file_path, \"r\") as target_file:\n",
    "            content = target_file.read()\n",
    "        \n",
    "        lines = content.split(\"\\n\")\n",
    "        for line in lines:\n",
    "            colon_position = line.find(\":\")\n",
    "            if colon_position > 0 and colon_position < 10:\n",
    "                character_name = line[:colon_position].strip()\n",
    "                quote = line[(colon_position+1):].strip()\n",
    "                if quote[0] == \"[\":\n",
    "                    close_position = quote.find(\"]\")\n",
    "                    if close_position != -1:\n",
    "                        quote = quote.replace(quote[:close_position+1], \"\").strip()\n",
    "                if len(quote) < MIN_CHARACTERS:\n",
    "                    continue\n",
    "\n",
    "                self.characters[character_name].append(quote)\n"
   ]
  },
  {
   "cell_type": "code",
   "execution_count": 20,
   "metadata": {},
   "outputs": [
    {
     "data": {
      "text/plain": [
       "TvShow(Dexter.txt)"
      ]
     },
     "execution_count": 20,
     "metadata": {},
     "output_type": "execute_result"
    }
   ],
   "source": [
    "show = TvShow(\"Dexter.txt\")\n",
    "show"
   ]
  },
  {
   "cell_type": "code",
   "execution_count": 21,
   "metadata": {},
   "outputs": [
    {
     "data": {
      "text/plain": [
       "['Dexter', 'Rita', 'Debra', 'Doakes', 'Angel']"
      ]
     },
     "execution_count": 21,
     "metadata": {},
     "output_type": "execute_result"
    }
   ],
   "source": [
    "list(show.characters.keys())[:5]"
   ]
  },
  {
   "cell_type": "code",
   "execution_count": 22,
   "metadata": {},
   "outputs": [
    {
     "data": {
      "text/plain": [
       "143"
      ]
     },
     "execution_count": 22,
     "metadata": {},
     "output_type": "execute_result"
    }
   ],
   "source": [
    "len(show.characters[\"Dexter\"])"
   ]
  },
  {
   "cell_type": "code",
   "execution_count": 23,
   "metadata": {},
   "outputs": [
    {
     "data": {
      "text/plain": [
       "4"
      ]
     },
     "execution_count": 23,
     "metadata": {},
     "output_type": "execute_result"
    }
   ],
   "source": [
    "len(show.characters[\"Rita\"])"
   ]
  },
  {
   "cell_type": "code",
   "execution_count": 24,
   "metadata": {},
   "outputs": [
    {
     "data": {
      "text/plain": [
       "'I suppose I should be upset, even feel violated, but I\\'m not. No, in fact, I think this is a friendly message, like \"Hey, wanna play?\" And yes, I want to play. I really, really do.'"
      ]
     },
     "execution_count": 24,
     "metadata": {},
     "output_type": "execute_result"
    }
   ],
   "source": [
    "quote = show.characters[\"Dexter\"][3]\n",
    "quote"
   ]
  },
  {
   "cell_type": "code",
   "execution_count": 25,
   "metadata": {},
   "outputs": [
    {
     "data": {
      "text/plain": [
       "\"Steak. He says steak. Yeah, that's great, Dexter. That's really great. We'll start with a steak appetizer, followed by steak salad, followed, of course, by a steak. And then, of course, it'll all be topped off by a steak fucking cake.\""
      ]
     },
     "execution_count": 25,
     "metadata": {},
     "output_type": "execute_result"
    }
   ],
   "source": [
    "quote = show.characters[\"Rita\"][3]\n",
    "quote"
   ]
  },
  {
   "cell_type": "markdown",
   "metadata": {},
   "source": [
    "## Try this will all of the quote files..."
   ]
  },
  {
   "cell_type": "code",
   "execution_count": 26,
   "metadata": {},
   "outputs": [
    {
     "data": {
      "text/plain": [
       "['Dexter.txt',\n",
       " 'Freaks_and_Geeks.txt',\n",
       " 'Monty_Pythons_Flying_Circus.txt',\n",
       " 'Sarah_Connor_Chronicles.txt',\n",
       " 'Walking_Dead.txt']"
      ]
     },
     "execution_count": 26,
     "metadata": {},
     "output_type": "execute_result"
    }
   ],
   "source": [
    "import os\n",
    "\n",
    "files = [item for item in os.listdir() if item.endswith(\".txt\")]\n",
    "files"
   ]
  },
  {
   "cell_type": "code",
   "execution_count": 27,
   "metadata": {},
   "outputs": [],
   "source": [
    "shows = []\n",
    "for file_name in files:\n",
    "    shows.append(TvShow(file_name))\n",
    "    "
   ]
  },
  {
   "cell_type": "code",
   "execution_count": 28,
   "metadata": {},
   "outputs": [
    {
     "data": {
      "text/plain": [
       "[TvShow(Dexter.txt),\n",
       " TvShow(Freaks_and_Geeks.txt),\n",
       " TvShow(Monty_Pythons_Flying_Circus.txt),\n",
       " TvShow(Sarah_Connor_Chronicles.txt),\n",
       " TvShow(Walking_Dead.txt)]"
      ]
     },
     "execution_count": 28,
     "metadata": {},
     "output_type": "execute_result"
    }
   ],
   "source": [
    "shows"
   ]
  },
  {
   "cell_type": "code",
   "execution_count": 29,
   "metadata": {},
   "outputs": [
    {
     "data": {
      "text/plain": [
       "TvShow(Freaks_and_Geeks.txt)"
      ]
     },
     "execution_count": 29,
     "metadata": {},
     "output_type": "execute_result"
    }
   ],
   "source": [
    "show = shows[1]\n",
    "show"
   ]
  },
  {
   "cell_type": "code",
   "execution_count": 30,
   "metadata": {},
   "outputs": [
    {
     "data": {
      "text/plain": [
       "['Nick',\n",
       " 'Harold',\n",
       " 'Lindsay',\n",
       " 'Bill',\n",
       " 'Daniel',\n",
       " 'Mr. Weir',\n",
       " 'Harris',\n",
       " 'Neal',\n",
       " 'Sam',\n",
       " 'DJ']"
      ]
     },
     "execution_count": 30,
     "metadata": {},
     "output_type": "execute_result"
    }
   ],
   "source": [
    "list(show.characters.keys())"
   ]
  },
  {
   "cell_type": "code",
   "execution_count": 31,
   "metadata": {},
   "outputs": [
    {
     "data": {
      "text/plain": [
       "[\"I had a friend who used to smoke. Know what he's doing now? He's dead. You think smoking looks cool, let's go dig him up and see how cool he looks now.\",\n",
       " 'You know, there was a girl in our school... and she had premarital sex. Know what she did on her graduation day? Died! Of a heroin overdose!',\n",
       " \"I guess you'd prefer we listen to that punk rock music I've been reading about. You know those Sex Pistols? They spit on their audience! Yep, that's what I wanna do. Spend my hard earned money to be spit on. Now that's entertainment...Elvis didn't expectorate on his fans.\",\n",
       " \"She's hanging with a bad crowd. She's lying and cheating and next thing you know, she's Patty Hearst with a gun to our heads.\",\n",
       " \"You can hardly stand to be around us. When you two were kids, you used to run around naked and lay in bed with us all night. We bathed you and we cleaned your butts when you pooped and we loved it. Now, we try to pat you on the head and you run for the hills. Well, I'm fed up. We are going to be close from now on whether you like it or not. We're going to spend quality time together, and we're going to enjoy it, damn it!\",\n",
       " \"OK, I'll tell you what Lindsay. I'll listen to this album and you can go to the concert if I don't find anything objectionable.\"]"
      ]
     },
     "execution_count": 31,
     "metadata": {},
     "output_type": "execute_result"
    }
   ],
   "source": [
    "show.characters[\"Harold\"]"
   ]
  },
  {
   "cell_type": "markdown",
   "metadata": {},
   "source": [
    "Not too shabby overall..."
   ]
  },
  {
   "cell_type": "markdown",
   "metadata": {},
   "source": [
    "## Picking some quotes"
   ]
  },
  {
   "cell_type": "code",
   "execution_count": 32,
   "metadata": {},
   "outputs": [
    {
     "data": {
      "text/plain": [
       "dict_keys(['Nick', 'Harold', 'Lindsay', 'Bill', 'Daniel', 'Mr. Weir', 'Harris', 'Neal', 'Sam', 'DJ'])"
      ]
     },
     "execution_count": 32,
     "metadata": {},
     "output_type": "execute_result"
    }
   ],
   "source": [
    "show = shows[1]\n",
    "show.characters.keys()"
   ]
  },
  {
   "cell_type": "code",
   "execution_count": 33,
   "metadata": {},
   "outputs": [
    {
     "name": "stdout",
     "output_type": "stream",
     "text": [
      "***\n",
      "Nick  --- \n",
      "[\"Check it out man, that's uh 14 mounted toms, 8 floor toms, 4 splashes, 2 gongs, 10 cowbells , 4 rides, 5 snares, a rototom rack, and it's all mounted on my infamous quadruple kick drum system. Six more pieces and I got a bigger set than Neil Peart from Rush, yeah.\", 'Teachers want us to work, and I say, \"Fine, I\\'ll work. But you\\'ve gotta let me do the kind of work that I wanna do.\" And for me, it\\'s my drum kit, man. This is my passion. This is the essence of who I am now. But before I had this, I was lost, too. You see what I\\'m saying? You need to find your reason for living. You\\'ve gotta find your big, gigantic drum kit.', \"Hey, man, I heard Kim got an A on her world civ test. That's great. Oh, no, that's right, that was MY girlfriend. Ohhh...\", \"Oh, you know what though? Lindsay got detention for flipping off her gym teacher. Oh no, that's right, that was YOUR girlfriend. Oh ho ho...\", \"See, Lindsay. Nothing 'bout you and me should ever be rushed. I made that mistake before, but I'm not gonna make it with you. Cause we've got time. We've got all the time in the world. And you know why? [singing] Cause you're my lady of the morning. Love shines in your eyes. Sparkling, clear and lovely. [speaking] You're my lady. See, Lindsay. We were made for each other.\"]\n",
      "\n",
      "***\n",
      "Harold  --- \n",
      "[\"I had a friend who used to smoke. Know what he's doing now? He's dead. You think smoking looks cool, let's go dig him up and see how cool he looks now.\", 'You know, there was a girl in our school... and she had premarital sex. Know what she did on her graduation day? Died! Of a heroin overdose!', \"I guess you'd prefer we listen to that punk rock music I've been reading about. You know those Sex Pistols? They spit on their audience! Yep, that's what I wanna do. Spend my hard earned money to be spit on. Now that's entertainment...Elvis didn't expectorate on his fans.\", \"She's hanging with a bad crowd. She's lying and cheating and next thing you know, she's Patty Hearst with a gun to our heads.\", \"You can hardly stand to be around us. When you two were kids, you used to run around naked and lay in bed with us all night. We bathed you and we cleaned your butts when you pooped and we loved it. Now, we try to pat you on the head and you run for the hills. Well, I'm fed up. We are going to be close from now on whether you like it or not. We're going to spend quality time together, and we're going to enjoy it, damn it!\", \"OK, I'll tell you what Lindsay. I'll listen to this album and you can go to the concert if I don't find anything objectionable.\"]\n",
      "\n",
      "***\n",
      "Lindsay  --- \n",
      "[\"All my new friends think I'm some goody-two-shoes and all my old friends think I'm throwing my life away. What the hell am I supposed to do?\"]\n",
      "\n",
      "***\n",
      "Bill  --- \n",
      "[\"I'm sorry, I can't hear you. Hold on, I'm gonna put the phone on my bionic ear. That's--that's better. No, don't talk so loud! Don't forget, I've got bionic hearing.\", \"Fredericks? You're a turd. A stinky fat turd. Go sniff a jock strap, you poophead. You love patting boys butts. You love patting boys butts, butt. You butt patter. You're a perv, and a loser, and a stinky turd.\"]\n",
      "\n",
      "***\n",
      "Daniel  --- \n",
      "[\"No, I mean it. Nick's a great guy. We give him a hard time, but you know... he's the man. I just think it's really great you guys are going out. He's a really great guy.\", 'Greetings princess. It is I, Carlos the Dwarf. The dragon has been slain and you are free to rule your kingdom.']\n",
      "\n",
      "***\n",
      "Mr. Weir  --- \n",
      "[\"We are not robots and things do not need to change. I like how things are! I like eating the same things. You know why? Because those are the things I like! I like chicken. And I like pot roast. And, that's how I feel about you Jean.\", \"You think I don't appreciate you? Well, I do. Everything I do I do to serve you. I think of you when I'm stocking fishing poles. I think of you when I'm answering questions about cross country ski wax. My whole life is about serving you. And I love you, Jean.\"]\n",
      "\n",
      "***\n",
      "Harris  --- \n",
      "[\"You're not a loser because you're having sex. But if you weren't having sex, we could definitely debate the issue.\"]\n",
      "\n",
      "***\n",
      "Neal  --- \n",
      "[\"It's not a Parisian. It's a jumpsuit. My grandfather in Florida wears them all the time because he's too lazy to put on pants.\", \"Tell you one thing, when I get married, I'm never going to cheat on my wife. Even if she gets old and fat.\", \"Everyone looks cool in turtle necks. That's the point! We can't both wear them; we'll look like the Smothers Brothers!\"]\n",
      "\n",
      "***\n",
      "Sam  --- \n",
      "[\"It's Cindy. She's kind of boring. It's weird hanging out with her friends. And, I mean, all she wants to do is make out and stuff.\"]\n",
      "\n",
      "***\n",
      "DJ  --- \n",
      "['Aren\\'t you one of those guys who\\'s always running in here yelling \"Disco sucks?\" What\\'s the matter, cat got your bong, man? Is that how you learned to communicate? Running in here and yelling stuff? Is that what your precious \"rock \\'n\\' roll\" teaches you?']\n",
      "\n"
     ]
    }
   ],
   "source": [
    "for character in show.characters:\n",
    "    print(\"***\")\n",
    "    print(character, \" --- \")\n",
    "    print(show.characters[character])\n",
    "    print(\"\")"
   ]
  },
  {
   "cell_type": "markdown",
   "metadata": {},
   "source": [
    "***"
   ]
  }
 ],
 "metadata": {
  "@webio": {
   "lastCommId": null,
   "lastKernelId": null
  },
  "kernelspec": {
   "display_name": "pytypist",
   "language": "python",
   "name": "pytypist"
  },
  "language_info": {
   "codemirror_mode": {
    "name": "ipython",
    "version": 3
   },
   "file_extension": ".py",
   "mimetype": "text/x-python",
   "name": "python",
   "nbconvert_exporter": "python",
   "pygments_lexer": "ipython3",
   "version": "3.6.6"
  }
 },
 "nbformat": 4,
 "nbformat_minor": 2
}
