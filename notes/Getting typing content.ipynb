{
 "cells": [
  {
   "cell_type": "markdown",
   "metadata": {},
   "source": [
    "## Getting typing content\n",
    "\n",
    "There are some programming quotes at [this repo](https://github.com/skolakoda/programming-quotes-api). These have been saved down as programming_quotes.json.\n",
    "\n",
    "There are a number of APIs available...\n",
    "\n",
    "https://favqs.com/api for a start."
   ]
  },
  {
   "cell_type": "code",
   "execution_count": 1,
   "metadata": {},
   "outputs": [],
   "source": [
    "import requests\n",
    "\n",
    "url = \"https://favqs.com/api/qotd\"\n",
    "response = requests.get(url)"
   ]
  },
  {
   "cell_type": "code",
   "execution_count": 3,
   "metadata": {},
   "outputs": [
    {
     "data": {
      "text/plain": [
       "200"
      ]
     },
     "execution_count": 3,
     "metadata": {},
     "output_type": "execute_result"
    }
   ],
   "source": [
    "response.status_code"
   ]
  },
  {
   "cell_type": "code",
   "execution_count": 4,
   "metadata": {},
   "outputs": [
    {
     "data": {
      "text/plain": [
       "b'{\"qotd_date\":\"2019-08-27T00:00:00.000+00:00\",\"quote\":{\"id\":33762,\"dialogue\":false,\"private\":false,\"tags\":[\"knowledge\",\"humor\"],\"url\":\"https://favqs.com/quotes/j-robert-oppenheimer/33762-in-some-sort--\",\"favorites_count\":1,\"upvotes_count\":0,\"downvotes_count\":0,\"author\":\"J. Robert Oppenheimer\",\"author_permalink\":\"j-robert-oppenheimer\",\"body\":\"In some sort of crude sense, which no vulgarity, no humor, no overstatement can quite extinguish, the physicists have known sin and this is a knowledge which they cannot lose.\"}}'"
      ]
     },
     "execution_count": 4,
     "metadata": {},
     "output_type": "execute_result"
    }
   ],
   "source": [
    "response.content"
   ]
  },
  {
   "cell_type": "code",
   "execution_count": 6,
   "metadata": {},
   "outputs": [
    {
     "data": {
      "text/plain": [
       "{'qotd_date': '2019-08-27T00:00:00.000+00:00',\n",
       " 'quote': {'author': 'J. Robert Oppenheimer',\n",
       "  'author_permalink': 'j-robert-oppenheimer',\n",
       "  'body': 'In some sort of crude sense, which no vulgarity, no humor, no overstatement can quite extinguish, the physicists have known sin and this is a knowledge which they cannot lose.',\n",
       "  'dialogue': False,\n",
       "  'downvotes_count': 0,\n",
       "  'favorites_count': 1,\n",
       "  'id': 33762,\n",
       "  'private': False,\n",
       "  'tags': ['knowledge', 'humor'],\n",
       "  'upvotes_count': 0,\n",
       "  'url': 'https://favqs.com/quotes/j-robert-oppenheimer/33762-in-some-sort--'}}"
      ]
     },
     "execution_count": 6,
     "metadata": {},
     "output_type": "execute_result"
    }
   ],
   "source": [
    "import json\n",
    "\n",
    "details = json.loads(response.content)\n",
    "details"
   ]
  },
  {
   "cell_type": "code",
   "execution_count": 11,
   "metadata": {},
   "outputs": [
    {
     "data": {
      "text/plain": [
       "'In some sort of crude sense, which no vulgarity, no humor, no overstatement can quite extinguish, the physicists have known sin and this is a knowledge which they cannot lose.'"
      ]
     },
     "execution_count": 11,
     "metadata": {},
     "output_type": "execute_result"
    }
   ],
   "source": [
    "details[\"quote\"][\"body\"]"
   ]
  },
  {
   "cell_type": "markdown",
   "metadata": {},
   "source": [
    "## Only this quote of the day is collectable without a key."
   ]
  },
  {
   "cell_type": "code",
   "execution_count": 12,
   "metadata": {},
   "outputs": [
    {
     "data": {
      "text/plain": [
       "401"
      ]
     },
     "execution_count": 12,
     "metadata": {},
     "output_type": "execute_result"
    }
   ],
   "source": [
    "import requests\n",
    "\n",
    "url = \"https://favqs.com/api/quotes\"\n",
    "response = requests.get(url)\n",
    "response.status_code"
   ]
  },
  {
   "cell_type": "code",
   "execution_count": 13,
   "metadata": {},
   "outputs": [
    {
     "data": {
      "text/plain": [
       "b'HTTP Token: Access denied.\\n'"
      ]
     },
     "execution_count": 13,
     "metadata": {},
     "output_type": "execute_result"
    }
   ],
   "source": [
    "response.content"
   ]
  },
  {
   "cell_type": "markdown",
   "metadata": {},
   "source": [
    "## We can scrape text files\n",
    "Here is one example https://www.innermind.com/software/quotes/files/qfiles.htm\n",
    "\n",
    "This is where I've got Dexter.txt and Walking_Dead.txt."
   ]
  },
  {
   "cell_type": "code",
   "execution_count": 14,
   "metadata": {},
   "outputs": [
    {
     "data": {
      "text/plain": [
       "True"
      ]
     },
     "execution_count": 14,
     "metadata": {},
     "output_type": "execute_result"
    }
   ],
   "source": [
    "import os\n",
    "\n",
    "os.path.isfile(\"Dexter.txt\")"
   ]
  },
  {
   "cell_type": "code",
   "execution_count": 16,
   "metadata": {},
   "outputs": [
    {
     "data": {
      "text/plain": [
       "(str, 169696)"
      ]
     },
     "execution_count": 16,
     "metadata": {},
     "output_type": "execute_result"
    }
   ],
   "source": [
    "file_name = \"Dexter.txt\"\n",
    "\n",
    "with open(file_name, \"r\") as target_file:\n",
    "    content = target_file.read()\n",
    "\n",
    "type(content), len(content)"
   ]
  },
  {
   "cell_type": "code",
   "execution_count": 18,
   "metadata": {},
   "outputs": [
    {
     "name": "stdout",
     "output_type": "stream",
     "text": [
      "Dexter: [voiceover] Tonight's the night. And it's going to happen again and again. It has to happen.\n",
      "\n",
      "  --  Dexter [1.01] - Season 1\n",
      "%\n",
      "Mike Donovan: I couldn't help myself. I couldn't. Please, you have to understand.\n",
      "Dexter: Trust me, I definitely understand. See, I can't help myself either. But children? I could never do that. Not like you. Never ... ever ... kids.\n",
      "Mike Donovan: Why?\n",
      "Dexter: I have standards.\n",
      "\n",
      "  --  Dexter [1.01] - Season 1\n",
      "%\n",
      "Dexter: [voiceover] Harry was a great cop here in Miami. He taught me how to think like one; he taught me how to cover my tracks. I'm a very neat monster.\n",
      "\n",
      "  --  Dexter [1.01] - Season 1\n",
      "%\n",
      "Dexter: [voiceover] Blood. Sometimes it sets my teeth on edge. Other times it helps me control the chaos.\n",
      "\n",
      "  --  Dexter [1.01] - Season 1\n",
      "%\n",
      "Dexter: [voiceover] There's something strange and disarming about looking at a homicide scene in the daylight of Miami. It makes the most grotesque killings look staged, like you're in a new and daring section of Disney Wor\n"
     ]
    }
   ],
   "source": [
    "print(content[:1000])"
   ]
  },
  {
   "cell_type": "markdown",
   "metadata": {},
   "source": [
    "We can use this to collect all Dexter quotes, for example."
   ]
  },
  {
   "cell_type": "code",
   "execution_count": 27,
   "metadata": {},
   "outputs": [
    {
     "data": {
      "text/plain": [
       "504"
      ]
     },
     "execution_count": 27,
     "metadata": {},
     "output_type": "execute_result"
    }
   ],
   "source": [
    "lines = content.split(\"\\n\")\n",
    "\n",
    "text_to_remove = [\n",
    "    \"Dexter:\",\n",
    "    \"[voiceover]\"\n",
    "]\n",
    "\n",
    "min_characters = 30\n",
    "\n",
    "dexter_quotes = []\n",
    "for line in lines:\n",
    "    line = line.strip()\n",
    "    if line.startswith(\"Dexter:\"):\n",
    "        for text in text_to_remove:\n",
    "            line = line.replace(text, \"\")\n",
    "        line = line.strip()\n",
    "        if len(line) > min_characters:\n",
    "            dexter_quotes.append(line)\n",
    "\n",
    "len(dexter_quotes)"
   ]
  },
  {
   "cell_type": "code",
   "execution_count": 28,
   "metadata": {},
   "outputs": [
    {
     "name": "stdout",
     "output_type": "stream",
     "text": [
      "Tonight's the night. And it's going to happen again and again. It has to happen.\n",
      "---\n",
      "Trust me, I definitely understand. See, I can't help myself either. But children? I could never do that. Not like you. Never ... ever ... kids.\n",
      "---\n",
      "Harry was a great cop here in Miami. He taught me how to think like one; he taught me how to cover my tracks. I'm a very neat monster.\n",
      "---\n",
      "Blood. Sometimes it sets my teeth on edge. Other times it helps me control the chaos.\n",
      "---\n",
      "There's something strange and disarming about looking at a homicide scene in the daylight of Miami. It makes the most grotesque killings look staged, like you're in a new and daring section of Disney World: Dahmerland!\n",
      "---\n",
      "I don't know. So he could use a carpool lane?\n",
      "---\n",
      "[voiceover about the doll parts in his freezer] I suppose I should be upset, even feel violated, but I'm not. No, in fact, I think this is a friendly message, like \"Hey, wanna play?\" And yes, I want to play. I really, really do.\n",
      "---\n",
      "I can kill a man, dismember his body, and be home in time for Letterman. But knowing what to say when my girlfriend's feeling insecure ... I'm totally lost.\n",
      "---\n",
      "We have an elephant in the room, and its name is sex.\n",
      "---\n",
      "Hey, as far as I'm concerned, it can just stay in the corner and mind its own damn business.\n",
      "---\n"
     ]
    }
   ],
   "source": [
    "for quote in dexter_quotes[:10]:\n",
    "    print(quote)\n",
    "    print(\"---\")"
   ]
  },
  {
   "cell_type": "markdown",
   "metadata": {},
   "source": [
    "Let's have a closer look at this site with quotes..."
   ]
  },
  {
   "cell_type": "code",
   "execution_count": 30,
   "metadata": {},
   "outputs": [
    {
     "data": {
      "text/plain": [
       "403"
      ]
     },
     "execution_count": 30,
     "metadata": {},
     "output_type": "execute_result"
    }
   ],
   "source": [
    "import requests\n",
    "\n",
    "url = \"https://www.innermind.com/software/quotes/files/qfiles.htm\"\n",
    "response = requests.get(url)\n",
    "\n",
    "response.status_code"
   ]
  },
  {
   "cell_type": "code",
   "execution_count": 31,
   "metadata": {},
   "outputs": [
    {
     "data": {
      "text/plain": [
       "b'<!DOCTYPE html>\\n<html style=\"height:100%\">\\n<head>\\n<meta name=\"viewport\" content=\"width=device-width, initial-scale=1, shrink-to-fit=no\">\\n<title> 403 Forbidden\\r\\n</title></head>\\n<body style=\"color: #444; margin:0;font: normal 14px/20px Arial, Helvetica, sans-serif; height:100%; background-color: #fff;\">\\n<div style=\"height:auto; min-height:100%; \">     <div style=\"text-align: center; width:800px; margin-left: -400px; position:absolute; top: 30%; left:50%;\">\\n        <h1 style=\"margin:0; font-size:150px; line-height:150px; font-weight:bold;\">403</h1>\\n<h2 style=\"margin-top:20px;font-size: 30px;\">Forbidden\\r\\n</h2>\\n<p>Access to this resource on the server is denied!</p>\\n</div></div><div style=\"color:#f0f0f0; font-size:12px;margin:auto;padding:0px 30px 0px 30px;position:relative;clear:both;height:100px;margin-top:-101px;background-color:#474747;border-top: 1px solid rgba(0,0,0,0.15);box-shadow: 0 1px 0 rgba(255, 255, 255, 0.3) inset;\">\\n<br>Proudly powered by  <a style=\"color:#fff;\" href=\"http://www.litespeedtech.com/error-page\">LiteSpeed Web Server</a><p>Please be advised that LiteSpeed Technologies Inc. is not a web hosting company and, as such, has no control over content found on this site.</p></div></body></html>\\n'"
      ]
     },
     "execution_count": 31,
     "metadata": {},
     "output_type": "execute_result"
    }
   ],
   "source": [
    "response.content"
   ]
  },
  {
   "cell_type": "code",
   "execution_count": null,
   "metadata": {},
   "outputs": [],
   "source": [
    "https://www.innermind.com/software/quotes/files/"
   ]
  }
 ],
 "metadata": {
  "kernelspec": {
   "display_name": "Python 3",
   "language": "python",
   "name": "python3"
  },
  "language_info": {
   "codemirror_mode": {
    "name": "ipython",
    "version": 3
   },
   "file_extension": ".py",
   "mimetype": "text/x-python",
   "name": "python",
   "nbconvert_exporter": "python",
   "pygments_lexer": "ipython3",
   "version": "3.6.4"
  }
 },
 "nbformat": 4,
 "nbformat_minor": 2
}
