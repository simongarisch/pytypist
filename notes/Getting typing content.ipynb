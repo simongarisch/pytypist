{
 "cells": [
  {
   "cell_type": "markdown",
   "metadata": {},
   "source": [
    "## Getting typing content\n",
    "\n",
    "There are some programming quotes at [this repo](https://github.com/skolakoda/programming-quotes-api). These have been saved down as programming_quotes.json.\n",
    "\n",
    "There are a number of APIs available...\n",
    "\n",
    "https://favqs.com/api for a start."
   ]
  },
  {
   "cell_type": "code",
   "execution_count": 1,
   "metadata": {},
   "outputs": [],
   "source": [
    "import requests\n",
    "\n",
    "url = \"https://favqs.com/api/qotd\"\n",
    "response = requests.get(url)"
   ]
  },
  {
   "cell_type": "code",
   "execution_count": 2,
   "metadata": {},
   "outputs": [
    {
     "data": {
      "text/plain": [
       "200"
      ]
     },
     "execution_count": 2,
     "metadata": {},
     "output_type": "execute_result"
    }
   ],
   "source": [
    "response.status_code"
   ]
  },
  {
   "cell_type": "code",
   "execution_count": 3,
   "metadata": {},
   "outputs": [
    {
     "data": {
      "text/plain": [
       "b'{\"qotd_date\":\"2019-10-12T00:00:00.000+00:00\",\"quote\":{\"id\":29416,\"dialogue\":false,\"private\":false,\"tags\":[\"great\"],\"url\":\"https://favqs.com/quotes/karl-marx/29416-on-a-level-pl-\",\"favorites_count\":0,\"upvotes_count\":2,\"downvotes_count\":0,\"author\":\"Karl Marx\",\"author_permalink\":\"karl-marx\",\"body\":\"On a level plain, simple mounds look like hills and the insipid flatness of our present bourgeoisie is to be measured by the altitude of its great intellects.\"}}'"
      ]
     },
     "execution_count": 3,
     "metadata": {},
     "output_type": "execute_result"
    }
   ],
   "source": [
    "response.content"
   ]
  },
  {
   "cell_type": "code",
   "execution_count": 4,
   "metadata": {},
   "outputs": [
    {
     "data": {
      "text/plain": [
       "{'qotd_date': '2019-10-12T00:00:00.000+00:00',\n",
       " 'quote': {'id': 29416,\n",
       "  'dialogue': False,\n",
       "  'private': False,\n",
       "  'tags': ['great'],\n",
       "  'url': 'https://favqs.com/quotes/karl-marx/29416-on-a-level-pl-',\n",
       "  'favorites_count': 0,\n",
       "  'upvotes_count': 2,\n",
       "  'downvotes_count': 0,\n",
       "  'author': 'Karl Marx',\n",
       "  'author_permalink': 'karl-marx',\n",
       "  'body': 'On a level plain, simple mounds look like hills and the insipid flatness of our present bourgeoisie is to be measured by the altitude of its great intellects.'}}"
      ]
     },
     "execution_count": 4,
     "metadata": {},
     "output_type": "execute_result"
    }
   ],
   "source": [
    "import json\n",
    "\n",
    "details = json.loads(response.content)\n",
    "details"
   ]
  },
  {
   "cell_type": "code",
   "execution_count": 5,
   "metadata": {},
   "outputs": [
    {
     "data": {
      "text/plain": [
       "'On a level plain, simple mounds look like hills and the insipid flatness of our present bourgeoisie is to be measured by the altitude of its great intellects.'"
      ]
     },
     "execution_count": 5,
     "metadata": {},
     "output_type": "execute_result"
    }
   ],
   "source": [
    "details[\"quote\"][\"body\"]"
   ]
  },
  {
   "cell_type": "markdown",
   "metadata": {},
   "source": [
    "## Only this quote of the day is collectable without a key."
   ]
  },
  {
   "cell_type": "code",
   "execution_count": 6,
   "metadata": {},
   "outputs": [
    {
     "data": {
      "text/plain": [
       "401"
      ]
     },
     "execution_count": 6,
     "metadata": {},
     "output_type": "execute_result"
    }
   ],
   "source": [
    "import requests\n",
    "\n",
    "url = \"https://favqs.com/api/quotes\"\n",
    "response = requests.get(url)\n",
    "response.status_code"
   ]
  },
  {
   "cell_type": "code",
   "execution_count": 7,
   "metadata": {},
   "outputs": [
    {
     "data": {
      "text/plain": [
       "b'HTTP Token: Access denied.\\n'"
      ]
     },
     "execution_count": 7,
     "metadata": {},
     "output_type": "execute_result"
    }
   ],
   "source": [
    "response.content"
   ]
  },
  {
   "cell_type": "markdown",
   "metadata": {},
   "source": [
    "## We can scrape text files\n",
    "Here is one example https://www.innermind.com/software/quotes/files/qfiles.htm\n",
    "\n",
    "This is where I've got Dexter.txt and Walking_Dead.txt."
   ]
  },
  {
   "cell_type": "code",
   "execution_count": 8,
   "metadata": {},
   "outputs": [
    {
     "data": {
      "text/plain": [
       "True"
      ]
     },
     "execution_count": 8,
     "metadata": {},
     "output_type": "execute_result"
    }
   ],
   "source": [
    "import os\n",
    "\n",
    "os.path.isfile(\"Dexter.txt\")"
   ]
  },
  {
   "cell_type": "code",
   "execution_count": 9,
   "metadata": {},
   "outputs": [
    {
     "data": {
      "text/plain": [
       "(str, 169696)"
      ]
     },
     "execution_count": 9,
     "metadata": {},
     "output_type": "execute_result"
    }
   ],
   "source": [
    "file_name = \"Dexter.txt\"\n",
    "\n",
    "with open(file_name, \"r\") as target_file:\n",
    "    content = target_file.read()\n",
    "\n",
    "type(content), len(content)"
   ]
  },
  {
   "cell_type": "code",
   "execution_count": 10,
   "metadata": {},
   "outputs": [
    {
     "name": "stdout",
     "output_type": "stream",
     "text": [
      "Dexter: [voiceover] Tonight's the night. And it's going to happen again and again. It has to happen.\n",
      "\n",
      "  --  Dexter [1.01] - Season 1\n",
      "%\n",
      "Mike Donovan: I couldn't help myself. I couldn't. Please, you have to understand.\n",
      "Dexter: Trust me, I definitely understand. See, I can't help myself either. But children? I could never do that. Not like you. Never ... ever ... kids.\n",
      "Mike Donovan: Why?\n",
      "Dexter: I have standards.\n",
      "\n",
      "  --  Dexter [1.01] - Season 1\n",
      "%\n",
      "Dexter: [voiceover] Harry was a great cop here in Miami. He taught me how to think like one; he taught me how to cover my tracks. I'm a very neat monster.\n",
      "\n",
      "  --  Dexter [1.01] - Season 1\n",
      "%\n",
      "Dexter: [voiceover] Blood. Sometimes it sets my teeth on edge. Other times it helps me control the chaos.\n",
      "\n",
      "  --  Dexter [1.01] - Season 1\n",
      "%\n",
      "Dexter: [voiceover] There's something strange and disarming about looking at a homicide scene in the daylight of Miami. It makes the most grotesque killings look staged, like you're in a new and daring section of Disney Wor\n"
     ]
    }
   ],
   "source": [
    "print(content[:1000])"
   ]
  },
  {
   "cell_type": "markdown",
   "metadata": {},
   "source": [
    "We can use this to collect all Dexter quotes, for example."
   ]
  },
  {
   "cell_type": "code",
   "execution_count": 11,
   "metadata": {},
   "outputs": [
    {
     "data": {
      "text/plain": [
       "504"
      ]
     },
     "execution_count": 11,
     "metadata": {},
     "output_type": "execute_result"
    }
   ],
   "source": [
    "lines = content.split(\"\\n\")\n",
    "\n",
    "text_to_remove = [\n",
    "    \"Dexter:\",\n",
    "    \"[voiceover]\"\n",
    "]\n",
    "\n",
    "min_characters = 30\n",
    "\n",
    "dexter_quotes = []\n",
    "for line in lines:\n",
    "    line = line.strip()\n",
    "    if line.startswith(\"Dexter:\"):\n",
    "        for text in text_to_remove:\n",
    "            line = line.replace(text, \"\")\n",
    "        line = line.strip()\n",
    "        if len(line) > min_characters:\n",
    "            dexter_quotes.append(line)\n",
    "\n",
    "len(dexter_quotes)"
   ]
  },
  {
   "cell_type": "code",
   "execution_count": 12,
   "metadata": {},
   "outputs": [
    {
     "name": "stdout",
     "output_type": "stream",
     "text": [
      "Tonight's the night. And it's going to happen again and again. It has to happen.\n",
      "---\n",
      "Trust me, I definitely understand. See, I can't help myself either. But children? I could never do that. Not like you. Never ... ever ... kids.\n",
      "---\n",
      "Harry was a great cop here in Miami. He taught me how to think like one; he taught me how to cover my tracks. I'm a very neat monster.\n",
      "---\n",
      "Blood. Sometimes it sets my teeth on edge. Other times it helps me control the chaos.\n",
      "---\n",
      "There's something strange and disarming about looking at a homicide scene in the daylight of Miami. It makes the most grotesque killings look staged, like you're in a new and daring section of Disney World: Dahmerland!\n",
      "---\n",
      "I don't know. So he could use a carpool lane?\n",
      "---\n",
      "[voiceover about the doll parts in his freezer] I suppose I should be upset, even feel violated, but I'm not. No, in fact, I think this is a friendly message, like \"Hey, wanna play?\" And yes, I want to play. I really, really do.\n",
      "---\n",
      "I can kill a man, dismember his body, and be home in time for Letterman. But knowing what to say when my girlfriend's feeling insecure ... I'm totally lost.\n",
      "---\n",
      "We have an elephant in the room, and its name is sex.\n",
      "---\n",
      "Hey, as far as I'm concerned, it can just stay in the corner and mind its own damn business.\n",
      "---\n"
     ]
    }
   ],
   "source": [
    "for quote in dexter_quotes[:10]:\n",
    "    print(quote)\n",
    "    print(\"---\")"
   ]
  },
  {
   "cell_type": "markdown",
   "metadata": {},
   "source": [
    "Let's have a closer look at this site with quotes..."
   ]
  },
  {
   "cell_type": "code",
   "execution_count": 13,
   "metadata": {},
   "outputs": [
    {
     "data": {
      "text/plain": [
       "403"
      ]
     },
     "execution_count": 13,
     "metadata": {},
     "output_type": "execute_result"
    }
   ],
   "source": [
    "import requests\n",
    "\n",
    "url = \"https://www.innermind.com/software/quotes/files/qfiles.htm\"\n",
    "response = requests.get(url)\n",
    "\n",
    "response.status_code"
   ]
  },
  {
   "cell_type": "code",
   "execution_count": 14,
   "metadata": {},
   "outputs": [
    {
     "data": {
      "text/plain": [
       "b'<!DOCTYPE html>\\n<html style=\"height:100%\">\\n<head>\\n<meta name=\"viewport\" content=\"width=device-width, initial-scale=1, shrink-to-fit=no\">\\n<title> 403 Forbidden\\r\\n</title></head>\\n<body style=\"color: #444; margin:0;font: normal 14px/20px Arial, Helvetica, sans-serif; height:100%; background-color: #fff;\">\\n<div style=\"height:auto; min-height:100%; \">     <div style=\"text-align: center; width:800px; margin-left: -400px; position:absolute; top: 30%; left:50%;\">\\n        <h1 style=\"margin:0; font-size:150px; line-height:150px; font-weight:bold;\">403</h1>\\n<h2 style=\"margin-top:20px;font-size: 30px;\">Forbidden\\r\\n</h2>\\n<p>Access to this resource on the server is denied!</p>\\n</div></div><div style=\"color:#f0f0f0; font-size:12px;margin:auto;padding:0px 30px 0px 30px;position:relative;clear:both;height:100px;margin-top:-101px;background-color:#474747;border-top: 1px solid rgba(0,0,0,0.15);box-shadow: 0 1px 0 rgba(255, 255, 255, 0.3) inset;\">\\n<br>Proudly powered by  <a style=\"color:#fff;\" href=\"http://www.litespeedtech.com/error-page\">LiteSpeed Web Server</a><p>Please be advised that LiteSpeed Technologies Inc. is not a web hosting company and, as such, has no control over content found on this site.</p></div></body></html>\\n'"
      ]
     },
     "execution_count": 14,
     "metadata": {},
     "output_type": "execute_result"
    }
   ],
   "source": [
    "response.content"
   ]
  },
  {
   "cell_type": "markdown",
   "metadata": {},
   "source": [
    "Hmmm... we'll run with the text files for now."
   ]
  },
  {
   "cell_type": "code",
   "execution_count": 15,
   "metadata": {},
   "outputs": [
    {
     "data": {
      "text/plain": [
       "['Dexter.txt',\n",
       " 'Freaks_and_Geeks.txt',\n",
       " 'Monty_Pythons_Flying_Circus.txt',\n",
       " 'Sarah_Connor_Chronicles.txt',\n",
       " 'Walking_Dead.txt']"
      ]
     },
     "execution_count": 15,
     "metadata": {},
     "output_type": "execute_result"
    }
   ],
   "source": [
    "import os\n",
    "\n",
    "files = [item for item in os.listdir() if item.endswith(\".txt\")]\n",
    "files"
   ]
  },
  {
   "cell_type": "code",
   "execution_count": 16,
   "metadata": {},
   "outputs": [],
   "source": [
    "def get_characters(content):\n",
    "    \"\"\" Collect the character names for which we have quotes. \"\"\"\n",
    "    characters = set()\n",
    "    lines = content.split(\"\\n\")\n",
    "    for line in lines:\n",
    "        colon_position = line.find(\":\")\n",
    "        if colon_position > 0 and colon_position < 10:\n",
    "            character = line[:colon_position].strip()\n",
    "            characters.add(character)\n",
    "    return list(characters)\n"
   ]
  },
  {
   "cell_type": "code",
   "execution_count": 17,
   "metadata": {},
   "outputs": [],
   "source": [
    "with open(\"Dexter.txt\", \"r\") as target_file:\n",
    "    content = target_file.read()\n"
   ]
  },
  {
   "cell_type": "code",
   "execution_count": 18,
   "metadata": {},
   "outputs": [
    {
     "data": {
      "text/plain": [
       "['Lila',\n",
       " 'Everyone',\n",
       " 'Rita',\n",
       " 'Lundy',\n",
       " 'Louis',\n",
       " 'Camilla',\n",
       " 'Boys',\n",
       " 'Sylvia',\n",
       " 'Alex',\n",
       " 'Quinn',\n",
       " 'Doctor',\n",
       " 'Sally',\n",
       " 'Trisha',\n",
       " 'George',\n",
       " 'Curtis',\n",
       " 'Gabriel',\n",
       " 'Masuka',\n",
       " 'Barry',\n",
       " 'Officers',\n",
       " 'Elliot',\n",
       " 'Zoey',\n",
       " 'Jurg',\n",
       " 'Christine',\n",
       " 'Jonah',\n",
       " 'Joe',\n",
       " 'Man',\n",
       " 'Sal Price',\n",
       " 'Clint',\n",
       " 'Debra',\n",
       " 'Travis',\n",
       " 'Lumen',\n",
       " 'Harry',\n",
       " 'Sonia',\n",
       " 'Walter',\n",
       " 'Addict',\n",
       " 'Arthur',\n",
       " 'Hannah',\n",
       " 'Assistant',\n",
       " 'Moira',\n",
       " 'Harrison',\n",
       " 'Officer',\n",
       " 'Rebecca',\n",
       " 'Gellar',\n",
       " 'LaGuerta',\n",
       " 'Mindy',\n",
       " 'Isaak',\n",
       " 'Freebo',\n",
       " 'Gail',\n",
       " 'Miguel',\n",
       " 'Therapist',\n",
       " 'Angel',\n",
       " 'Brian',\n",
       " 'Anton',\n",
       " 'Rudy',\n",
       " 'Boyd',\n",
       " 'Doakes',\n",
       " 'Jamie',\n",
       " 'Dentist',\n",
       " 'Dr Ross',\n",
       " 'Mike',\n",
       " 'Astor',\n",
       " 'Jordan',\n",
       " 'Cody',\n",
       " 'Woman',\n",
       " 'Dexter',\n",
       " 'Roger',\n",
       " 'Pascal',\n",
       " 'Girl',\n",
       " 'Priest']"
      ]
     },
     "execution_count": 18,
     "metadata": {},
     "output_type": "execute_result"
    }
   ],
   "source": [
    "get_characters(content)"
   ]
  },
  {
   "cell_type": "code",
   "execution_count": 19,
   "metadata": {},
   "outputs": [],
   "source": [
    "from collections import defaultdict \n",
    "\n",
    "MIN_CHARACTERS = 100\n",
    "\n",
    "\n",
    "class TvShow:\n",
    "\n",
    "    def __init__(self, file_path):\n",
    "        self._file_path = file_path\n",
    "        self._characters = defaultdict(list)\n",
    "        self._collect_quotes()\n",
    "\n",
    "    @property\n",
    "    def file_path(self):\n",
    "        return self._file_path\n",
    "\n",
    "    @property\n",
    "    def characters(self):\n",
    "        return self._characters\n",
    "    \n",
    "    def __repr__(self):\n",
    "        return \"{}({})\".format(\n",
    "            self.__class__.__name__,\n",
    "            self.file_path\n",
    "        )\n",
    "    \n",
    "    def _collect_quotes(self):\n",
    "        \"\"\" Collect all quotes from our text file. \"\"\"\n",
    "        with open(self.file_path, \"r\") as target_file:\n",
    "            content = target_file.read()\n",
    "        \n",
    "        lines = content.split(\"\\n\")\n",
    "        for line in lines:\n",
    "            colon_position = line.find(\":\")\n",
    "            if colon_position > 0 and colon_position < 10:\n",
    "                character_name = line[:colon_position].strip()\n",
    "                quote = line[(colon_position+1):].strip()\n",
    "                if quote[0] == \"[\":\n",
    "                    close_position = quote.find(\"]\")\n",
    "                    if close_position != -1:\n",
    "                        quote = quote.replace(quote[:close_position+1], \"\").strip()\n",
    "                if len(quote) < MIN_CHARACTERS:\n",
    "                    continue\n",
    "\n",
    "                self.characters[character_name].append(quote)\n"
   ]
  },
  {
   "cell_type": "code",
   "execution_count": 20,
   "metadata": {},
   "outputs": [
    {
     "data": {
      "text/plain": [
       "TvShow(Dexter.txt)"
      ]
     },
     "execution_count": 20,
     "metadata": {},
     "output_type": "execute_result"
    }
   ],
   "source": [
    "show = TvShow(\"Dexter.txt\")\n",
    "show"
   ]
  },
  {
   "cell_type": "code",
   "execution_count": 21,
   "metadata": {},
   "outputs": [
    {
     "data": {
      "text/plain": [
       "['Dexter', 'Rita', 'Debra', 'Doakes', 'Angel']"
      ]
     },
     "execution_count": 21,
     "metadata": {},
     "output_type": "execute_result"
    }
   ],
   "source": [
    "list(show.characters.keys())[:5]"
   ]
  },
  {
   "cell_type": "code",
   "execution_count": 22,
   "metadata": {},
   "outputs": [
    {
     "data": {
      "text/plain": [
       "143"
      ]
     },
     "execution_count": 22,
     "metadata": {},
     "output_type": "execute_result"
    }
   ],
   "source": [
    "len(show.characters[\"Dexter\"])"
   ]
  },
  {
   "cell_type": "code",
   "execution_count": 23,
   "metadata": {},
   "outputs": [
    {
     "data": {
      "text/plain": [
       "4"
      ]
     },
     "execution_count": 23,
     "metadata": {},
     "output_type": "execute_result"
    }
   ],
   "source": [
    "len(show.characters[\"Rita\"])"
   ]
  },
  {
   "cell_type": "code",
   "execution_count": 24,
   "metadata": {},
   "outputs": [
    {
     "data": {
      "text/plain": [
       "'I suppose I should be upset, even feel violated, but I\\'m not. No, in fact, I think this is a friendly message, like \"Hey, wanna play?\" And yes, I want to play. I really, really do.'"
      ]
     },
     "execution_count": 24,
     "metadata": {},
     "output_type": "execute_result"
    }
   ],
   "source": [
    "quote = show.characters[\"Dexter\"][3]\n",
    "quote"
   ]
  },
  {
   "cell_type": "code",
   "execution_count": 25,
   "metadata": {},
   "outputs": [
    {
     "data": {
      "text/plain": [
       "\"Steak. He says steak. Yeah, that's great, Dexter. That's really great. We'll start with a steak appetizer, followed by steak salad, followed, of course, by a steak. And then, of course, it'll all be topped off by a steak fucking cake.\""
      ]
     },
     "execution_count": 25,
     "metadata": {},
     "output_type": "execute_result"
    }
   ],
   "source": [
    "quote = show.characters[\"Rita\"][3]\n",
    "quote"
   ]
  },
  {
   "cell_type": "markdown",
   "metadata": {},
   "source": [
    "## Try this will all of the quote files..."
   ]
  },
  {
   "cell_type": "code",
   "execution_count": 26,
   "metadata": {},
   "outputs": [
    {
     "data": {
      "text/plain": [
       "['Dexter.txt',\n",
       " 'Freaks_and_Geeks.txt',\n",
       " 'Monty_Pythons_Flying_Circus.txt',\n",
       " 'Sarah_Connor_Chronicles.txt',\n",
       " 'Walking_Dead.txt']"
      ]
     },
     "execution_count": 26,
     "metadata": {},
     "output_type": "execute_result"
    }
   ],
   "source": [
    "import os\n",
    "\n",
    "files = [item for item in os.listdir() if item.endswith(\".txt\")]\n",
    "files"
   ]
  },
  {
   "cell_type": "code",
   "execution_count": 27,
   "metadata": {},
   "outputs": [],
   "source": [
    "shows = []\n",
    "for file_name in files:\n",
    "    shows.append(TvShow(file_name))\n",
    "    "
   ]
  },
  {
   "cell_type": "code",
   "execution_count": 28,
   "metadata": {},
   "outputs": [
    {
     "data": {
      "text/plain": [
       "[TvShow(Dexter.txt),\n",
       " TvShow(Freaks_and_Geeks.txt),\n",
       " TvShow(Monty_Pythons_Flying_Circus.txt),\n",
       " TvShow(Sarah_Connor_Chronicles.txt),\n",
       " TvShow(Walking_Dead.txt)]"
      ]
     },
     "execution_count": 28,
     "metadata": {},
     "output_type": "execute_result"
    }
   ],
   "source": [
    "shows"
   ]
  },
  {
   "cell_type": "code",
   "execution_count": 29,
   "metadata": {},
   "outputs": [
    {
     "data": {
      "text/plain": [
       "TvShow(Freaks_and_Geeks.txt)"
      ]
     },
     "execution_count": 29,
     "metadata": {},
     "output_type": "execute_result"
    }
   ],
   "source": [
    "show = shows[1]\n",
    "show"
   ]
  },
  {
   "cell_type": "code",
   "execution_count": 30,
   "metadata": {},
   "outputs": [
    {
     "data": {
      "text/plain": [
       "['Nick',\n",
       " 'Harold',\n",
       " 'Lindsay',\n",
       " 'Bill',\n",
       " 'Daniel',\n",
       " 'Mr. Weir',\n",
       " 'Harris',\n",
       " 'Neal',\n",
       " 'Sam',\n",
       " 'DJ']"
      ]
     },
     "execution_count": 30,
     "metadata": {},
     "output_type": "execute_result"
    }
   ],
   "source": [
    "list(show.characters.keys())"
   ]
  },
  {
   "cell_type": "code",
   "execution_count": 31,
   "metadata": {},
   "outputs": [
    {
     "data": {
      "text/plain": [
       "[\"I had a friend who used to smoke. Know what he's doing now? He's dead. You think smoking looks cool, let's go dig him up and see how cool he looks now.\",\n",
       " 'You know, there was a girl in our school... and she had premarital sex. Know what she did on her graduation day? Died! Of a heroin overdose!',\n",
       " \"I guess you'd prefer we listen to that punk rock music I've been reading about. You know those Sex Pistols? They spit on their audience! Yep, that's what I wanna do. Spend my hard earned money to be spit on. Now that's entertainment...Elvis didn't expectorate on his fans.\",\n",
       " \"She's hanging with a bad crowd. She's lying and cheating and next thing you know, she's Patty Hearst with a gun to our heads.\",\n",
       " \"You can hardly stand to be around us. When you two were kids, you used to run around naked and lay in bed with us all night. We bathed you and we cleaned your butts when you pooped and we loved it. Now, we try to pat you on the head and you run for the hills. Well, I'm fed up. We are going to be close from now on whether you like it or not. We're going to spend quality time together, and we're going to enjoy it, damn it!\",\n",
       " \"OK, I'll tell you what Lindsay. I'll listen to this album and you can go to the concert if I don't find anything objectionable.\"]"
      ]
     },
     "execution_count": 31,
     "metadata": {},
     "output_type": "execute_result"
    }
   ],
   "source": [
    "show.characters[\"Harold\"]"
   ]
  },
  {
   "cell_type": "markdown",
   "metadata": {},
   "source": [
    "Not too shabby overall..."
   ]
  },
  {
   "cell_type": "markdown",
   "metadata": {},
   "source": [
    "## Picking some quotes"
   ]
  },
  {
   "cell_type": "code",
   "execution_count": 34,
   "metadata": {},
   "outputs": [
    {
     "data": {
      "text/plain": [
       "dict_keys(['Reporter', 'Voiceover', 'Narrator', 'Ken', 'Dad', 'Teacher', 'Watkins', 'Policeman', 'Woman', 'Gumby', 'Bevis', 'Man', 'Counselor', 'Announcer', 'Vince', 'Reg', 'Doctor', 'Cyril', 'Bruce', 'Mr. Bun', 'Host', 'Chinaman', 'Badger', 'Mrs O', 'Presenter', 'Scientist', 'Vicar', 'Mother', 'Vendor'])"
      ]
     },
     "execution_count": 34,
     "metadata": {},
     "output_type": "execute_result"
    }
   ],
   "source": [
    "show = shows[2]\n",
    "show.characters.keys()"
   ]
  },
  {
   "cell_type": "code",
   "execution_count": 45,
   "metadata": {},
   "outputs": [
    {
     "name": "stdout",
     "output_type": "stream",
     "text": [
      "***\n",
      "Reporter  --- \n",
      "['This morning, shortly after 11:00, comedy struck this little house on Dibley Road. Sudden...violent...comedy.']\n",
      "\n",
      "***\n",
      "Voiceover  --- \n",
      "['It was a fantastic success. Over 60,000 times as powerful as Britain\\'s great pre-war joke [Cut to stock footage of Neville Chamberlain returning from Munich and holding up the Munich Agreement, the \"this is peace in our time\"-bit.], and one which Hitler just couldn\\'t match.']\n",
      "\n",
      "***\n",
      "Narrator  --- \n",
      "['In 1945, peace broke out. It was the end of the Joke. Joke warfare was banned at a special session of the Geneva Convention, and in 1950 the last remaining copy of the joke was laid to rest here in the Berkshire countryside, never to be told again.', 'In 1970 the British Empire lay in ruins, foreign nationals frequented the streets, many of them Hungarians (not the streets-the foreign nationals). Anyway, many of these Hungarians went into tobacconists shops to buy cigarettes...', 'This is the planet Algon, fifth world in the system of Aldebaran, the Red Giant in the constellation of Sagittarius. Here an ordinary cup of drinking chocolate costs four million pounds, an immersion heater for the hot-water tank costs over six billion pounds, and a pair of split-crotch panties would be almost unobtainable.']\n",
      "\n",
      "***\n",
      "Ken  --- \n",
      "[\"I'll tell you what's wrong with you: your head's addled with novels and poems! You come home reeking of Chateau La Tour! And look what you've done to mother! She's worn out from meeting film stars, attending premieres, and giving gala luncheons!\", \"One day you'll realize there's more to life than culture... There's dirt, and smoke, and good honest sweat!\"]\n",
      "\n",
      "***\n",
      "Dad  --- \n",
      "[\"THERE'S NAUGHT WRONG WITH GALA LUNCHES, LAD! I've had more gala luncheons than you've had hot dinners! [grabs arm and screams]\"]\n",
      "\n",
      "***\n",
      "Teacher  --- \n",
      "['The great advantage of the tiger in unarmed combat is that he eats not only the raspberry-laden foe but also the raspberries.', \"So, we want to learn about pointed sticks, do we? Feeling all high and mighty, eh? Fresh fruit not good enough, eh? Oh, oh, oh. Well, let me tell you something, my lad! When you're walking home tonight, and some homicidal maniac comes after you with a bunch of loganberries, don't come crying to me!\"]\n",
      "\n",
      "***\n",
      "Watkins  --- \n",
      "['For the water-skiing and the travel, sir. Not for the killing, sir. I asked them to put it on my form, sir: \"no killing\".']\n",
      "\n",
      "***\n",
      "Policeman  --- \n",
      "['I must warn you, sir, that outside I have police dog Josephine, who is not only armed and trained to sniff out certain substances but is also a junkie.']\n",
      "\n",
      "***\n",
      "Woman  --- \n",
      "[\"Well, we often play like that. Jocasta plays on the side, receiving service. It helps to speed the game up and make it a lot faster, and Jocasta isn't left out.\", 'Certainly not! He was perfectly normal in every way! Except... inasmuch as he thought he was being followed by a giant hedgehog named Spiny Norman.']\n",
      "\n",
      "***\n",
      "Gumby  --- \n",
      "[\"I think television's killed real entertainment. In the old days, we used to make our own fun. At Christmas parties, I'd hit myself repeatedly with blunt instruments, while crooning [starts singing] Only make believe I love you. [slams bricks] Only make that believe you love me. [slams bricks again, and continues singing, as it cuts away to another scene]\"]\n",
      "\n",
      "***\n",
      "Bevis  --- \n",
      "[\"When I was a kid I used to hate the sight of hair being cut. My mother said I was a fool. She said the only way to cure it was to become a barber! So I spent five ghastly years at the Hairdressers' Training Centre at Totnes. Can you imagine what it's like; cutting the same hair for five years?! I didn't want to be a barber anyway. I wanted to be... a lumberjack!\", \"I always preferred the outdoor life...hunting...shooting...fishing...getting out there with a gun and slaughtering a few of God's creatures.\", \"I cut down trees, I eat my lunch, I go to the lavatory. On Wendsdays I'll go shopping, and have buttered scones for tea.\", \"I cut down trees, I skip and jump, I like to press wildflowers. I put own womens' clothing, and hang around in bars.\", \"I cut down trees, I wear high heels, suspenders, and a bra. I wish I've been a girlie, just like my dear Mama!\"]\n",
      "\n",
      "***\n",
      "Man  --- \n",
      "[\"And now in stereo! [process is once again repeated, but he sticks one finger up his nose, and another up his brother's, both play the French National Anthem in synch with each other]\"]\n",
      "\n",
      "***\n",
      "Counselor  --- \n",
      "[\"Well, er, yes Mr. Anchovy, but you see your report here says that you are an extremely dull person. You see, our experts describe you as an appallingly dull fellow, unimaginative, timid, lacking in initiative, spineless, easily dominated, no sense of humour, tedious company and irrepressibly drab and awful. And whereas in most professions these would be considerable drawbacks, in chartered accountancy, they're a positive boon.\"]\n",
      "\n",
      "***\n",
      "Announcer  --- \n",
      "[\"This man, he doesn't know when he's beaten! He doesn't know when he's winning, either. He has no... sort of... sensory apparatus...\", 'We would like to apologize for the way in which politicians are represented in this programme. It was never our intention to imply that politicians are weak-kneed, political time-servers who are more concerned with their personal vendettas and private power struggles than the problems of government. Nor to suggest at any point that they sacrifice their credibility by denying free debate on vital matters in the mistaken impression that party unity comes before the well-being of the people they supposedly represent. Nor to imply at any stage that they are squabbling little toadies without an ounce of concern for the vital social problems of today. Nor indeed do we intend that viewers should consider them as crabby, ulcerous, little self-seeking vermin with furry legs and an excessive addiction to alcohol and certain explicit sexual practices which some people might find offensive. We are sorry if this impression has come across.']\n",
      "\n",
      "***\n",
      "Vince  --- \n",
      "[\"One day, I was sitting at home, threatening the kids, when this tank drives up. One of Dinsdale's boys gets out all nice and friendly like, and says Dinsdale wants to have a talk with me. So, he chains me to the back of the tank, and takes me for a scrape round to Dinsdale's place. Dinsdale's there in the conversation pit with Doug, Charles Paisley the Baby Crusher, a couple of film producers and a fellow called Kierkegaard who just sits there, biting the heads off whippets. And Dinsdale says 'I hear you've been a naughty boy, Clement', and he splits my nostrils open, saws my leg off and pulls my liver out. And I says, 'My name's not Clement', and then he loses his temper and nails my head to the floor.\"]\n",
      "\n",
      "***\n",
      "Reg  --- \n",
      "[\"Mr. Wentworth just told me to come in here and say that there was trouble at the mill, that's all-I didn't expect a kind of Spanish Inquisition!\"]\n",
      "\n",
      "***\n",
      "Doctor  --- \n",
      "[\"Look, would you please go away? I'm trying to examine this man! It's all right, I'm a doctor... actually I'm a gynaecologist, but this is my lunch hour.\"]\n",
      "\n",
      "***\n",
      "Cyril  --- \n",
      "[\"In the debate, a spokesman accused the goverment of being silly and doing not at all good things. The member accepted this in the spirit of healthy criticism, but denied that he had ever been naughty with a choir boy. Angry shouts of 'What about the watermelon then?' were ordered then by the speaker to be stricken from the record and put into a brown paper bag in the lavvy. Any further interruptions would be cut up and distributed amongst the poor. For the Government, a front-bench spokesman said the Agricultural Tariff would have to be raised, and he fancied a bit. Futhermore, he argued, this would give a large boost to farmers, and a great deal of fun to him, his friends, and Miss Moist of Knightsbridge. From the back benches there were opposition shouts of 'Postcards for sale' and a healthy cry of 'Who likes a sailor then?' from the Minister Without Portfolio. Replying, the Shadow Minister said he could no longer deny the rumors, but he and the Dachshund were very happy. And in any case, he argued, rhubarb was cheap, and what was the harm in a sauna bath?\"]\n",
      "\n",
      "***\n",
      "Bruce  --- \n",
      "[\"Rule 1 - no pooftahs. Rule 2 - no member of the faculty is to maltreat the abos in any way whatsoever if there's anyone watching. Rule 3 - no pooftahs. Rule 4 - I don't want to catch any of you not drinking after lights out. Rule 5 - no pooftahs. Rule 6 - there is NO Rule 6. Rule 7 - no pooftahs!\"]\n",
      "\n",
      "***\n",
      "Mr. Bun  --- \n",
      "[\"No need to kick up a fuss, dear; I'll have your Spam. I love it! I'm having Spam, Spam, Spam, Spam, Spam, Spam, baked beans, Spam, Spam, Spam and Spam!\"]\n",
      "\n",
      "***\n",
      "Host  --- \n",
      "['Tschaikowsky: Was he the tortured soul who poured out his immortal longings into dignified passages of stately music, or was he just an old poof who wrote tunes?']\n",
      "\n",
      "***\n",
      "Chinaman  --- \n",
      "['No. He die. He have heart attack and fell out of window onto exploding bomb, and was killed in shooting accident.']\n",
      "\n",
      "***\n",
      "Badger  --- \n",
      "[\"If you don't tell me where the bomb is... If I don't give you the money... Unless you give me the bomb...\", \"Ah, wait a tic, wait a tic. Er, my first is in Glasgow but not in Spain, my second is in steamer but not in train, my whole is in the luggage compartment on the plane... I'll tell you where the bomb is for a pound.\"]\n",
      "\n",
      "***\n",
      "Mrs O  --- \n",
      "['You have green, scaly skin, and a soft yellow underbelly with a series of fin-like ridges running down your spine and tail. Although lizardlike in shape, you can grow anything up to thirty feet in length with huge teeth that can bite off great rocks and trees. You inhabit arid subtropical zones, and you wear spectacles.']\n",
      "\n",
      "***\n",
      "Presenter  --- \n",
      "[\"Would Albert Einstein ever have hit upon the theory of relativity if he hadn't been clever? All these tremendous leaps forward have been taken in the dark. Would Rutherford ever have split the atom if he hadn't tried? Could Marconi have invented the radio if he hadn't by pure chance spent years working at the problem? Are these amazing breakthroughs ever achieved except by years and years of unremitting study? Of course not. What I said earlier about accidental discoveries must have been wrong.\"]\n",
      "\n",
      "***\n",
      "Scientist  --- \n",
      "[\"If we increase the size of the penguin until it is the same height as the man and then compare the relative brain size, we now find that the penguin's brain is still smaller. But, and this is the point, it is larger than it was!\"]\n",
      "\n",
      "***\n",
      "Vicar  --- \n",
      "['Oh my goodness, I do beg your pardon! How dreadful! The first day in my new parish, I completely... so sorry!', 'Oh yes, certainly, yes indeed, I find the grounds delightful, and the servants most attentive. Particularly the little serving maid with GREAT BIG KNOCKERS! [attacks again]']\n",
      "\n",
      "***\n",
      "Mother  --- \n",
      "[\"What d'you want one of them for! I'm not going to clean it out. You said you'd clean the tiger out, but do you? No, I suppose you've lost interest in it now. Now it'll be ant ant ant for a couple of days, then all of a sudden, 'oh, mum, I've bought a sloth' or some other odd-toed ungulate like a tapir.\", 'Where are we going to get 44 tons of plankton from every morning? Your dad was dead vexed about that. They thought he was mad in the deli.', \"That's no good to him... his Hillman smells all fishy. [growl from the tiger] Oh blimey, that's the tiger. He'll want his mandies.\", \"Listen, before he started fixing, he used to get through four Jehovah's witnesses a day. And he used to eat all of them, except the pamphlets.\"]\n",
      "\n",
      "***\n",
      "Vendor  --- \n",
      "['A strong hive of bees contains approximately 75,000 bees. Each honey bee must make 154 trips to collect one teaspoon of honey. Hello, sir.', 'Which would you like, the Californian Orange Blossom, the Mexican, the New Zealand, or the Scottish Heather?', \"No, no, we must import it all. Every bally drop. We are a gloomy people. It's so crikey cold and dark up there, and only fish to eat. Fish and imported honey. Oh strewth!\", \"Listen buster! In Rejkyavik it is dark for eight months of the year, and it's cold enough to freeze your wrists off and there's only golly fish to eat. Administrative errors are bound to occur in enormous quantities. Look at this - it's all a mistake. It's a real pain in the sphincter! Icelandic Honey Week? My life!\", \"Listen cowboy, I got a job to do. IT'S A STUPID, POINTLESS JOB, BUT AT LEAST IT KEEPS ME AWAY FROM ICELAND, ALL RIGHT? The leg of the worker bee has...\"]\n",
      "\n"
     ]
    }
   ],
   "source": [
    "for character in show.characters:\n",
    "    print(\"***\")\n",
    "    print(character, \" --- \")\n",
    "    print(show.characters[character])\n",
    "    print(\"\")"
   ]
  },
  {
   "cell_type": "markdown",
   "metadata": {},
   "source": [
    "***"
   ]
  }
 ],
 "metadata": {
  "@webio": {
   "lastCommId": null,
   "lastKernelId": null
  },
  "kernelspec": {
   "display_name": "pytypist",
   "language": "python",
   "name": "pytypist"
  },
  "language_info": {
   "codemirror_mode": {
    "name": "ipython",
    "version": 3
   },
   "file_extension": ".py",
   "mimetype": "text/x-python",
   "name": "python",
   "nbconvert_exporter": "python",
   "pygments_lexer": "ipython3",
   "version": "3.6.6"
  }
 },
 "nbformat": 4,
 "nbformat_minor": 2
}
