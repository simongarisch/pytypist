{
 "cells": [
  {
   "cell_type": "markdown",
   "metadata": {},
   "source": [
    "## Class dict of dicts"
   ]
  },
  {
   "cell_type": "code",
   "execution_count": 8,
   "metadata": {},
   "outputs": [],
   "source": [
    "class A(dict):\n",
    "    def __init__(self):\n",
    "        super().__init__()\n",
    "        self[\"x\"] = 1\n",
    "        self[\"y\"] = 2\n",
    "\n",
    "a = A()\n",
    "b = A()"
   ]
  },
  {
   "cell_type": "code",
   "execution_count": 9,
   "metadata": {},
   "outputs": [
    {
     "data": {
      "text/plain": [
       "{'x': 1, 'y': 2}"
      ]
     },
     "execution_count": 9,
     "metadata": {},
     "output_type": "execute_result"
    }
   ],
   "source": [
    "a"
   ]
  },
  {
   "cell_type": "code",
   "execution_count": 10,
   "metadata": {},
   "outputs": [
    {
     "data": {
      "text/plain": [
       "{'x': 1, 'y': 2}"
      ]
     },
     "execution_count": 10,
     "metadata": {},
     "output_type": "execute_result"
    }
   ],
   "source": [
    "b"
   ]
  },
  {
   "cell_type": "code",
   "execution_count": 13,
   "metadata": {},
   "outputs": [],
   "source": [
    "class Z(dict):\n",
    "    def __init__(self):\n",
    "        super().__init__()\n",
    "        self[\"a\"] = a\n",
    "        self[\"b\"] = b\n",
    "\n",
    "z = Z()"
   ]
  },
  {
   "cell_type": "code",
   "execution_count": 14,
   "metadata": {},
   "outputs": [
    {
     "data": {
      "text/plain": [
       "{'a': {'x': 1, 'y': 2}, 'b': {'x': 1, 'y': 2}}"
      ]
     },
     "execution_count": 14,
     "metadata": {},
     "output_type": "execute_result"
    }
   ],
   "source": [
    "z"
   ]
  },
  {
   "cell_type": "markdown",
   "metadata": {},
   "source": [
    "## For OrderedDict"
   ]
  },
  {
   "cell_type": "code",
   "execution_count": 6,
   "metadata": {},
   "outputs": [],
   "source": [
    "from collections import OrderedDict\n",
    "\n",
    "class A(OrderedDict):\n",
    "    def __init__(self):\n",
    "        super().__init__()\n",
    "        self[\"x\"] = 1\n",
    "        self[\"y\"] = 2\n",
    "\n",
    "a = A()\n",
    "b = A()"
   ]
  },
  {
   "cell_type": "code",
   "execution_count": 7,
   "metadata": {},
   "outputs": [
    {
     "data": {
      "text/plain": [
       "A([('x', 1), ('y', 2)])"
      ]
     },
     "execution_count": 7,
     "metadata": {},
     "output_type": "execute_result"
    }
   ],
   "source": [
    "a"
   ]
  },
  {
   "cell_type": "code",
   "execution_count": 8,
   "metadata": {},
   "outputs": [
    {
     "data": {
      "text/plain": [
       "A([('x', 1), ('y', 2)])"
      ]
     },
     "execution_count": 8,
     "metadata": {},
     "output_type": "execute_result"
    }
   ],
   "source": [
    "b"
   ]
  },
  {
   "cell_type": "code",
   "execution_count": 9,
   "metadata": {},
   "outputs": [],
   "source": [
    "class Z(OrderedDict):\n",
    "    def __init__(self):\n",
    "        super().__init__()\n",
    "        self[\"a\"] = a\n",
    "        self[\"b\"] = b\n",
    "\n",
    "z = Z()"
   ]
  },
  {
   "cell_type": "code",
   "execution_count": 10,
   "metadata": {},
   "outputs": [
    {
     "data": {
      "text/plain": [
       "Z([('a', A([('x', 1), ('y', 2)])), ('b', A([('x', 1), ('y', 2)]))])"
      ]
     },
     "execution_count": 10,
     "metadata": {},
     "output_type": "execute_result"
    }
   ],
   "source": [
    "z"
   ]
  },
  {
   "cell_type": "code",
   "execution_count": 11,
   "metadata": {},
   "outputs": [
    {
     "data": {
      "text/plain": [
       "['a', 'b']"
      ]
     },
     "execution_count": 11,
     "metadata": {},
     "output_type": "execute_result"
    }
   ],
   "source": [
    "list(z)"
   ]
  },
  {
   "cell_type": "markdown",
   "metadata": {},
   "source": [
    "## Applied to the lessons"
   ]
  },
  {
   "cell_type": "code",
   "execution_count": 1,
   "metadata": {},
   "outputs": [
    {
     "data": {
      "text/plain": [
       "'C:\\\\Users\\\\simon.garisch\\\\Desktop\\\\git\\\\pytypist'"
      ]
     },
     "execution_count": 1,
     "metadata": {},
     "output_type": "execute_result"
    }
   ],
   "source": [
    "import os\n",
    "\n",
    "curr_dire = os.getcwd()\n",
    "path = os.path.join(curr_dire, \"..\")\n",
    "os.chdir(path)\n",
    "os.getcwd()"
   ]
  },
  {
   "cell_type": "code",
   "execution_count": 2,
   "metadata": {},
   "outputs": [],
   "source": [
    "from pytypist import lessons"
   ]
  },
  {
   "cell_type": "code",
   "execution_count": 3,
   "metadata": {},
   "outputs": [],
   "source": [
    "sections = lessons.Sections()"
   ]
  },
  {
   "cell_type": "code",
   "execution_count": 4,
   "metadata": {},
   "outputs": [
    {
     "data": {
      "text/plain": [
       "Sections([('The Home Row',\n",
       "           Lessons([(\"Keys 'asdf'\",\n",
       "                     Lesson(C:\\Users\\simon.garisch\\Desktop\\git\\pytypist\\pytypist\\lessons\\1 The Home Row\\lesson_1.01.ini)),\n",
       "                    (\"Keys 'jkl;'\",\n",
       "                     Lesson(C:\\Users\\simon.garisch\\Desktop\\git\\pytypist\\pytypist\\lessons\\1 The Home Row\\lesson_1.02.ini)),\n",
       "                    (\"Keys 'f' & 'j'\",\n",
       "                     Lesson(C:\\Users\\simon.garisch\\Desktop\\git\\pytypist\\pytypist\\lessons\\1 The Home Row\\lesson_1.03.ini)),\n",
       "                    (\"Keys 'd' & 'k'\",\n",
       "                     Lesson(C:\\Users\\simon.garisch\\Desktop\\git\\pytypist\\pytypist\\lessons\\1 The Home Row\\lesson_1.04.ini)),\n",
       "                    (\"Keys 's' & 'l'\",\n",
       "                     Lesson(C:\\Users\\simon.garisch\\Desktop\\git\\pytypist\\pytypist\\lessons\\1 The Home Row\\lesson_1.05.ini)),\n",
       "                    (\"Keys 'a' & ';'\",\n",
       "                     Lesson(C:\\Users\\simon.garisch\\Desktop\\git\\pytypist\\pytypist\\lessons\\1 The Home Row\\lesson_1.06.ini)),\n",
       "                    ('Practice 1',\n",
       "                     Lesson(C:\\Users\\simon.garisch\\Desktop\\git\\pytypist\\pytypist\\lessons\\1 The Home Row\\lesson_1.07.ini)),\n",
       "                    ('Practice 2',\n",
       "                     Lesson(C:\\Users\\simon.garisch\\Desktop\\git\\pytypist\\pytypist\\lessons\\1 The Home Row\\lesson_1.08.ini)),\n",
       "                    ('Practice 3',\n",
       "                     Lesson(C:\\Users\\simon.garisch\\Desktop\\git\\pytypist\\pytypist\\lessons\\1 The Home Row\\lesson_1.09.ini))])),\n",
       "          (\"Keys 'g' and 'h'\",\n",
       "           Lessons([(\"From 'f' to 'g'\",\n",
       "                     Lesson(C:\\Users\\simon.garisch\\Desktop\\git\\pytypist\\pytypist\\lessons\\2 Keys 'g' and 'h'\\lesson_2.01.ini)),\n",
       "                    (\"From 'j' to 'h'\",\n",
       "                     Lesson(C:\\Users\\simon.garisch\\Desktop\\git\\pytypist\\pytypist\\lessons\\2 Keys 'g' and 'h'\\lesson_2.02.ini)),\n",
       "                    (\"Practice 1 'gh'\",\n",
       "                     Lesson(C:\\Users\\simon.garisch\\Desktop\\git\\pytypist\\pytypist\\lessons\\2 Keys 'g' and 'h'\\lesson_2.03.ini)),\n",
       "                    (\"Practice 2 'gh'\",\n",
       "                     Lesson(C:\\Users\\simon.garisch\\Desktop\\git\\pytypist\\pytypist\\lessons\\2 Keys 'g' and 'h'\\lesson_2.04.ini)),\n",
       "                    (\"Practice 3 'gh'\",\n",
       "                     Lesson(C:\\Users\\simon.garisch\\Desktop\\git\\pytypist\\pytypist\\lessons\\2 Keys 'g' and 'h'\\lesson_2.05.ini))])),\n",
       "          ('The Top Row - Left Hand',\n",
       "           Lessons([(\"From 'f' to 'r'\",\n",
       "                     Lesson(C:\\Users\\simon.garisch\\Desktop\\git\\pytypist\\pytypist\\lessons\\3 The Top Row - Left Hand\\lesson_3.01.ini)),\n",
       "                    (\"'f' and 'r' words\",\n",
       "                     Lesson(C:\\Users\\simon.garisch\\Desktop\\git\\pytypist\\pytypist\\lessons\\3 The Top Row - Left Hand\\lesson_3.02.ini)),\n",
       "                    (\"From 'd' to 'e'\",\n",
       "                     Lesson(C:\\Users\\simon.garisch\\Desktop\\git\\pytypist\\pytypist\\lessons\\3 The Top Row - Left Hand\\lesson_3.03.ini)),\n",
       "                    (\"'d' and 'e' words\",\n",
       "                     Lesson(C:\\Users\\simon.garisch\\Desktop\\git\\pytypist\\pytypist\\lessons\\3 The Top Row - Left Hand\\lesson_3.04.ini)),\n",
       "                    (\"From 's' to 'w'\",\n",
       "                     Lesson(C:\\Users\\simon.garisch\\Desktop\\git\\pytypist\\pytypist\\lessons\\3 The Top Row - Left Hand\\lesson_3.05.ini)),\n",
       "                    (\"'s' and 'w' words\",\n",
       "                     Lesson(C:\\Users\\simon.garisch\\Desktop\\git\\pytypist\\pytypist\\lessons\\3 The Top Row - Left Hand\\lesson_3.06.ini)),\n",
       "                    (\"From 'a' to 'q'\",\n",
       "                     Lesson(C:\\Users\\simon.garisch\\Desktop\\git\\pytypist\\pytypist\\lessons\\3 The Top Row - Left Hand\\lesson_3.07.ini)),\n",
       "                    (\"'a' and 'q' words\",\n",
       "                     Lesson(C:\\Users\\simon.garisch\\Desktop\\git\\pytypist\\pytypist\\lessons\\3 The Top Row - Left Hand\\lesson_3.08.ini)),\n",
       "                    (\"From 'f' to 't'\",\n",
       "                     Lesson(C:\\Users\\simon.garisch\\Desktop\\git\\pytypist\\pytypist\\lessons\\3 The Top Row - Left Hand\\lesson_3.09.ini)),\n",
       "                    (\"'f' and 't' words\",\n",
       "                     Lesson(C:\\Users\\simon.garisch\\Desktop\\git\\pytypist\\pytypist\\lessons\\3 The Top Row - Left Hand\\lesson_3.10.ini))])),\n",
       "          ('The Top Row - Right Hand',\n",
       "           Lessons([(\"From 'j' to 'u'\",\n",
       "                     Lesson(C:\\Users\\simon.garisch\\Desktop\\git\\pytypist\\pytypist\\lessons\\4 The Top Row - Right Hand\\lesson_4.01.ini)),\n",
       "                    (\"'j' and 'u' words\",\n",
       "                     Lesson(C:\\Users\\simon.garisch\\Desktop\\git\\pytypist\\pytypist\\lessons\\4 The Top Row - Right Hand\\lesson_4.02.ini)),\n",
       "                    (\"From 'k' to 'i'\",\n",
       "                     Lesson(C:\\Users\\simon.garisch\\Desktop\\git\\pytypist\\pytypist\\lessons\\4 The Top Row - Right Hand\\lesson_4.03.ini)),\n",
       "                    (\"'k' and 'i' words\",\n",
       "                     Lesson(C:\\Users\\simon.garisch\\Desktop\\git\\pytypist\\pytypist\\lessons\\4 The Top Row - Right Hand\\lesson_4.04.ini)),\n",
       "                    (\"From 'l' to 'o'\",\n",
       "                     Lesson(C:\\Users\\simon.garisch\\Desktop\\git\\pytypist\\pytypist\\lessons\\4 The Top Row - Right Hand\\lesson_4.05.ini)),\n",
       "                    (\"'l' and 'o' words\",\n",
       "                     Lesson(C:\\Users\\simon.garisch\\Desktop\\git\\pytypist\\pytypist\\lessons\\4 The Top Row - Right Hand\\lesson_4.06.ini)),\n",
       "                    (\"From ';' to 'p'\",\n",
       "                     Lesson(C:\\Users\\simon.garisch\\Desktop\\git\\pytypist\\pytypist\\lessons\\4 The Top Row - Right Hand\\lesson_4.07.ini)),\n",
       "                    (\"';' and 'p' words\",\n",
       "                     Lesson(C:\\Users\\simon.garisch\\Desktop\\git\\pytypist\\pytypist\\lessons\\4 The Top Row - Right Hand\\lesson_4.08.ini)),\n",
       "                    (\"From 'j' to 'y'\",\n",
       "                     Lesson(C:\\Users\\simon.garisch\\Desktop\\git\\pytypist\\pytypist\\lessons\\4 The Top Row - Right Hand\\lesson_4.09.ini)),\n",
       "                    (\"'j' and 'y' words\",\n",
       "                     Lesson(C:\\Users\\simon.garisch\\Desktop\\git\\pytypist\\pytypist\\lessons\\4 The Top Row - Right Hand\\lesson_4.10.ini))])),\n",
       "          ('The Top Row - Both Hands',\n",
       "           Lessons([('Top row practice 1',\n",
       "                     Lesson(C:\\Users\\simon.garisch\\Desktop\\git\\pytypist\\pytypist\\lessons\\5 The Top Row - Both Hands\\lesson_5.01.ini)),\n",
       "                    ('Top row practice 2',\n",
       "                     Lesson(C:\\Users\\simon.garisch\\Desktop\\git\\pytypist\\pytypist\\lessons\\5 The Top Row - Both Hands\\lesson_5.02.ini)),\n",
       "                    ('Top row practice 3',\n",
       "                     Lesson(C:\\Users\\simon.garisch\\Desktop\\git\\pytypist\\pytypist\\lessons\\5 The Top Row - Both Hands\\lesson_5.03.ini)),\n",
       "                    ('Top row practice 4',\n",
       "                     Lesson(C:\\Users\\simon.garisch\\Desktop\\git\\pytypist\\pytypist\\lessons\\5 The Top Row - Both Hands\\lesson_5.04.ini)),\n",
       "                    ('Top row practice 5',\n",
       "                     Lesson(C:\\Users\\simon.garisch\\Desktop\\git\\pytypist\\pytypist\\lessons\\5 The Top Row - Both Hands\\lesson_5.05.ini))])),\n",
       "          ('The Bottom Row - Left Hand',\n",
       "           Lessons([(\"From 'f' to 'v'\",\n",
       "                     Lesson(C:\\Users\\simon.garisch\\Desktop\\git\\pytypist\\pytypist\\lessons\\6 The Bottom Row - Left Hand\\lesson_6.01.ini)),\n",
       "                    (\"'f' and 'v' words\",\n",
       "                     Lesson(C:\\Users\\simon.garisch\\Desktop\\git\\pytypist\\pytypist\\lessons\\6 The Bottom Row - Left Hand\\lesson_6.02.ini)),\n",
       "                    (\"From 'd' to 'c'\",\n",
       "                     Lesson(C:\\Users\\simon.garisch\\Desktop\\git\\pytypist\\pytypist\\lessons\\6 The Bottom Row - Left Hand\\lesson_6.03.ini)),\n",
       "                    (\"'d' and 'c' words\",\n",
       "                     Lesson(C:\\Users\\simon.garisch\\Desktop\\git\\pytypist\\pytypist\\lessons\\6 The Bottom Row - Left Hand\\lesson_6.04.ini)),\n",
       "                    (\"From 's' to 'x'\",\n",
       "                     Lesson(C:\\Users\\simon.garisch\\Desktop\\git\\pytypist\\pytypist\\lessons\\6 The Bottom Row - Left Hand\\lesson_6.05.ini)),\n",
       "                    (\"'s' and 'x' words\",\n",
       "                     Lesson(C:\\Users\\simon.garisch\\Desktop\\git\\pytypist\\pytypist\\lessons\\6 The Bottom Row - Left Hand\\lesson_6.06.ini)),\n",
       "                    (\"From 'a' to 'z'\",\n",
       "                     Lesson(C:\\Users\\simon.garisch\\Desktop\\git\\pytypist\\pytypist\\lessons\\6 The Bottom Row - Left Hand\\lesson_6.07.ini)),\n",
       "                    (\"'a' and 'z' words\",\n",
       "                     Lesson(C:\\Users\\simon.garisch\\Desktop\\git\\pytypist\\pytypist\\lessons\\6 The Bottom Row - Left Hand\\lesson_6.08.ini)),\n",
       "                    (\"From 'f' to 'b'\",\n",
       "                     Lesson(C:\\Users\\simon.garisch\\Desktop\\git\\pytypist\\pytypist\\lessons\\6 The Bottom Row - Left Hand\\lesson_6.09.ini)),\n",
       "                    (\"'f' and 'b' words\",\n",
       "                     Lesson(C:\\Users\\simon.garisch\\Desktop\\git\\pytypist\\pytypist\\lessons\\6 The Bottom Row - Left Hand\\lesson_6.10.ini))])),\n",
       "          ('The Bottom Row - Right Hand',\n",
       "           Lessons([(\"From 'j' to 'n'\",\n",
       "                     Lesson(C:\\Users\\simon.garisch\\Desktop\\git\\pytypist\\pytypist\\lessons\\7 The Bottom Row - Right Hand\\lesson_7.01.ini)),\n",
       "                    (\"'j' and 'n' words\",\n",
       "                     Lesson(C:\\Users\\simon.garisch\\Desktop\\git\\pytypist\\pytypist\\lessons\\7 The Bottom Row - Right Hand\\lesson_7.02.ini)),\n",
       "                    (\"From 'j' to 'm'\",\n",
       "                     Lesson(C:\\Users\\simon.garisch\\Desktop\\git\\pytypist\\pytypist\\lessons\\7 The Bottom Row - Right Hand\\lesson_7.03.ini)),\n",
       "                    (\"'j' and 'm' words\",\n",
       "                     Lesson(C:\\Users\\simon.garisch\\Desktop\\git\\pytypist\\pytypist\\lessons\\7 The Bottom Row - Right Hand\\lesson_7.04.ini))])),\n",
       "          ('The Bottom Row - Both Hands',\n",
       "           Lessons([('Bottom row practice 1',\n",
       "                     Lesson(C:\\Users\\simon.garisch\\Desktop\\git\\pytypist\\pytypist\\lessons\\8 The Bottom Row - Both Hands\\lesson_8.01.ini)),\n",
       "                    ('Bottom row practice 2',\n",
       "                     Lesson(C:\\Users\\simon.garisch\\Desktop\\git\\pytypist\\pytypist\\lessons\\8 The Bottom Row - Both Hands\\lesson_8.02.ini)),\n",
       "                    ('Bottom row practice 3',\n",
       "                     Lesson(C:\\Users\\simon.garisch\\Desktop\\git\\pytypist\\pytypist\\lessons\\8 The Bottom Row - Both Hands\\lesson_8.03.ini)),\n",
       "                    ('Bottom row practice 4',\n",
       "                     Lesson(C:\\Users\\simon.garisch\\Desktop\\git\\pytypist\\pytypist\\lessons\\8 The Bottom Row - Both Hands\\lesson_8.04.ini)),\n",
       "                    ('Bottom row practice 5',\n",
       "                     Lesson(C:\\Users\\simon.garisch\\Desktop\\git\\pytypist\\pytypist\\lessons\\8 The Bottom Row - Both Hands\\lesson_8.05.ini))]))])"
      ]
     },
     "execution_count": 4,
     "metadata": {},
     "output_type": "execute_result"
    }
   ],
   "source": [
    "sections"
   ]
  },
  {
   "cell_type": "markdown",
   "metadata": {},
   "source": [
    "***"
   ]
  }
 ],
 "metadata": {
  "@webio": {
   "lastCommId": null,
   "lastKernelId": null
  },
  "kernelspec": {
   "display_name": "pytypist",
   "language": "python",
   "name": "pytypist"
  },
  "language_info": {
   "codemirror_mode": {
    "name": "ipython",
    "version": 3
   },
   "file_extension": ".py",
   "mimetype": "text/x-python",
   "name": "python",
   "nbconvert_exporter": "python",
   "pygments_lexer": "ipython3",
   "version": "3.6.6"
  }
 },
 "nbformat": 4,
 "nbformat_minor": 2
}
