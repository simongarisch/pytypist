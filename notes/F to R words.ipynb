{
 "cells": [
  {
   "cell_type": "markdown",
   "metadata": {},
   "source": [
    "## F to R words"
   ]
  },
  {
   "cell_type": "code",
   "execution_count": 1,
   "metadata": {},
   "outputs": [
    {
     "data": {
      "text/plain": [
       "'C:\\\\Users\\\\Simon\\\\Desktop\\\\code\\\\pytypist'"
      ]
     },
     "execution_count": 1,
     "metadata": {},
     "output_type": "execute_result"
    }
   ],
   "source": [
    "import os\n",
    "\n",
    "curr_dire = os.getcwd()\n",
    "path = os.path.join(curr_dire, \"..\")\n",
    "os.chdir(path)\n",
    "os.getcwd()"
   ]
  },
  {
   "cell_type": "code",
   "execution_count": 2,
   "metadata": {},
   "outputs": [],
   "source": [
    "import pytypist"
   ]
  },
  {
   "cell_type": "code",
   "execution_count": 4,
   "metadata": {},
   "outputs": [
    {
     "data": {
      "text/plain": [
       "['aargh', 'aarrgh', 'aarrghh', 'addr', 'adrad']"
      ]
     },
     "execution_count": 4,
     "metadata": {},
     "output_type": "execute_result"
    }
   ],
   "source": [
    "words = pytypist.words.collect_words_containing(\"asdfjkl;ghr\", must_contain=\"r\")\n",
    "words[:5]"
   ]
  },
  {
   "cell_type": "code",
   "execution_count": 5,
   "metadata": {},
   "outputs": [],
   "source": [
    "short_words = [w for w in words if len(w)>=3 and len(w)<=4]"
   ]
  },
  {
   "cell_type": "code",
   "execution_count": 6,
   "metadata": {},
   "outputs": [
    {
     "data": {
      "text/plain": [
       "['addr',\n",
       " 'ajar',\n",
       " 'arar',\n",
       " 'ard',\n",
       " 'arfs',\n",
       " 'argh',\n",
       " 'arks',\n",
       " 'arr',\n",
       " 'darg',\n",
       " 'dark',\n",
       " 'darr',\n",
       " 'dlr',\n",
       " 'drad',\n",
       " 'drag',\n",
       " 'fard',\n",
       " 'frag',\n",
       " 'gara',\n",
       " 'garg',\n",
       " 'gars',\n",
       " 'ggr',\n",
       " 'glar',\n",
       " 'gra',\n",
       " 'grad',\n",
       " 'gras',\n",
       " 'grf',\n",
       " 'grr',\n",
       " 'haar',\n",
       " 'hard',\n",
       " 'hark',\n",
       " 'harr',\n",
       " 'hrs',\n",
       " 'jar',\n",
       " 'jarg',\n",
       " 'jark',\n",
       " 'jars',\n",
       " 'kgr',\n",
       " 'khar',\n",
       " 'kral',\n",
       " 'kras',\n",
       " 'krs',\n",
       " 'ksar',\n",
       " 'lard',\n",
       " 'raad',\n",
       " 'rads',\n",
       " 'rag',\n",
       " 'raga',\n",
       " 'rags',\n",
       " 'rah',\n",
       " 'rakh',\n",
       " 'rall',\n",
       " 'rals',\n",
       " 'rara',\n",
       " 'rasa',\n",
       " 'rash',\n",
       " 'rhd',\n",
       " 'shr']"
      ]
     },
     "execution_count": 6,
     "metadata": {},
     "output_type": "execute_result"
    }
   ],
   "source": [
    "short_words"
   ]
  },
  {
   "cell_type": "code",
   "execution_count": 7,
   "metadata": {},
   "outputs": [],
   "source": [
    "word_selection = [\n",
    "    \"ajar\",\n",
    "    \"dark\",\n",
    "    \"drag\",\n",
    "    \"frag\",\n",
    "    \"grad\",\n",
    "    \"grass\",\n",
    "    \"grad\",\n",
    "    \"hard\",\n",
    "    \"hark\",\n",
    "    \"jars\",\n",
    "    \"lard\",\n",
    "    \"rads\",\n",
    "    \"rags\",\n",
    "    \"rash\"\n",
    "]"
   ]
  },
  {
   "cell_type": "markdown",
   "metadata": {},
   "source": [
    "Take a combination of words: half from your selection and half from the words list..."
   ]
  },
  {
   "cell_type": "code",
   "execution_count": 8,
   "metadata": {},
   "outputs": [
    {
     "data": {
      "text/plain": [
       "['laggar',\n",
       " 'frag',\n",
       " 'ajhar',\n",
       " 'rash',\n",
       " 'jagras',\n",
       " 'hark',\n",
       " 'hrs',\n",
       " 'frag',\n",
       " 'argal',\n",
       " 'frag',\n",
       " 'hassar',\n",
       " 'rash',\n",
       " 'darg',\n",
       " 'hark',\n",
       " 'hasard',\n",
       " 'lard',\n",
       " 'saggar',\n",
       " 'hard',\n",
       " 'hard',\n",
       " 'rags',\n",
       " 'dlr',\n",
       " 'rads',\n",
       " 'rakshasa',\n",
       " 'frag',\n",
       " 'dark',\n",
       " 'grad',\n",
       " 'rads',\n",
       " 'lard',\n",
       " 'rhd',\n",
       " 'rads',\n",
       " 'rash',\n",
       " 'grad',\n",
       " 'raash',\n",
       " 'frag',\n",
       " 'kral',\n",
       " 'frag',\n",
       " 'raad',\n",
       " 'grad',\n",
       " 'shradd',\n",
       " 'grad',\n",
       " 'rahdar',\n",
       " 'rads',\n",
       " 'lards',\n",
       " 'hark',\n",
       " 'rajahs',\n",
       " 'dark',\n",
       " 'shark',\n",
       " 'frag',\n",
       " 'rads',\n",
       " 'ajar',\n",
       " 'sradha',\n",
       " 'rads',\n",
       " 'gars',\n",
       " 'hard',\n",
       " 'darks',\n",
       " 'rash',\n",
       " 'frags',\n",
       " 'ajar',\n",
       " 'drad',\n",
       " 'frag',\n",
       " 'hark',\n",
       " 'frag',\n",
       " 'jarg',\n",
       " 'lard',\n",
       " 'draff',\n",
       " 'drag',\n",
       " 'drag',\n",
       " 'jars',\n",
       " 'agars',\n",
       " 'jars',\n",
       " 'jharal',\n",
       " 'drag',\n",
       " 'rall',\n",
       " 'lard',\n",
       " 'arhar',\n",
       " 'dark',\n",
       " 'saggard',\n",
       " 'ajar',\n",
       " 'sardar',\n",
       " 'lard',\n",
       " 'gars',\n",
       " 'ajar',\n",
       " 'hrs',\n",
       " 'grad',\n",
       " 'saggar',\n",
       " 'rags',\n",
       " 'afara',\n",
       " 'grad',\n",
       " 'saggars',\n",
       " 'grad',\n",
       " 'shradd',\n",
       " 'lard',\n",
       " 'afara',\n",
       " 'grad',\n",
       " 'farads',\n",
       " 'grad',\n",
       " 'grad',\n",
       " 'frag',\n",
       " 'rara',\n",
       " 'grass']"
      ]
     },
     "execution_count": 8,
     "metadata": {},
     "output_type": "execute_result"
    }
   ],
   "source": [
    "from random import choice\n",
    "\n",
    "my_words = []\n",
    "for i in range(100):\n",
    "    if i % 2:\n",
    "        word = choice(word_selection)\n",
    "    else:\n",
    "        word = choice(words)\n",
    "\n",
    "    my_words.append(word)\n",
    "\n",
    "my_words"
   ]
  },
  {
   "cell_type": "code",
   "execution_count": 9,
   "metadata": {},
   "outputs": [
    {
     "data": {
      "text/plain": [
       "100"
      ]
     },
     "execution_count": 9,
     "metadata": {},
     "output_type": "execute_result"
    }
   ],
   "source": [
    "len(my_words)"
   ]
  },
  {
   "cell_type": "code",
   "execution_count": 11,
   "metadata": {},
   "outputs": [],
   "source": [
    "file_name = \"f to r words.txt\"\n",
    "file_path = os.path.join(curr_dire, file_name)\n",
    "\n",
    "with open (file_path, \"w\") as target_file:\n",
    "    target_file.write(\" \".join(my_words))\n"
   ]
  },
  {
   "cell_type": "code",
   "execution_count": null,
   "metadata": {},
   "outputs": [],
   "source": []
  }
 ],
 "metadata": {
  "kernelspec": {
   "display_name": "pytypist",
   "language": "python",
   "name": "pytypist"
  },
  "language_info": {
   "codemirror_mode": {
    "name": "ipython",
    "version": 3
   },
   "file_extension": ".py",
   "mimetype": "text/x-python",
   "name": "python",
   "nbconvert_exporter": "python",
   "pygments_lexer": "ipython3",
   "version": "3.6.4"
  }
 },
 "nbformat": 4,
 "nbformat_minor": 2
}
