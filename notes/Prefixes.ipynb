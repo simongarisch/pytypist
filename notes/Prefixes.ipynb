{
 "cells": [
  {
   "cell_type": "markdown",
   "metadata": {},
   "source": [
    "## Prefixes"
   ]
  },
  {
   "cell_type": "code",
   "execution_count": 1,
   "metadata": {},
   "outputs": [
    {
     "data": {
      "text/plain": [
       "'C:\\\\Users\\\\simon.garisch\\\\Desktop\\\\git\\\\pytypist'"
      ]
     },
     "execution_count": 1,
     "metadata": {},
     "output_type": "execute_result"
    }
   ],
   "source": [
    "import os\n",
    "\n",
    "curr_dire = os.getcwd()\n",
    "path = os.path.join(curr_dire, \"..\")\n",
    "os.chdir(path)\n",
    "os.getcwd()"
   ]
  },
  {
   "cell_type": "code",
   "execution_count": 2,
   "metadata": {},
   "outputs": [],
   "source": [
    "import pytypist"
   ]
  },
  {
   "cell_type": "code",
   "execution_count": 3,
   "metadata": {},
   "outputs": [],
   "source": [
    "words = pytypist.words.collect_words()"
   ]
  },
  {
   "cell_type": "code",
   "execution_count": 6,
   "metadata": {},
   "outputs": [],
   "source": [
    "from collections import Counter\n",
    "\n",
    "prefixes = []\n",
    "\n",
    "for word in words:\n",
    "    if len(word) >= 2:\n",
    "        prefixes.append(word[:2])\n",
    "\n",
    "prefixes_counter = Counter(prefixes)\n",
    "#prefixes_counter"
   ]
  },
  {
   "cell_type": "code",
   "execution_count": 22,
   "metadata": {},
   "outputs": [
    {
     "data": {
      "text/plain": [
       "[20326,\n",
       " 11553,\n",
       " 11323,\n",
       " 9979,\n",
       " 8952,\n",
       " 8383,\n",
       " 7289,\n",
       " 6791,\n",
       " 6469,\n",
       " 6195,\n",
       " 6019,\n",
       " 5691,\n",
       " 5667,\n",
       " 5025,\n",
       " 4958,\n",
       " 4717,\n",
       " 4716,\n",
       " 4552,\n",
       " 4293,\n",
       " 4280,\n",
       " 4241,\n",
       " 3848,\n",
       " 3794,\n",
       " 3730,\n",
       " 3726,\n",
       " 3626,\n",
       " 3605,\n",
       " 3428,\n",
       " 3356,\n",
       " 3166,\n",
       " 3032,\n",
       " 3005,\n",
       " 2944,\n",
       " 2911,\n",
       " 2889,\n",
       " 2881,\n",
       " 2862,\n",
       " 2841,\n",
       " 2837,\n",
       " 2736,\n",
       " 2728,\n",
       " 2712,\n",
       " 2612,\n",
       " 2588,\n",
       " 2580,\n",
       " 2568,\n",
       " 2491,\n",
       " 2427,\n",
       " 2405,\n",
       " 2383]"
      ]
     },
     "execution_count": 22,
     "metadata": {},
     "output_type": "execute_result"
    }
   ],
   "source": [
    "counts = sorted(list(prefixes_counter.values()), reverse=True)\n",
    "counts[:50]"
   ]
  },
  {
   "cell_type": "code",
   "execution_count": 23,
   "metadata": {},
   "outputs": [
    {
     "data": {
      "text/plain": [
       "1773"
      ]
     },
     "execution_count": 23,
     "metadata": {},
     "output_type": "execute_result"
    }
   ],
   "source": [
    "len(counts)"
   ]
  },
  {
   "cell_type": "code",
   "execution_count": 24,
   "metadata": {},
   "outputs": [
    {
     "data": {
      "text/plain": [
       "{'ac': 2052,\n",
       " 'al': 2568,\n",
       " 'an': 4958,\n",
       " 'ar': 2293,\n",
       " 'ba': 3848,\n",
       " 'be': 3730,\n",
       " 'bi': 2165,\n",
       " 'bo': 2383,\n",
       " 'br': 2712,\n",
       " 'ca': 6019,\n",
       " 'ch': 4717,\n",
       " 'cl': 2026,\n",
       " 'co': 11553,\n",
       " 'cr': 2862,\n",
       " 'de': 6791,\n",
       " 'di': 6195,\n",
       " 'do': 2132,\n",
       " 'en': 2911,\n",
       " 'ex': 2612,\n",
       " 'fi': 2128,\n",
       " 'fl': 2211,\n",
       " 'fo': 2889,\n",
       " 'ga': 2131,\n",
       " 'gr': 2366,\n",
       " 'ha': 3626,\n",
       " 'he': 3605,\n",
       " 'hy': 2736,\n",
       " 'ho': 2837,\n",
       " 'in': 8383,\n",
       " 'la': 2944,\n",
       " 'li': 2491,\n",
       " 'ma': 4716,\n",
       " 'Ma': 2117,\n",
       " 'me': 3726,\n",
       " 'mi': 4552,\n",
       " 'mo': 3428,\n",
       " 'no': 8952,\n",
       " 'ou': 2090,\n",
       " 'ov': 4293,\n",
       " 'pa': 5691,\n",
       " 'pe': 4241,\n",
       " 'ph': 2728,\n",
       " 'pi': 2228,\n",
       " 'pl': 2245,\n",
       " 'po': 4280,\n",
       " 'pr': 9979,\n",
       " 'qu': 2881,\n",
       " 'ra': 2352,\n",
       " 're': 11323,\n",
       " 'sa': 3005,\n",
       " 'sc': 3032,\n",
       " 'se': 6469,\n",
       " 'sh': 2841,\n",
       " 'si': 2405,\n",
       " 'so': 2588,\n",
       " 'sp': 3794,\n",
       " 'st': 5667,\n",
       " 'su': 7289,\n",
       " 'ta': 2580,\n",
       " 'te': 3166,\n",
       " 'th': 3356,\n",
       " 'to': 2427,\n",
       " 'tr': 5025,\n",
       " 'un': 20326,\n",
       " 'we': 2205}"
      ]
     },
     "execution_count": 24,
     "metadata": {},
     "output_type": "execute_result"
    }
   ],
   "source": [
    "{k:v for k,v in prefixes_counter.items() if v >= 2000}"
   ]
  },
  {
   "cell_type": "code",
   "execution_count": null,
   "metadata": {},
   "outputs": [],
   "source": []
  }
 ],
 "metadata": {
  "@webio": {
   "lastCommId": null,
   "lastKernelId": null
  },
  "kernelspec": {
   "display_name": "pytypist",
   "language": "python",
   "name": "pytypist"
  },
  "language_info": {
   "codemirror_mode": {
    "name": "ipython",
    "version": 3
   },
   "file_extension": ".py",
   "mimetype": "text/x-python",
   "name": "python",
   "nbconvert_exporter": "python",
   "pygments_lexer": "ipython3",
   "version": "3.6.6"
  }
 },
 "nbformat": 4,
 "nbformat_minor": 2
}
