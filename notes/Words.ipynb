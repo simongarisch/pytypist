{
 "cells": [
  {
   "cell_type": "markdown",
   "metadata": {},
   "source": [
    "## Words\n",
    "Looking for words in the dictionary that contain specific letters...\n",
    "\n",
    "There is a list of english words at https://github.com/dwyl/english-words\n",
    "\n",
    "I've donwloaded the words.txt file in this directory."
   ]
  },
  {
   "cell_type": "code",
   "execution_count": 1,
   "metadata": {},
   "outputs": [],
   "source": [
    "import os\n",
    "\n",
    "file_name = \"words.txt\"\n",
    "os.path.isfile(file_name)"
   ]
  },
  {
   "cell_type": "code",
   "execution_count": 2,
   "metadata": {},
   "outputs": [],
   "source": [
    "with open(file_name, \"r\") as target_file:\n",
    "    contents = target_file.read()\n"
   ]
  },
  {
   "cell_type": "code",
   "execution_count": 6,
   "metadata": {},
   "outputs": [
    {
     "data": {
      "text/plain": [
       "466552"
      ]
     },
     "execution_count": 6,
     "metadata": {},
     "output_type": "execute_result"
    }
   ],
   "source": [
    "words = contents.split(\"\\n\")\n",
    "len(words)"
   ]
  },
  {
   "cell_type": "code",
   "execution_count": 7,
   "metadata": {},
   "outputs": [
    {
     "data": {
      "text/plain": [
       "['2',\n",
       " '1080',\n",
       " '&c',\n",
       " '10-point',\n",
       " '10th',\n",
       " '11-point',\n",
       " '12-point',\n",
       " '16-point',\n",
       " '18-point',\n",
       " '1st']"
      ]
     },
     "execution_count": 7,
     "metadata": {},
     "output_type": "execute_result"
    }
   ],
   "source": [
    "words[:10]"
   ]
  },
  {
   "cell_type": "code",
   "execution_count": 8,
   "metadata": {},
   "outputs": [],
   "source": [
    "characters = \"asdfjkl;\"\n",
    "words_subset = []\n",
    "for word in words:\n",
    "    word = word.lower().strip()\n",
    "    char_flag = True\n",
    "    for char in word:\n",
    "        if char not in characters:\n",
    "            char_flag = False\n",
    "    if char_flag:\n",
    "        words_subset.append(word)\n"
   ]
  },
  {
   "cell_type": "code",
   "execution_count": 13,
   "metadata": {},
   "outputs": [
    {
     "data": {
      "text/plain": [
       "['aaa', 'aaaa', 'aaaaaa', 'aaal', 'aaas', 'aaf', 'aal', 'aals', 'aas', 'ada']"
      ]
     },
     "execution_count": 13,
     "metadata": {},
     "output_type": "execute_result"
    }
   ],
   "source": [
    "[word for word in words_subset if len(word) >= 3][:10]"
   ]
  },
  {
   "cell_type": "code",
   "execution_count": 14,
   "metadata": {},
   "outputs": [],
   "source": [
    "from typing import List\n",
    "\n",
    "\n",
    "def collect_words(target_characters: str) -> List[str]:\n",
    "    file_name = \"words.txt\"\n",
    "    with open(file_name, \"r\") as target_file:\n",
    "        contents = target_file.read()\n",
    "\n",
    "    words_subset = []\n",
    "    for word in words:\n",
    "        word = word.lower().strip()\n",
    "        char_flag = True\n",
    "        for char in word:\n",
    "            if char not in target_characters:\n",
    "                char_flag = False\n",
    "        if char_flag:\n",
    "            words_subset.append(word)\n",
    "\n",
    "    return words_subset\n"
   ]
  },
  {
   "cell_type": "code",
   "execution_count": 18,
   "metadata": {},
   "outputs": [],
   "source": [
    "from random import choice\n",
    "\n",
    "words = collect_words(\"asdfjkl;\")\n",
    "\n",
    "# create a few files containing these words\n",
    "num_files = 3\n",
    "num_words = 100\n",
    "for i in range(num_files):\n",
    "    file_name = \"words{}.txt\".format(i+1)\n",
    "    file_words = []\n",
    "    file_words_append = file_words.append\n",
    "    for _ in range(num_words):\n",
    "        file_words_append(choice(words))\n",
    "    with open(file_name, \"w\") as target_file:\n",
    "        target_file.write(\" \".join(file_words))\n"
   ]
  },
  {
   "cell_type": "code",
   "execution_count": null,
   "metadata": {},
   "outputs": [],
   "source": []
  }
 ],
 "metadata": {
  "kernelspec": {
   "display_name": "Python 3",
   "language": "python",
   "name": "python3"
  },
  "language_info": {
   "codemirror_mode": {
    "name": "ipython",
    "version": 3
   },
   "file_extension": ".py",
   "mimetype": "text/x-python",
   "name": "python",
   "nbconvert_exporter": "python",
   "pygments_lexer": "ipython3",
   "version": "3.6.4"
  }
 },
 "nbformat": 4,
 "nbformat_minor": 2
}
