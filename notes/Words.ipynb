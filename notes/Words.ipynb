{
 "cells": [
  {
   "cell_type": "markdown",
   "metadata": {},
   "source": [
    "## Words\n",
    "Looking for words in the dictionary that contain specific letters...\n",
    "\n",
    "There is a list of english words at https://github.com/dwyl/english-words\n",
    "\n",
    "I've donwloaded the words.txt file in this directory."
   ]
  },
  {
   "cell_type": "code",
   "execution_count": 1,
   "metadata": {},
   "outputs": [],
   "source": [
    "import os\n",
    "\n",
    "file_name = \"words.txt\"\n",
    "os.path.isfile(file_name)"
   ]
  },
  {
   "cell_type": "code",
   "execution_count": 2,
   "metadata": {},
   "outputs": [],
   "source": [
    "with open(file_name, \"r\") as target_file:\n",
    "    contents = target_file.read()\n"
   ]
  },
  {
   "cell_type": "code",
   "execution_count": 6,
   "metadata": {},
   "outputs": [
    {
     "data": {
      "text/plain": [
       "466552"
      ]
     },
     "execution_count": 6,
     "metadata": {},
     "output_type": "execute_result"
    }
   ],
   "source": [
    "words = contents.split(\"\\n\")\n",
    "len(words)"
   ]
  },
  {
   "cell_type": "code",
   "execution_count": 7,
   "metadata": {},
   "outputs": [
    {
     "data": {
      "text/plain": [
       "['2',\n",
       " '1080',\n",
       " '&c',\n",
       " '10-point',\n",
       " '10th',\n",
       " '11-point',\n",
       " '12-point',\n",
       " '16-point',\n",
       " '18-point',\n",
       " '1st']"
      ]
     },
     "execution_count": 7,
     "metadata": {},
     "output_type": "execute_result"
    }
   ],
   "source": [
    "words[:10]"
   ]
  },
  {
   "cell_type": "code",
   "execution_count": 8,
   "metadata": {},
   "outputs": [],
   "source": [
    "characters = \"asdfjkl;\"\n",
    "words_subset = []\n",
    "for word in words:\n",
    "    word = word.lower().strip()\n",
    "    char_flag = True\n",
    "    for char in word:\n",
    "        if char not in characters:\n",
    "            char_flag = False\n",
    "    if char_flag:\n",
    "        words_subset.append(word)\n"
   ]
  },
  {
   "cell_type": "code",
   "execution_count": 13,
   "metadata": {},
   "outputs": [
    {
     "data": {
      "text/plain": [
       "['aaa', 'aaaa', 'aaaaaa', 'aaal', 'aaas', 'aaf', 'aal', 'aals', 'aas', 'ada']"
      ]
     },
     "execution_count": 13,
     "metadata": {},
     "output_type": "execute_result"
    }
   ],
   "source": [
    "[word for word in words_subset if len(word) >= 3][:10]"
   ]
  },
  {
   "cell_type": "code",
   "execution_count": 14,
   "metadata": {},
   "outputs": [],
   "source": [
    "from typing import List\n",
    "\n",
    "\n",
    "def collect_words(target_characters: str) -> List[str]:\n",
    "    file_name = \"words.txt\"\n",
    "    with open(file_name, \"r\") as target_file:\n",
    "        contents = target_file.read()\n",
    "\n",
    "    words_subset = []\n",
    "    for word in words:\n",
    "        word = word.lower().strip()\n",
    "        char_flag = True\n",
    "        for char in word:\n",
    "            if char not in target_characters:\n",
    "                char_flag = False\n",
    "        if char_flag:\n",
    "            words_subset.append(word)\n",
    "\n",
    "    return words_subset\n"
   ]
  },
  {
   "cell_type": "code",
   "execution_count": 18,
   "metadata": {},
   "outputs": [],
   "source": [
    "from random import choice\n",
    "\n",
    "words = collect_words(\"asdfjkl;\")\n",
    "\n",
    "# create a few files containing these words\n",
    "num_files = 3\n",
    "num_words = 100\n",
    "for i in range(num_files):\n",
    "    file_name = \"words{}.txt\".format(i+1)\n",
    "    file_words = []\n",
    "    file_words_append = file_words.append\n",
    "    for _ in range(num_words):\n",
    "        file_words_append(choice(words))\n",
    "    with open(file_name, \"w\") as target_file:\n",
    "        target_file.write(\" \".join(file_words))\n"
   ]
  },
  {
   "cell_type": "markdown",
   "metadata": {},
   "source": [
    "***"
   ]
  },
  {
   "cell_type": "markdown",
   "metadata": {},
   "source": [
    "The word analytics has also been added to the pytypist package..."
   ]
  },
  {
   "cell_type": "code",
   "execution_count": 1,
   "metadata": {},
   "outputs": [
    {
     "data": {
      "text/plain": [
       "'C:\\\\Users\\\\Simon\\\\Desktop\\\\code\\\\pytypist\\\\notes'"
      ]
     },
     "execution_count": 1,
     "metadata": {},
     "output_type": "execute_result"
    }
   ],
   "source": [
    "import os\n",
    "curr_dire = os.getcwd()\n",
    "curr_dire"
   ]
  },
  {
   "cell_type": "code",
   "execution_count": 2,
   "metadata": {},
   "outputs": [
    {
     "data": {
      "text/plain": [
       "'C:\\\\Users\\\\Simon\\\\Desktop\\\\code\\\\pytypist\\\\notes\\\\..'"
      ]
     },
     "execution_count": 2,
     "metadata": {},
     "output_type": "execute_result"
    }
   ],
   "source": [
    "path = os.path.join(curr_dire, \"..\")\n",
    "path"
   ]
  },
  {
   "cell_type": "code",
   "execution_count": 3,
   "metadata": {},
   "outputs": [],
   "source": [
    "os.chdir(path)"
   ]
  },
  {
   "cell_type": "code",
   "execution_count": 4,
   "metadata": {},
   "outputs": [
    {
     "data": {
      "text/plain": [
       "['.coverage',\n",
       " '.git',\n",
       " '.gitignore',\n",
       " '.tox',\n",
       " '.vscode',\n",
       " 'env',\n",
       " 'LICENSE',\n",
       " 'main.py',\n",
       " 'notes',\n",
       " 'pytypist',\n",
       " 'pytypist.egg-info',\n",
       " 'README.md',\n",
       " 'requirements-dev.txt',\n",
       " 'requirements.txt',\n",
       " 'setup.py',\n",
       " 'tests',\n",
       " 'tox.ini']"
      ]
     },
     "execution_count": 4,
     "metadata": {},
     "output_type": "execute_result"
    }
   ],
   "source": [
    "os.listdir()"
   ]
  },
  {
   "cell_type": "code",
   "execution_count": 5,
   "metadata": {},
   "outputs": [],
   "source": [
    "import pytypist"
   ]
  },
  {
   "cell_type": "code",
   "execution_count": 6,
   "metadata": {},
   "outputs": [
    {
     "data": {
      "text/plain": [
       "['a', 'aal', 'aals', 'ad', 'addda', 'adds', 'adj', 'afd', 'aff', 'affa']"
      ]
     },
     "execution_count": 6,
     "metadata": {},
     "output_type": "execute_result"
    }
   ],
   "source": [
    "words = pytypist.words.collect_words_containing(\"asdfjkl;\")\n",
    "words[:10]"
   ]
  },
  {
   "cell_type": "code",
   "execution_count": 8,
   "metadata": {},
   "outputs": [
    {
     "data": {
      "text/plain": [
       "['aah',\n",
       " 'aahs',\n",
       " 'adhaka',\n",
       " 'adjag',\n",
       " 'aga',\n",
       " 'agad',\n",
       " 'agada',\n",
       " 'agal',\n",
       " 'agas',\n",
       " 'agha',\n",
       " 'aghas',\n",
       " 'agla',\n",
       " 'ahs',\n",
       " 'akasha',\n",
       " 'alga',\n",
       " 'algal',\n",
       " 'algas',\n",
       " 'asgd',\n",
       " 'ashfall',\n",
       " 'dagassa',\n",
       " 'dagga',\n",
       " 'daggas',\n",
       " 'dags',\n",
       " 'dah',\n",
       " 'dahls',\n",
       " 'dahs',\n",
       " 'dalaga',\n",
       " 'dgag',\n",
       " 'dha',\n",
       " 'dhak',\n",
       " 'dhaks',\n",
       " 'dhal',\n",
       " 'dhals',\n",
       " 'dkg',\n",
       " 'fagald',\n",
       " 'fags',\n",
       " 'fash',\n",
       " 'fg',\n",
       " 'flag',\n",
       " 'flagfall',\n",
       " 'flags',\n",
       " 'flash',\n",
       " 'gads',\n",
       " 'gaff',\n",
       " 'gaffs',\n",
       " 'gaga',\n",
       " 'gags',\n",
       " 'gaj',\n",
       " 'galagala',\n",
       " 'galah',\n",
       " 'galahads',\n",
       " 'galahs',\n",
       " 'galas',\n",
       " 'gallah',\n",
       " 'galls',\n",
       " 'gals',\n",
       " 'gash',\n",
       " 'glads',\n",
       " 'glaga',\n",
       " 'glagah',\n",
       " 'haaf',\n",
       " 'haafs',\n",
       " 'haak',\n",
       " 'hadada',\n",
       " 'hadal',\n",
       " 'hadj',\n",
       " 'hadjs',\n",
       " 'haf',\n",
       " 'hagada',\n",
       " 'haggadal',\n",
       " 'haggadas',\n",
       " 'hags',\n",
       " 'hah',\n",
       " 'haha',\n",
       " 'hahas',\n",
       " 'hahs',\n",
       " 'haj',\n",
       " 'hajj',\n",
       " 'hajjs',\n",
       " 'hala',\n",
       " 'halaka',\n",
       " 'halakha',\n",
       " 'halakhas',\n",
       " 'halal',\n",
       " 'halala',\n",
       " 'halalah',\n",
       " 'halalahs',\n",
       " 'halalas',\n",
       " 'halas',\n",
       " 'half',\n",
       " 'halfa',\n",
       " 'halkahs',\n",
       " 'hallah',\n",
       " 'hallahs',\n",
       " 'has',\n",
       " 'hash',\n",
       " 'hask',\n",
       " 'hdkf',\n",
       " 'hld',\n",
       " 'jagg',\n",
       " 'jaggs',\n",
       " 'jagla',\n",
       " 'jags',\n",
       " 'jah',\n",
       " 'jg',\n",
       " 'kaha',\n",
       " 'kahala',\n",
       " 'kallah',\n",
       " 'kashas',\n",
       " 'kashga',\n",
       " 'kgf',\n",
       " 'khaf',\n",
       " 'khafs',\n",
       " 'khaja',\n",
       " 'khalal',\n",
       " 'khalsah',\n",
       " 'khass',\n",
       " 'lag',\n",
       " 'lags',\n",
       " 'lah',\n",
       " 'lakh',\n",
       " 'lakhs',\n",
       " 'sadh',\n",
       " 'sadhaka',\n",
       " 'sagas',\n",
       " 'sags',\n",
       " 'sah',\n",
       " 'sahh',\n",
       " 'sash',\n",
       " 'sgd',\n",
       " 'sh',\n",
       " 'shad',\n",
       " 'shads',\n",
       " 'shag',\n",
       " 'shags',\n",
       " 'shahs',\n",
       " 'shakha',\n",
       " 'shall',\n",
       " 'shallal',\n",
       " 'shh',\n",
       " 'skag',\n",
       " 'skags',\n",
       " 'slag',\n",
       " 'slags',\n",
       " 'slash']"
      ]
     },
     "execution_count": 8,
     "metadata": {},
     "output_type": "execute_result"
    }
   ],
   "source": [
    "words = pytypist.words.collect_words_containing(\"asdfjkl;gh\", must_contain=\"gh\")\n",
    "words"
   ]
  },
  {
   "cell_type": "markdown",
   "metadata": {},
   "source": [
    "***"
   ]
  }
 ],
 "metadata": {
  "kernelspec": {
   "display_name": "pytypist",
   "language": "python",
   "name": "pytypist"
  },
  "language_info": {
   "codemirror_mode": {
    "name": "ipython",
    "version": 3
   },
   "file_extension": ".py",
   "mimetype": "text/x-python",
   "name": "python",
   "nbconvert_exporter": "python",
   "pygments_lexer": "ipython3",
   "version": "3.6.4"
  }
 },
 "nbformat": 4,
 "nbformat_minor": 2
}
