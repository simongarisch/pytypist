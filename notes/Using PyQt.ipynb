{
 "cells": [
  {
   "cell_type": "markdown",
   "metadata": {},
   "source": [
    "## Using PyQt\n",
    "Here is a minimal example using PyQt5."
   ]
  },
  {
   "cell_type": "code",
   "execution_count": 29,
   "metadata": {},
   "outputs": [],
   "source": [
    "%reset -f\n",
    "from PyQt5 import QtWidgets, QtGui, QtCore\n",
    "\n",
    "\n",
    "class App(QtWidgets.QMainWindow):\n",
    "\n",
    "    def __init__(self):\n",
    "        super().__init__()\n",
    "        self.setup_UI()\n",
    "        self.show()\n",
    "    \n",
    "    def setup_UI(self):\n",
    "        self.setWindowTitle(\"pytypist\")\n",
    "\n",
    "        frame = QtWidgets.QFrame(self)\n",
    "        self.setCentralWidget(frame)\n",
    "        \n",
    "        text = \"Some text here <br> And another line <br> And some more\"\n",
    "        text_widget = self.text_widget = QtWidgets.QTextEdit(text, frame)\n",
    "        button = self.button = QtWidgets.QPushButton(\"Push me!\", frame)\n",
    "\n",
    "        vbox = QtWidgets.QVBoxLayout(frame)\n",
    "        vbox.addWidget(text_widget)\n",
    "        vbox.addWidget(button)\n",
    "        \n",
    "        button.clicked.connect(self.on_click)\n",
    "\n",
    "    def on_click(self):\n",
    "        print(\"Push it real good!\")\n",
    "\n",
    "\n",
    "if __name__ == '__main__':\n",
    "    app = QtWidgets.QApplication([])\n",
    "    ex = App()\n",
    "    app.exec_()\n"
   ]
  },
  {
   "cell_type": "markdown",
   "metadata": {},
   "source": [
    "## Tracking progress as someone is typing\n",
    "Start by recording all text typed by the user. Overlay this with what is on the screen to get a score.\n",
    "\n",
    "See the [key enum](https://www.riverbankcomputing.com/static/Docs/PyQt4/qt.html#Key-enum) defined by PyQt"
   ]
  },
  {
   "cell_type": "code",
   "execution_count": 30,
   "metadata": {},
   "outputs": [
    {
     "data": {
      "text/plain": [
       "16777219"
      ]
     },
     "execution_count": 30,
     "metadata": {},
     "output_type": "execute_result"
    }
   ],
   "source": [
    "from PyQt5.QtCore import Qt\n",
    "\n",
    "Qt.Key_Backspace"
   ]
  },
  {
   "cell_type": "code",
   "execution_count": 32,
   "metadata": {},
   "outputs": [],
   "source": [
    "%reset -f\n",
    "from PyQt5 import QtWidgets, QtGui, QtCore\n",
    "\n",
    "\n",
    "class MyTextEdit(QtWidgets.QTextEdit):\n",
    "    def __init__(self, text, parent):\n",
    "        super().__init__(text, parent)\n",
    "        self.parent = parent\n",
    "        self.text_entered = \"\"\n",
    "\n",
    "    def keyPressEvent(self, event):\n",
    "        #print(event.key(), event.text())\n",
    "        if event.key() == QtCore.Qt.Key_Backspace:\n",
    "            if len(self.text_entered) > 0:\n",
    "                self.text_entered = self.text_entered[:-1]\n",
    "        else:\n",
    "            text = event.text()\n",
    "            self.text_entered += text\n",
    "        self.parent.setWindowTitle(self.text_entered)\n",
    "\n",
    "\n",
    "class App(QtWidgets.QMainWindow):\n",
    "    def __init__(self):\n",
    "        super().__init__()\n",
    "        self.setup_UI()\n",
    "        self.show()\n",
    "\n",
    "    def setup_UI(self):\n",
    "        text = \"Some text here. And another line. And some more\"\n",
    "        text_widget = self.text_widget = MyTextEdit(text, self)\n",
    "        self.setCentralWidget(text_widget)\n",
    "\n",
    "\n",
    "if __name__ == '__main__':\n",
    "    app = QtWidgets.QApplication([])\n",
    "    ex = App()\n",
    "    app.exec_()\n"
   ]
  },
  {
   "cell_type": "markdown",
   "metadata": {},
   "source": [
    "## Comparing this to our target text"
   ]
  },
  {
   "cell_type": "code",
   "execution_count": 68,
   "metadata": {},
   "outputs": [],
   "source": [
    "%reset -f\n",
    "from PyQt5 import QtWidgets, QtGui, QtCore\n",
    "\n",
    "\n",
    "class MyTextEdit(QtWidgets.QTextEdit):\n",
    "    def __init__(self, parent):\n",
    "        super().__init__(\"\", parent)\n",
    "        self.parent = parent\n",
    "\n",
    "    def set_target_text(self, text):\n",
    "        self.finished = False\n",
    "        self.text_entered = \"\"\n",
    "        self.text_target = text\n",
    "        self.update_display()\n",
    "\n",
    "    def keyPressEvent(self, event):\n",
    "        if self.finished:\n",
    "            return\n",
    "        if event.key() == QtCore.Qt.Key_Backspace:\n",
    "            if len(self.text_entered) > 0:\n",
    "                self.text_entered = self.text_entered[:-1]\n",
    "        else:\n",
    "            text = event.text()\n",
    "            self.text_entered += text\n",
    "        self.update_display()\n",
    "\n",
    "    def update_display(self):\n",
    "        text_entered = self.text_entered\n",
    "        text_target = self.text_target\n",
    "\n",
    "        len_entered = len(text_entered)\n",
    "        len_target = len(text_target)\n",
    "        if len_entered >= len_target:\n",
    "            self.finished = True\n",
    "            self.parent.setWindowTitle(\"Finished exercise.\")\n",
    "            \n",
    "\n",
    "        display_text = \"\"\n",
    "        for char_entered,char_target in zip(text_entered, text_target):\n",
    "            color = \"green\"\n",
    "            if char_entered != char_target:\n",
    "                color = \"red\"\n",
    "            display_text += '<span style=\"color:{}\">{}</span>'.format(color, char_target)\n",
    "        display_text += text_target[len_entered:]\n",
    "        self.setText(display_text)\n",
    "        \n",
    "        cursor = self.textCursor()  # PyQt5.QtGui.QTextCursor instance\n",
    "        cursor.setPosition(len_entered, QtGui.QTextCursor.MoveAnchor)\n",
    "        self.setTextCursor(cursor)\n",
    "\n",
    "\n",
    "class App(QtWidgets.QMainWindow):\n",
    "    def __init__(self):\n",
    "        super().__init__()\n",
    "        self.setup_UI()\n",
    "        self.show()\n",
    "\n",
    "    def setup_UI(self):\n",
    "        text_widget = self.text_widget = MyTextEdit(self)\n",
    "        text_widget.set_target_text(\"This is the text to enter!\")\n",
    "        self.setCentralWidget(text_widget)\n",
    "\n",
    "\n",
    "if __name__ == '__main__':\n",
    "    app = QtWidgets.QApplication([])\n",
    "    ex = App()\n",
    "    app.exec_()\n"
   ]
  },
  {
   "cell_type": "markdown",
   "metadata": {},
   "source": [
    "See the [QTextCursor](https://het.as.utexas.edu/HET/Software/PyQt/qtextcursor.html) docs for details on the [setPosition](https://het.as.utexas.edu/HET/Software/PyQt/qtextcursor.html#setPosition) method."
   ]
  },
  {
   "cell_type": "code",
   "execution_count": 58,
   "metadata": {},
   "outputs": [
    {
     "name": "stdout",
     "output_type": "stream",
     "text": [
      "Help on built-in function setPosition:\n",
      "\n",
      "setPosition(...)\n",
      "    setPosition(self, int, mode: QTextCursor.MoveMode = QTextCursor.MoveAnchor)\n",
      "\n"
     ]
    }
   ],
   "source": [
    "help(QtGui.QTextCursor.setPosition)"
   ]
  },
  {
   "cell_type": "code",
   "execution_count": null,
   "metadata": {},
   "outputs": [],
   "source": []
  }
 ],
 "metadata": {
  "@webio": {
   "lastCommId": null,
   "lastKernelId": null
  },
  "kernelspec": {
   "display_name": "py36",
   "language": "python",
   "name": "py36"
  },
  "language_info": {
   "codemirror_mode": {
    "name": "ipython",
    "version": 3
   },
   "file_extension": ".py",
   "mimetype": "text/x-python",
   "name": "python",
   "nbconvert_exporter": "python",
   "pygments_lexer": "ipython3",
   "version": "3.6.6"
  }
 },
 "nbformat": 4,
 "nbformat_minor": 2
}
