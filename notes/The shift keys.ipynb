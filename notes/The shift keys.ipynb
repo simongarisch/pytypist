{
 "cells": [
  {
   "cell_type": "markdown",
   "metadata": {},
   "source": [
    "## The shift keys"
   ]
  },
  {
   "cell_type": "code",
   "execution_count": 1,
   "metadata": {},
   "outputs": [
    {
     "data": {
      "text/plain": [
       "'C:\\\\Users\\\\simon.garisch\\\\Desktop\\\\git\\\\pytypist'"
      ]
     },
     "execution_count": 1,
     "metadata": {},
     "output_type": "execute_result"
    }
   ],
   "source": [
    "import os\n",
    "\n",
    "curr_dire = os.getcwd()\n",
    "path = os.path.join(curr_dire, \"..\")\n",
    "os.chdir(path)\n",
    "os.getcwd()"
   ]
  },
  {
   "cell_type": "code",
   "execution_count": 2,
   "metadata": {},
   "outputs": [],
   "source": [
    "import pytypist"
   ]
  },
  {
   "cell_type": "code",
   "execution_count": 7,
   "metadata": {},
   "outputs": [
    {
     "data": {
      "text/plain": [
       "['a', 'aal', 'aalii', 'aaliis', 'aals']"
      ]
     },
     "execution_count": 7,
     "metadata": {},
     "output_type": "execute_result"
    }
   ],
   "source": [
    "words = pytypist.words.collect_words_containing(\"jkl;asdfqwertyuiopzxcvbnm\", must_contain=\"\")\n",
    "words[:5]"
   ]
  },
  {
   "cell_type": "code",
   "execution_count": 8,
   "metadata": {},
   "outputs": [],
   "source": [
    "short_words = [w for w in words if len(w)>=3 and len(w)<=7]"
   ]
  },
  {
   "cell_type": "code",
   "execution_count": 5,
   "metadata": {},
   "outputs": [
    {
     "data": {
      "text/plain": [
       "['razzes',\n",
       " 'drears',\n",
       " 'begrett',\n",
       " 'zees',\n",
       " 'deserts',\n",
       " 'zarebas',\n",
       " 'egads',\n",
       " 'wafts',\n",
       " 'devests',\n",
       " 'wedded',\n",
       " 'axed',\n",
       " 'carat',\n",
       " 'farads',\n",
       " 'waggers',\n",
       " 'tarrass',\n",
       " 'saggers',\n",
       " 'graters',\n",
       " 'cedared',\n",
       " 'fetes',\n",
       " 'stere',\n",
       " 'degree',\n",
       " 'rasters',\n",
       " 'wad',\n",
       " 'feasted',\n",
       " 'raze',\n",
       " 'baas',\n",
       " 'verves',\n",
       " 'ecarte',\n",
       " 'serrate',\n",
       " 'begrett',\n",
       " 'caderas',\n",
       " 'asse',\n",
       " 'sadaqat',\n",
       " 'ast',\n",
       " 'retar',\n",
       " 'stager',\n",
       " 'awber',\n",
       " 'asswage',\n",
       " 'carates',\n",
       " 'stbd',\n",
       " 'teazer',\n",
       " 'defect',\n",
       " 'casas',\n",
       " 'greed',\n",
       " 'ragbags',\n",
       " 'razers',\n",
       " 'wares',\n",
       " 'qats',\n",
       " 'gras',\n",
       " 'evaders',\n",
       " 'abac',\n",
       " 'tzetzes',\n",
       " 'tabards',\n",
       " 'reve',\n",
       " 'bagge',\n",
       " 'derere',\n",
       " 'cragged',\n",
       " 'aer',\n",
       " 'vetted',\n",
       " 'debates',\n",
       " 'awards',\n",
       " 'easted',\n",
       " 'rabats',\n",
       " 'targes',\n",
       " 'cresc',\n",
       " 'wrest',\n",
       " 'beest',\n",
       " 'carafe',\n",
       " 'badder',\n",
       " 'carts',\n",
       " 'grafts',\n",
       " 'staab',\n",
       " 'sewage',\n",
       " 'esses',\n",
       " 'varved',\n",
       " 'gewgaws',\n",
       " 'awber',\n",
       " 'averted',\n",
       " 'facade',\n",
       " 'abegge',\n",
       " 'scares',\n",
       " 'serta',\n",
       " 'daver',\n",
       " 'svgs',\n",
       " 'beet',\n",
       " 'teasers',\n",
       " 'ferrets',\n",
       " 'veg',\n",
       " 'gabbart',\n",
       " 'scags',\n",
       " 'erred',\n",
       " 'gaffed',\n",
       " 'grave',\n",
       " 'abcess',\n",
       " 'wattage',\n",
       " 'vexed',\n",
       " 'rasers',\n",
       " 'gedder',\n",
       " 'dasewe',\n",
       " 'reweave']"
      ]
     },
     "execution_count": 5,
     "metadata": {},
     "output_type": "execute_result"
    }
   ],
   "source": [
    "from random import choice\n",
    "\n",
    "my_words = []\n",
    "for i in range(100):\n",
    "    word = choice(short_words)\n",
    "    my_words.append(word)\n",
    "\n",
    "my_words"
   ]
  },
  {
   "cell_type": "markdown",
   "metadata": {},
   "source": [
    "Capitalize the first letter..."
   ]
  },
  {
   "cell_type": "code",
   "execution_count": 6,
   "metadata": {},
   "outputs": [
    {
     "data": {
      "text/plain": [
       "'This'"
      ]
     },
     "execution_count": 6,
     "metadata": {},
     "output_type": "execute_result"
    }
   ],
   "source": [
    "def capitalize(word):\n",
    "    word_list = list(str(word).lower())\n",
    "    if len(word_list) == 0:\n",
    "        raise ValueError(\"Expected a word, not blank text.\")\n",
    "    word_list[0] = word_list[0].upper()\n",
    "    return \"\".join(word_list)\n",
    "\n",
    "capitalize(\"this\")"
   ]
  },
  {
   "cell_type": "code",
   "execution_count": 7,
   "metadata": {},
   "outputs": [
    {
     "data": {
      "text/plain": [
       "'Razzes Drears Begrett Zees Deserts Zarebas Egads Wafts Devests Wedded Axed Carat Farads Waggers Tarrass Saggers Graters Cedared Fetes Stere Degree Rasters Wad Feasted Raze Baas Verves Ecarte Serrate Begrett Caderas Asse Sadaqat Ast Retar Stager Awber Asswage Carates Stbd Teazer Defect Casas Greed Ragbags Razers Wares Qats Gras Evaders Abac Tzetzes Tabards Reve Bagge Derere Cragged Aer Vetted Debates Awards Easted Rabats Targes Cresc Wrest Beest Carafe Badder Carts Grafts Staab Sewage Esses Varved Gewgaws Awber Averted Facade Abegge Scares Serta Daver Svgs Beet Teasers Ferrets Veg Gabbart Scags Erred Gaffed Grave Abcess Wattage Vexed Rasers Gedder Dasewe Reweave'"
      ]
     },
     "execution_count": 7,
     "metadata": {},
     "output_type": "execute_result"
    }
   ],
   "source": [
    "capitalized_words = []\n",
    "for word in my_words:\n",
    "    capitalized_words.append(capitalize(word))\n",
    "\n",
    "content = \" \".join(capitalized_words)\n",
    "content"
   ]
  },
  {
   "cell_type": "code",
   "execution_count": 8,
   "metadata": {},
   "outputs": [],
   "source": [
    "file_name = \"Left Shift Home Row.txt\"\n",
    "file_path = os.path.join(curr_dire, file_name)\n",
    "\n",
    "with open (file_path, \"w\") as target_file:\n",
    "    target_file.write(content)"
   ]
  },
  {
   "cell_type": "markdown",
   "metadata": {},
   "source": [
    "***"
   ]
  }
 ],
 "metadata": {
  "@webio": {
   "lastCommId": null,
   "lastKernelId": null
  },
  "kernelspec": {
   "display_name": "pytypist",
   "language": "python",
   "name": "pytypist"
  },
  "language_info": {
   "codemirror_mode": {
    "name": "ipython",
    "version": 3
   },
   "file_extension": ".py",
   "mimetype": "text/x-python",
   "name": "python",
   "nbconvert_exporter": "python",
   "pygments_lexer": "ipython3",
   "version": "3.6.6"
  }
 },
 "nbformat": 4,
 "nbformat_minor": 2
}
