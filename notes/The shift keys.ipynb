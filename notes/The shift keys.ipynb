{
 "cells": [
  {
   "cell_type": "markdown",
   "metadata": {},
   "source": [
    "## The shift keys"
   ]
  },
  {
   "cell_type": "code",
   "execution_count": 1,
   "metadata": {},
   "outputs": [
    {
     "data": {
      "text/plain": [
       "'C:\\\\Users\\\\simon.garisch\\\\Desktop\\\\git\\\\pytypist'"
      ]
     },
     "execution_count": 1,
     "metadata": {},
     "output_type": "execute_result"
    }
   ],
   "source": [
    "import os\n",
    "\n",
    "curr_dire = os.getcwd()\n",
    "path = os.path.join(curr_dire, \"..\")\n",
    "os.chdir(path)\n",
    "os.getcwd()"
   ]
  },
  {
   "cell_type": "code",
   "execution_count": 2,
   "metadata": {},
   "outputs": [],
   "source": [
    "import pytypist"
   ]
  },
  {
   "cell_type": "code",
   "execution_count": 3,
   "metadata": {},
   "outputs": [
    {
     "data": {
      "text/plain": [
       "['2', '1080', '&c', '10-point', '10th']"
      ]
     },
     "execution_count": 3,
     "metadata": {},
     "output_type": "execute_result"
    }
   ],
   "source": [
    "words = pytypist.words.collect_words_containing(\"hjkl;yuiopnm\", must_contain=\"\")\n",
    "words = pytypist.words.collect_words()\n",
    "words[:5]"
   ]
  },
  {
   "cell_type": "code",
   "execution_count": 4,
   "metadata": {},
   "outputs": [],
   "source": [
    "short_words = [w for w in words if len(w)>=3 and len(w)<=7]"
   ]
  },
  {
   "cell_type": "code",
   "execution_count": 13,
   "metadata": {},
   "outputs": [],
   "source": [
    "# filter only those that require the left shift\n",
    "short_words = [\n",
    "    word for word in short_words\n",
    "    if word[0] in \"hjklyuiopnm\"\n",
    "    and \"-\" not in word\n",
    "    and \"\\'\" not in word\n",
    "    and \".\" not in word\n",
    "]"
   ]
  },
  {
   "cell_type": "code",
   "execution_count": 14,
   "metadata": {},
   "outputs": [
    {
     "data": {
      "text/plain": [
       "['paveed',\n",
       " 'heaved',\n",
       " 'mescals',\n",
       " 'peddles',\n",
       " 'packers',\n",
       " 'myrrhy',\n",
       " 'pinkly',\n",
       " 'magasin',\n",
       " 'plastid',\n",
       " 'nicety',\n",
       " 'upsends',\n",
       " 'yippie',\n",
       " 'mallear',\n",
       " 'nunhood',\n",
       " 'liar',\n",
       " 'unifier',\n",
       " 'legumen',\n",
       " 'khanjar',\n",
       " 'larries',\n",
       " 'phased',\n",
       " 'noun',\n",
       " 'lasso',\n",
       " 'piki',\n",
       " 'pentice',\n",
       " 'mooting',\n",
       " 'uploads',\n",
       " 'kalon',\n",
       " 'inwards',\n",
       " 'ostsis',\n",
       " 'prabble',\n",
       " 'jills',\n",
       " 'pricket',\n",
       " 'ludo',\n",
       " 'mujiks',\n",
       " 'pitmen',\n",
       " 'linje',\n",
       " 'leaver',\n",
       " 'idiasm',\n",
       " 'msec',\n",
       " 'kotwal',\n",
       " 'yielder',\n",
       " 'mmmm',\n",
       " 'knobbly',\n",
       " 'impetus',\n",
       " 'hustle',\n",
       " 'morgay',\n",
       " 'mutate',\n",
       " 'ppl',\n",
       " 'overput',\n",
       " 'horny',\n",
       " 'lacks',\n",
       " 'premium',\n",
       " 'iwberry',\n",
       " 'pranky',\n",
       " 'untone',\n",
       " 'outsing',\n",
       " 'hypped',\n",
       " 'ingeny',\n",
       " 'jailed',\n",
       " 'lede',\n",
       " 'protype',\n",
       " 'petalon',\n",
       " 'upsend',\n",
       " 'picaras',\n",
       " 'yok',\n",
       " 'karmas',\n",
       " 'knower',\n",
       " 'hutches',\n",
       " 'ivied',\n",
       " 'unifies',\n",
       " 'jawy',\n",
       " 'jig',\n",
       " 'looky',\n",
       " 'kahunas',\n",
       " 'pearler',\n",
       " 'josser',\n",
       " 'heild',\n",
       " 'inring',\n",
       " 'perine',\n",
       " 'uveous',\n",
       " 'kirs',\n",
       " 'hoult',\n",
       " 'lewty',\n",
       " 'propons',\n",
       " 'incus',\n",
       " 'milacre',\n",
       " 'mealing',\n",
       " 'hoster',\n",
       " 'upknell',\n",
       " 'nooser',\n",
       " 'keup',\n",
       " 'hobby',\n",
       " 'nairy',\n",
       " 'plagose',\n",
       " 'ouverte',\n",
       " 'uakari',\n",
       " 'ingulfs',\n",
       " 'moblike',\n",
       " 'humates',\n",
       " 'haikai']"
      ]
     },
     "execution_count": 14,
     "metadata": {},
     "output_type": "execute_result"
    }
   ],
   "source": [
    "from random import choice\n",
    "\n",
    "my_words = []\n",
    "for i in range(100):\n",
    "    word = choice(short_words)\n",
    "    my_words.append(word)\n",
    "\n",
    "my_words"
   ]
  },
  {
   "cell_type": "markdown",
   "metadata": {},
   "source": [
    "Capitalize the first letter..."
   ]
  },
  {
   "cell_type": "code",
   "execution_count": 15,
   "metadata": {},
   "outputs": [
    {
     "data": {
      "text/plain": [
       "'Paveed Heaved Mescals Peddles Packers Myrrhy Pinkly Magasin Plastid Nicety Upsends Yippie Mallear Nunhood Liar Unifier Legumen Khanjar Larries Phased Noun Lasso Piki Pentice Mooting Uploads Kalon Inwards Ostsis Prabble Jills Pricket Ludo Mujiks Pitmen Linje Leaver Idiasm Msec Kotwal Yielder Mmmm Knobbly Impetus Hustle Morgay Mutate Ppl Overput Horny Lacks Premium Iwberry Pranky Untone Outsing Hypped Ingeny Jailed Lede Protype Petalon Upsend Picaras Yok Karmas Knower Hutches Ivied Unifies Jawy Jig Looky Kahunas Pearler Josser Heild Inring Perine Uveous Kirs Hoult Lewty Propons Incus Milacre Mealing Hoster Upknell Nooser Keup Hobby Nairy Plagose Ouverte Uakari Ingulfs Moblike Humates Haikai'"
      ]
     },
     "execution_count": 15,
     "metadata": {},
     "output_type": "execute_result"
    }
   ],
   "source": [
    "from pytypist.words import capitalize\n",
    "\n",
    "capitalized_words = []\n",
    "for word in my_words:\n",
    "    capitalized_words.append(capitalize(word))\n",
    "\n",
    "content = \" \".join(capitalized_words)\n",
    "content"
   ]
  },
  {
   "cell_type": "code",
   "execution_count": 16,
   "metadata": {},
   "outputs": [],
   "source": [
    "file_name = \"Left Shift Practice.txt\"\n",
    "file_path = os.path.join(curr_dire, file_name)\n",
    "\n",
    "with open (file_path, \"w\") as target_file:\n",
    "    target_file.write(content)"
   ]
  },
  {
   "cell_type": "markdown",
   "metadata": {},
   "source": [
    "***"
   ]
  }
 ],
 "metadata": {
  "@webio": {
   "lastCommId": null,
   "lastKernelId": null
  },
  "kernelspec": {
   "display_name": "pytypist",
   "language": "python",
   "name": "pytypist"
  },
  "language_info": {
   "codemirror_mode": {
    "name": "ipython",
    "version": 3
   },
   "file_extension": ".py",
   "mimetype": "text/x-python",
   "name": "python",
   "nbconvert_exporter": "python",
   "pygments_lexer": "ipython3",
   "version": "3.6.6"
  }
 },
 "nbformat": 4,
 "nbformat_minor": 2
}
