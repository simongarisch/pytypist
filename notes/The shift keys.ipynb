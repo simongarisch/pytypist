{
 "cells": [
  {
   "cell_type": "markdown",
   "metadata": {},
   "source": [
    "## The shift keys"
   ]
  },
  {
   "cell_type": "code",
   "execution_count": 1,
   "metadata": {},
   "outputs": [
    {
     "data": {
      "text/plain": [
       "'C:\\\\Users\\\\simon.garisch\\\\Desktop\\\\git\\\\pytypist'"
      ]
     },
     "execution_count": 1,
     "metadata": {},
     "output_type": "execute_result"
    }
   ],
   "source": [
    "import os\n",
    "\n",
    "curr_dire = os.getcwd()\n",
    "path = os.path.join(curr_dire, \"..\")\n",
    "os.chdir(path)\n",
    "os.getcwd()"
   ]
  },
  {
   "cell_type": "code",
   "execution_count": 2,
   "metadata": {},
   "outputs": [],
   "source": [
    "import pytypist"
   ]
  },
  {
   "cell_type": "code",
   "execution_count": 3,
   "metadata": {},
   "outputs": [
    {
     "data": {
      "text/plain": [
       "['a', 'ad', 'addda', 'adds', 'afd']"
      ]
     },
     "execution_count": 3,
     "metadata": {},
     "output_type": "execute_result"
    }
   ],
   "source": [
    "words = pytypist.words.collect_words_containing(\"asdf\", must_contain=\"\")\n",
    "words[:5]"
   ]
  },
  {
   "cell_type": "code",
   "execution_count": 4,
   "metadata": {},
   "outputs": [],
   "source": [
    "short_words = [w for w in words if len(w)>=3 and len(w)<=7]"
   ]
  },
  {
   "cell_type": "code",
   "execution_count": 5,
   "metadata": {},
   "outputs": [
    {
     "data": {
      "text/plain": [
       "['dads',\n",
       " 'faff',\n",
       " 'adds',\n",
       " 'afd',\n",
       " 'afd',\n",
       " 'aff',\n",
       " 'dads',\n",
       " 'aff',\n",
       " 'faff',\n",
       " 'daffs',\n",
       " 'dadas',\n",
       " 'addda',\n",
       " 'afd',\n",
       " 'sasa',\n",
       " 'fass',\n",
       " 'sasa',\n",
       " 'dadas',\n",
       " 'faff',\n",
       " 'dadas',\n",
       " 'daff',\n",
       " 'addda',\n",
       " 'fass',\n",
       " 'afd',\n",
       " 'adds',\n",
       " 'faff',\n",
       " 'dadas',\n",
       " 'dadas',\n",
       " 'affa',\n",
       " 'daff',\n",
       " 'fass',\n",
       " 'sasa',\n",
       " 'fads',\n",
       " 'dads',\n",
       " 'faff',\n",
       " 'daffs',\n",
       " 'daff',\n",
       " 'faff',\n",
       " 'addda',\n",
       " 'sasa',\n",
       " 'daffs',\n",
       " 'addda',\n",
       " 'fass',\n",
       " 'faff',\n",
       " 'adds',\n",
       " 'daffs',\n",
       " 'sasa',\n",
       " 'sasa',\n",
       " 'affa',\n",
       " 'fads',\n",
       " 'fass',\n",
       " 'afd',\n",
       " 'afd',\n",
       " 'affa',\n",
       " 'aff',\n",
       " 'aff',\n",
       " 'aff',\n",
       " 'daff',\n",
       " 'dadas',\n",
       " 'affa',\n",
       " 'faff',\n",
       " 'daff',\n",
       " 'addda',\n",
       " 'sasa',\n",
       " 'aff',\n",
       " 'dadas',\n",
       " 'fads',\n",
       " 'aff',\n",
       " 'adds',\n",
       " 'daffs',\n",
       " 'sasa',\n",
       " 'fass',\n",
       " 'dads',\n",
       " 'addda',\n",
       " 'sasa',\n",
       " 'addda',\n",
       " 'dads',\n",
       " 'daff',\n",
       " 'dads',\n",
       " 'fads',\n",
       " 'daffs',\n",
       " 'addda',\n",
       " 'adds',\n",
       " 'afd',\n",
       " 'aff',\n",
       " 'fass',\n",
       " 'addda',\n",
       " 'daff',\n",
       " 'adds',\n",
       " 'adds',\n",
       " 'fass',\n",
       " 'adds',\n",
       " 'afd',\n",
       " 'faff',\n",
       " 'sasa',\n",
       " 'fass',\n",
       " 'affa',\n",
       " 'fads',\n",
       " 'adds',\n",
       " 'afd',\n",
       " 'daffs']"
      ]
     },
     "execution_count": 5,
     "metadata": {},
     "output_type": "execute_result"
    }
   ],
   "source": [
    "from random import choice\n",
    "\n",
    "my_words = []\n",
    "for i in range(100):\n",
    "    word = choice(short_words)\n",
    "    my_words.append(word)\n",
    "\n",
    "my_words"
   ]
  },
  {
   "cell_type": "markdown",
   "metadata": {},
   "source": [
    "Capitalize the first letter..."
   ]
  },
  {
   "cell_type": "code",
   "execution_count": 16,
   "metadata": {},
   "outputs": [
    {
     "data": {
      "text/plain": [
       "'This'"
      ]
     },
     "execution_count": 16,
     "metadata": {},
     "output_type": "execute_result"
    }
   ],
   "source": [
    "def capitalize(word):\n",
    "    word_list = list(str(word).lower())\n",
    "    if len(word_list) == 0:\n",
    "        raise ValueError(\"Expected a word, not blank text.\")\n",
    "    word_list[0] = word_list[0].upper()\n",
    "    return \"\".join(word_list)\n",
    "\n",
    "capitalize(\"this\")"
   ]
  },
  {
   "cell_type": "code",
   "execution_count": 20,
   "metadata": {},
   "outputs": [
    {
     "data": {
      "text/plain": [
       "'Dads Faff Adds Afd Afd Aff Dads Aff Faff Daffs Dadas Addda Afd Sasa Fass Sasa Dadas Faff Dadas Daff Addda Fass Afd Adds Faff Dadas Dadas Affa Daff Fass Sasa Fads Dads Faff Daffs Daff Faff Addda Sasa Daffs Addda Fass Faff Adds Daffs Sasa Sasa Affa Fads Fass Afd Afd Affa Aff Aff Aff Daff Dadas Affa Faff Daff Addda Sasa Aff Dadas Fads Aff Adds Daffs Sasa Fass Dads Addda Sasa Addda Dads Daff Dads Fads Daffs Addda Adds Afd Aff Fass Addda Daff Adds Adds Fass Adds Afd Faff Sasa Fass Affa Fads Adds Afd Daffs'"
      ]
     },
     "execution_count": 20,
     "metadata": {},
     "output_type": "execute_result"
    }
   ],
   "source": [
    "capitalized_words = []\n",
    "for word in my_words:\n",
    "    capitalized_words.append(capitalize(word))\n",
    "\n",
    "content = \" \".join(capitalized_words)\n",
    "content"
   ]
  },
  {
   "cell_type": "code",
   "execution_count": 21,
   "metadata": {},
   "outputs": [],
   "source": [
    "file_name = \"Right Shift Home Row.txt\"\n",
    "file_path = os.path.join(curr_dire, file_name)\n",
    "\n",
    "with open (file_path, \"w\") as target_file:\n",
    "    target_file.write(content)"
   ]
  },
  {
   "cell_type": "markdown",
   "metadata": {},
   "source": [
    "***"
   ]
  }
 ],
 "metadata": {
  "@webio": {
   "lastCommId": null,
   "lastKernelId": null
  },
  "kernelspec": {
   "display_name": "pytypist",
   "language": "python",
   "name": "pytypist"
  },
  "language_info": {
   "codemirror_mode": {
    "name": "ipython",
    "version": 3
   },
   "file_extension": ".py",
   "mimetype": "text/x-python",
   "name": "python",
   "nbconvert_exporter": "python",
   "pygments_lexer": "ipython3",
   "version": "3.6.6"
  }
 },
 "nbformat": 4,
 "nbformat_minor": 2
}
